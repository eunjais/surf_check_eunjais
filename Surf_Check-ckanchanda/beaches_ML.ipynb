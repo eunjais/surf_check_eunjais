{
 "cells": [
  {
   "cell_type": "markdown",
   "metadata": {},
   "source": [
    "# Surf_Check_ML"
   ]
  },
  {
   "cell_type": "code",
   "execution_count": 50,
   "metadata": {},
   "outputs": [],
   "source": [
    "# Initial imports\n",
    "import pandas as pd\n",
    "import hvplot.pandas\n",
    "import plotly.express as px\n",
    "from sklearn.preprocessing import StandardScaler, MinMaxScaler\n",
    "from sklearn.decomposition import PCA\n",
    "from sklearn.cluster import KMeans"
   ]
  },
  {
   "cell_type": "code",
   "execution_count": 51,
   "metadata": {},
   "outputs": [
    {
     "data": {
      "text/html": [
       "<div>\n",
       "<style scoped>\n",
       "    .dataframe tbody tr th:only-of-type {\n",
       "        vertical-align: middle;\n",
       "    }\n",
       "\n",
       "    .dataframe tbody tr th {\n",
       "        vertical-align: top;\n",
       "    }\n",
       "\n",
       "    .dataframe thead th {\n",
       "        text-align: right;\n",
       "    }\n",
       "</style>\n",
       "<table border=\"1\" class=\"dataframe\">\n",
       "  <thead>\n",
       "    <tr style=\"text-align: right;\">\n",
       "      <th></th>\n",
       "      <th>Beach_ID</th>\n",
       "      <th>Beach_Name</th>\n",
       "      <th>Latitude</th>\n",
       "      <th>Longitude</th>\n",
       "      <th>Sunrise</th>\n",
       "      <th>Sunset</th>\n",
       "      <th>Weather_Description</th>\n",
       "      <th>Temperature</th>\n",
       "      <th>Water_Temperature</th>\n",
       "      <th>Cloud_Cover</th>\n",
       "      <th>Wind_Speed</th>\n",
       "      <th>Wave_Height</th>\n",
       "    </tr>\n",
       "  </thead>\n",
       "  <tbody>\n",
       "    <tr>\n",
       "      <th>0</th>\n",
       "      <td>0</td>\n",
       "      <td>Imperial Beach</td>\n",
       "      <td>32.575831</td>\n",
       "      <td>-117.126577</td>\n",
       "      <td>07:07 AM</td>\n",
       "      <td>05:57 PM</td>\n",
       "      <td>Patchy rain possible</td>\n",
       "      <td>62</td>\n",
       "      <td>67</td>\n",
       "      <td>73</td>\n",
       "      <td>12</td>\n",
       "      <td>3.0</td>\n",
       "    </tr>\n",
       "    <tr>\n",
       "      <th>1</th>\n",
       "      <td>1</td>\n",
       "      <td>Border Field State Park</td>\n",
       "      <td>32.544940</td>\n",
       "      <td>-117.122341</td>\n",
       "      <td>07:07 AM</td>\n",
       "      <td>05:57 PM</td>\n",
       "      <td>Patchy rain possible</td>\n",
       "      <td>62</td>\n",
       "      <td>67</td>\n",
       "      <td>70</td>\n",
       "      <td>12</td>\n",
       "      <td>3.0</td>\n",
       "    </tr>\n",
       "    <tr>\n",
       "      <th>2</th>\n",
       "      <td>2</td>\n",
       "      <td>Pelican State Beach</td>\n",
       "      <td>41.992395</td>\n",
       "      <td>-124.209664</td>\n",
       "      <td>07:52 AM</td>\n",
       "      <td>06:09 PM</td>\n",
       "      <td>Light rain shower</td>\n",
       "      <td>48</td>\n",
       "      <td>52</td>\n",
       "      <td>100</td>\n",
       "      <td>4</td>\n",
       "      <td>10.5</td>\n",
       "    </tr>\n",
       "    <tr>\n",
       "      <th>3</th>\n",
       "      <td>3</td>\n",
       "      <td>Crescent Beach</td>\n",
       "      <td>41.728363</td>\n",
       "      <td>-124.153178</td>\n",
       "      <td>07:51 AM</td>\n",
       "      <td>06:10 PM</td>\n",
       "      <td>Light rain shower</td>\n",
       "      <td>46</td>\n",
       "      <td>51</td>\n",
       "      <td>100</td>\n",
       "      <td>6</td>\n",
       "      <td>7.9</td>\n",
       "    </tr>\n",
       "    <tr>\n",
       "      <th>4</th>\n",
       "      <td>4</td>\n",
       "      <td>Redwood National Park</td>\n",
       "      <td>41.208970</td>\n",
       "      <td>-124.119056</td>\n",
       "      <td>07:49 AM</td>\n",
       "      <td>06:11 PM</td>\n",
       "      <td>Patchy rain possible</td>\n",
       "      <td>47</td>\n",
       "      <td>52</td>\n",
       "      <td>86</td>\n",
       "      <td>7</td>\n",
       "      <td>9.5</td>\n",
       "    </tr>\n",
       "  </tbody>\n",
       "</table>\n",
       "</div>"
      ],
      "text/plain": [
       "   Beach_ID               Beach_Name   Latitude   Longitude   Sunrise  \\\n",
       "0         0           Imperial Beach  32.575831 -117.126577  07:07 AM   \n",
       "1         1  Border Field State Park  32.544940 -117.122341  07:07 AM   \n",
       "2         2      Pelican State Beach  41.992395 -124.209664  07:52 AM   \n",
       "3         3           Crescent Beach  41.728363 -124.153178  07:51 AM   \n",
       "4         4    Redwood National Park  41.208970 -124.119056  07:49 AM   \n",
       "\n",
       "     Sunset   Weather_Description  Temperature  Water_Temperature  \\\n",
       "0  05:57 PM  Patchy rain possible           62                 67   \n",
       "1  05:57 PM  Patchy rain possible           62                 67   \n",
       "2  06:09 PM     Light rain shower           48                 52   \n",
       "3  06:10 PM     Light rain shower           46                 51   \n",
       "4  06:11 PM  Patchy rain possible           47                 52   \n",
       "\n",
       "   Cloud_Cover  Wind_Speed  Wave_Height  \n",
       "0           73          12          3.0  \n",
       "1           70          12          3.0  \n",
       "2          100           4         10.5  \n",
       "3          100           6          7.9  \n",
       "4           86           7          9.5  "
      ]
     },
     "execution_count": 51,
     "metadata": {},
     "output_type": "execute_result"
    }
   ],
   "source": [
    "# Load the beach_data.csv dataset.\n",
    "file_path = \"Resources/beaches_data.csv\"\n",
    "beaches_df = pd.read_csv(file_path)\n",
    "beaches_df.head()"
   ]
  },
  {
   "cell_type": "code",
   "execution_count": 52,
   "metadata": {},
   "outputs": [
    {
     "data": {
      "text/html": [
       "<div>\n",
       "<style scoped>\n",
       "    .dataframe tbody tr th:only-of-type {\n",
       "        vertical-align: middle;\n",
       "    }\n",
       "\n",
       "    .dataframe tbody tr th {\n",
       "        vertical-align: top;\n",
       "    }\n",
       "\n",
       "    .dataframe thead th {\n",
       "        text-align: right;\n",
       "    }\n",
       "</style>\n",
       "<table border=\"1\" class=\"dataframe\">\n",
       "  <thead>\n",
       "    <tr style=\"text-align: right;\">\n",
       "      <th></th>\n",
       "      <th>Beach_Name</th>\n",
       "      <th>Latitude</th>\n",
       "      <th>Longitude</th>\n",
       "      <th>Sunrise</th>\n",
       "      <th>Sunset</th>\n",
       "      <th>Weather_Description</th>\n",
       "      <th>Temperature</th>\n",
       "      <th>Water_Temperature</th>\n",
       "      <th>Cloud_Cover</th>\n",
       "      <th>Wind_Speed</th>\n",
       "      <th>Wave_Height</th>\n",
       "    </tr>\n",
       "    <tr>\n",
       "      <th>Beach_ID</th>\n",
       "      <th></th>\n",
       "      <th></th>\n",
       "      <th></th>\n",
       "      <th></th>\n",
       "      <th></th>\n",
       "      <th></th>\n",
       "      <th></th>\n",
       "      <th></th>\n",
       "      <th></th>\n",
       "      <th></th>\n",
       "      <th></th>\n",
       "    </tr>\n",
       "  </thead>\n",
       "  <tbody>\n",
       "    <tr>\n",
       "      <th>0</th>\n",
       "      <td>Imperial Beach</td>\n",
       "      <td>32.575831</td>\n",
       "      <td>-117.126577</td>\n",
       "      <td>07:07 AM</td>\n",
       "      <td>05:57 PM</td>\n",
       "      <td>Patchy rain possible</td>\n",
       "      <td>62</td>\n",
       "      <td>67</td>\n",
       "      <td>73</td>\n",
       "      <td>12</td>\n",
       "      <td>3.0</td>\n",
       "    </tr>\n",
       "    <tr>\n",
       "      <th>1</th>\n",
       "      <td>Border Field State Park</td>\n",
       "      <td>32.544940</td>\n",
       "      <td>-117.122341</td>\n",
       "      <td>07:07 AM</td>\n",
       "      <td>05:57 PM</td>\n",
       "      <td>Patchy rain possible</td>\n",
       "      <td>62</td>\n",
       "      <td>67</td>\n",
       "      <td>70</td>\n",
       "      <td>12</td>\n",
       "      <td>3.0</td>\n",
       "    </tr>\n",
       "    <tr>\n",
       "      <th>2</th>\n",
       "      <td>Pelican State Beach</td>\n",
       "      <td>41.992395</td>\n",
       "      <td>-124.209664</td>\n",
       "      <td>07:52 AM</td>\n",
       "      <td>06:09 PM</td>\n",
       "      <td>Light rain shower</td>\n",
       "      <td>48</td>\n",
       "      <td>52</td>\n",
       "      <td>100</td>\n",
       "      <td>4</td>\n",
       "      <td>10.5</td>\n",
       "    </tr>\n",
       "    <tr>\n",
       "      <th>3</th>\n",
       "      <td>Crescent Beach</td>\n",
       "      <td>41.728363</td>\n",
       "      <td>-124.153178</td>\n",
       "      <td>07:51 AM</td>\n",
       "      <td>06:10 PM</td>\n",
       "      <td>Light rain shower</td>\n",
       "      <td>46</td>\n",
       "      <td>51</td>\n",
       "      <td>100</td>\n",
       "      <td>6</td>\n",
       "      <td>7.9</td>\n",
       "    </tr>\n",
       "    <tr>\n",
       "      <th>4</th>\n",
       "      <td>Redwood National Park</td>\n",
       "      <td>41.208970</td>\n",
       "      <td>-124.119056</td>\n",
       "      <td>07:49 AM</td>\n",
       "      <td>06:11 PM</td>\n",
       "      <td>Patchy rain possible</td>\n",
       "      <td>47</td>\n",
       "      <td>52</td>\n",
       "      <td>86</td>\n",
       "      <td>7</td>\n",
       "      <td>9.5</td>\n",
       "    </tr>\n",
       "  </tbody>\n",
       "</table>\n",
       "</div>"
      ],
      "text/plain": [
       "                       Beach_Name   Latitude   Longitude   Sunrise    Sunset  \\\n",
       "Beach_ID                                                                       \n",
       "0                  Imperial Beach  32.575831 -117.126577  07:07 AM  05:57 PM   \n",
       "1         Border Field State Park  32.544940 -117.122341  07:07 AM  05:57 PM   \n",
       "2             Pelican State Beach  41.992395 -124.209664  07:52 AM  06:09 PM   \n",
       "3                  Crescent Beach  41.728363 -124.153178  07:51 AM  06:10 PM   \n",
       "4           Redwood National Park  41.208970 -124.119056  07:49 AM  06:11 PM   \n",
       "\n",
       "           Weather_Description  Temperature  Water_Temperature  Cloud_Cover  \\\n",
       "Beach_ID                                                                      \n",
       "0         Patchy rain possible           62                 67           73   \n",
       "1         Patchy rain possible           62                 67           70   \n",
       "2            Light rain shower           48                 52          100   \n",
       "3            Light rain shower           46                 51          100   \n",
       "4         Patchy rain possible           47                 52           86   \n",
       "\n",
       "          Wind_Speed  Wave_Height  \n",
       "Beach_ID                           \n",
       "0                 12          3.0  \n",
       "1                 12          3.0  \n",
       "2                  4         10.5  \n",
       "3                  6          7.9  \n",
       "4                  7          9.5  "
      ]
     },
     "execution_count": 52,
     "metadata": {},
     "output_type": "execute_result"
    }
   ],
   "source": [
    "# Renamed \"Unnamed: 0\" column and set it as the index\n",
    "beaches_df = beaches_df.rename(columns={'Unnamed: 0': ''})\n",
    "beaches_df = beaches_df.set_index('Beach_ID')\n",
    "beaches_df.head()"
   ]
  },
  {
   "cell_type": "code",
   "execution_count": 53,
   "metadata": {},
   "outputs": [
    {
     "name": "stdout",
     "output_type": "stream",
     "text": [
      "(249, 11)\n"
     ]
    }
   ],
   "source": [
    "print(beaches_df.shape)"
   ]
  },
  {
   "cell_type": "code",
   "execution_count": 54,
   "metadata": {},
   "outputs": [
    {
     "data": {
      "text/html": [
       "<div>\n",
       "<style scoped>\n",
       "    .dataframe tbody tr th:only-of-type {\n",
       "        vertical-align: middle;\n",
       "    }\n",
       "\n",
       "    .dataframe tbody tr th {\n",
       "        vertical-align: top;\n",
       "    }\n",
       "\n",
       "    .dataframe thead th {\n",
       "        text-align: right;\n",
       "    }\n",
       "</style>\n",
       "<table border=\"1\" class=\"dataframe\">\n",
       "  <thead>\n",
       "    <tr style=\"text-align: right;\">\n",
       "      <th></th>\n",
       "      <th>Beach_Name</th>\n",
       "      <th>Wave_Height</th>\n",
       "    </tr>\n",
       "    <tr>\n",
       "      <th>Beach_ID</th>\n",
       "      <th></th>\n",
       "      <th></th>\n",
       "    </tr>\n",
       "  </thead>\n",
       "  <tbody>\n",
       "    <tr>\n",
       "      <th>0</th>\n",
       "      <td>Imperial Beach</td>\n",
       "      <td>3.0</td>\n",
       "    </tr>\n",
       "    <tr>\n",
       "      <th>1</th>\n",
       "      <td>Border Field State Park</td>\n",
       "      <td>3.0</td>\n",
       "    </tr>\n",
       "    <tr>\n",
       "      <th>2</th>\n",
       "      <td>Pelican State Beach</td>\n",
       "      <td>10.5</td>\n",
       "    </tr>\n",
       "    <tr>\n",
       "      <th>3</th>\n",
       "      <td>Crescent Beach</td>\n",
       "      <td>7.9</td>\n",
       "    </tr>\n",
       "    <tr>\n",
       "      <th>4</th>\n",
       "      <td>Redwood National Park</td>\n",
       "      <td>9.5</td>\n",
       "    </tr>\n",
       "    <tr>\n",
       "      <th>...</th>\n",
       "      <td>...</td>\n",
       "      <td>...</td>\n",
       "    </tr>\n",
       "    <tr>\n",
       "      <th>244</th>\n",
       "      <td>Pacific Beach</td>\n",
       "      <td>2.6</td>\n",
       "    </tr>\n",
       "    <tr>\n",
       "      <th>245</th>\n",
       "      <td>Mission Beach</td>\n",
       "      <td>2.6</td>\n",
       "    </tr>\n",
       "    <tr>\n",
       "      <th>246</th>\n",
       "      <td>Ocean Beach City Beach</td>\n",
       "      <td>2.6</td>\n",
       "    </tr>\n",
       "    <tr>\n",
       "      <th>247</th>\n",
       "      <td>Coronado Municipal Beach</td>\n",
       "      <td>3.0</td>\n",
       "    </tr>\n",
       "    <tr>\n",
       "      <th>248</th>\n",
       "      <td>Silver Strand State Beach</td>\n",
       "      <td>3.0</td>\n",
       "    </tr>\n",
       "  </tbody>\n",
       "</table>\n",
       "<p>249 rows × 2 columns</p>\n",
       "</div>"
      ],
      "text/plain": [
       "                         Beach_Name  Wave_Height\n",
       "Beach_ID                                        \n",
       "0                    Imperial Beach          3.0\n",
       "1           Border Field State Park          3.0\n",
       "2               Pelican State Beach         10.5\n",
       "3                    Crescent Beach          7.9\n",
       "4             Redwood National Park          9.5\n",
       "...                             ...          ...\n",
       "244                   Pacific Beach          2.6\n",
       "245                   Mission Beach          2.6\n",
       "246          Ocean Beach City Beach          2.6\n",
       "247        Coronado Municipal Beach          3.0\n",
       "248       Silver Strand State Beach          3.0\n",
       "\n",
       "[249 rows x 2 columns]"
      ]
     },
     "execution_count": 54,
     "metadata": {},
     "output_type": "execute_result"
    }
   ],
   "source": [
    "wave_height_df = beaches_df.filter(['Beach_Name', 'Wave_Height'], axis=1)\n",
    "wave_height_df"
   ]
  },
  {
   "cell_type": "code",
   "execution_count": 55,
   "metadata": {},
   "outputs": [
    {
     "data": {
      "text/html": [
       "<div>\n",
       "<style scoped>\n",
       "    .dataframe tbody tr th:only-of-type {\n",
       "        vertical-align: middle;\n",
       "    }\n",
       "\n",
       "    .dataframe tbody tr th {\n",
       "        vertical-align: top;\n",
       "    }\n",
       "\n",
       "    .dataframe thead th {\n",
       "        text-align: right;\n",
       "    }\n",
       "</style>\n",
       "<table border=\"1\" class=\"dataframe\">\n",
       "  <thead>\n",
       "    <tr style=\"text-align: right;\">\n",
       "      <th></th>\n",
       "      <th>Beach_Name</th>\n",
       "      <th>Latitude</th>\n",
       "      <th>Longitude</th>\n",
       "      <th>Sunrise</th>\n",
       "      <th>Sunset</th>\n",
       "      <th>Weather_Description</th>\n",
       "      <th>Temperature</th>\n",
       "      <th>Water_Temperature</th>\n",
       "      <th>Cloud_Cover</th>\n",
       "      <th>Wind_Speed</th>\n",
       "      <th>Wave_Height</th>\n",
       "      <th>Wave_Size</th>\n",
       "    </tr>\n",
       "    <tr>\n",
       "      <th>Beach_ID</th>\n",
       "      <th></th>\n",
       "      <th></th>\n",
       "      <th></th>\n",
       "      <th></th>\n",
       "      <th></th>\n",
       "      <th></th>\n",
       "      <th></th>\n",
       "      <th></th>\n",
       "      <th></th>\n",
       "      <th></th>\n",
       "      <th></th>\n",
       "      <th></th>\n",
       "    </tr>\n",
       "  </thead>\n",
       "  <tbody>\n",
       "    <tr>\n",
       "      <th>0</th>\n",
       "      <td>Imperial Beach</td>\n",
       "      <td>32.575831</td>\n",
       "      <td>-117.126577</td>\n",
       "      <td>07:07 AM</td>\n",
       "      <td>05:57 PM</td>\n",
       "      <td>Patchy rain possible</td>\n",
       "      <td>62</td>\n",
       "      <td>67</td>\n",
       "      <td>73</td>\n",
       "      <td>12</td>\n",
       "      <td>3.0</td>\n",
       "      <td>Small (&lt;4)</td>\n",
       "    </tr>\n",
       "    <tr>\n",
       "      <th>1</th>\n",
       "      <td>Border Field State Park</td>\n",
       "      <td>32.544940</td>\n",
       "      <td>-117.122341</td>\n",
       "      <td>07:07 AM</td>\n",
       "      <td>05:57 PM</td>\n",
       "      <td>Patchy rain possible</td>\n",
       "      <td>62</td>\n",
       "      <td>67</td>\n",
       "      <td>70</td>\n",
       "      <td>12</td>\n",
       "      <td>3.0</td>\n",
       "      <td>Small (&lt;4)</td>\n",
       "    </tr>\n",
       "    <tr>\n",
       "      <th>2</th>\n",
       "      <td>Pelican State Beach</td>\n",
       "      <td>41.992395</td>\n",
       "      <td>-124.209664</td>\n",
       "      <td>07:52 AM</td>\n",
       "      <td>06:09 PM</td>\n",
       "      <td>Light rain shower</td>\n",
       "      <td>48</td>\n",
       "      <td>52</td>\n",
       "      <td>100</td>\n",
       "      <td>4</td>\n",
       "      <td>10.5</td>\n",
       "      <td>Large (10-12)</td>\n",
       "    </tr>\n",
       "    <tr>\n",
       "      <th>3</th>\n",
       "      <td>Crescent Beach</td>\n",
       "      <td>41.728363</td>\n",
       "      <td>-124.153178</td>\n",
       "      <td>07:51 AM</td>\n",
       "      <td>06:10 PM</td>\n",
       "      <td>Light rain shower</td>\n",
       "      <td>46</td>\n",
       "      <td>51</td>\n",
       "      <td>100</td>\n",
       "      <td>6</td>\n",
       "      <td>7.9</td>\n",
       "      <td>Medium (4-9)</td>\n",
       "    </tr>\n",
       "    <tr>\n",
       "      <th>4</th>\n",
       "      <td>Redwood National Park</td>\n",
       "      <td>41.208970</td>\n",
       "      <td>-124.119056</td>\n",
       "      <td>07:49 AM</td>\n",
       "      <td>06:11 PM</td>\n",
       "      <td>Patchy rain possible</td>\n",
       "      <td>47</td>\n",
       "      <td>52</td>\n",
       "      <td>86</td>\n",
       "      <td>7</td>\n",
       "      <td>9.5</td>\n",
       "      <td>Large (10-12)</td>\n",
       "    </tr>\n",
       "    <tr>\n",
       "      <th>...</th>\n",
       "      <td>...</td>\n",
       "      <td>...</td>\n",
       "      <td>...</td>\n",
       "      <td>...</td>\n",
       "      <td>...</td>\n",
       "      <td>...</td>\n",
       "      <td>...</td>\n",
       "      <td>...</td>\n",
       "      <td>...</td>\n",
       "      <td>...</td>\n",
       "      <td>...</td>\n",
       "      <td>...</td>\n",
       "    </tr>\n",
       "    <tr>\n",
       "      <th>244</th>\n",
       "      <td>Pacific Beach</td>\n",
       "      <td>32.793934</td>\n",
       "      <td>-117.256811</td>\n",
       "      <td>07:08 AM</td>\n",
       "      <td>05:57 PM</td>\n",
       "      <td>Patchy rain possible</td>\n",
       "      <td>62</td>\n",
       "      <td>67</td>\n",
       "      <td>76</td>\n",
       "      <td>11</td>\n",
       "      <td>2.6</td>\n",
       "      <td>Small (&lt;4)</td>\n",
       "    </tr>\n",
       "    <tr>\n",
       "      <th>245</th>\n",
       "      <td>Mission Beach</td>\n",
       "      <td>32.773040</td>\n",
       "      <td>-117.251710</td>\n",
       "      <td>07:08 AM</td>\n",
       "      <td>05:57 PM</td>\n",
       "      <td>Patchy rain possible</td>\n",
       "      <td>62</td>\n",
       "      <td>67</td>\n",
       "      <td>76</td>\n",
       "      <td>11</td>\n",
       "      <td>2.6</td>\n",
       "      <td>Small (&lt;4)</td>\n",
       "    </tr>\n",
       "    <tr>\n",
       "      <th>246</th>\n",
       "      <td>Ocean Beach City Beach</td>\n",
       "      <td>32.741633</td>\n",
       "      <td>-117.254458</td>\n",
       "      <td>07:08 AM</td>\n",
       "      <td>05:57 PM</td>\n",
       "      <td>Patchy rain possible</td>\n",
       "      <td>62</td>\n",
       "      <td>67</td>\n",
       "      <td>76</td>\n",
       "      <td>11</td>\n",
       "      <td>2.6</td>\n",
       "      <td>Small (&lt;4)</td>\n",
       "    </tr>\n",
       "    <tr>\n",
       "      <th>247</th>\n",
       "      <td>Coronado Municipal Beach</td>\n",
       "      <td>32.689464</td>\n",
       "      <td>-117.186835</td>\n",
       "      <td>07:07 AM</td>\n",
       "      <td>05:57 PM</td>\n",
       "      <td>Patchy rain possible</td>\n",
       "      <td>62</td>\n",
       "      <td>67</td>\n",
       "      <td>76</td>\n",
       "      <td>12</td>\n",
       "      <td>3.0</td>\n",
       "      <td>Small (&lt;4)</td>\n",
       "    </tr>\n",
       "    <tr>\n",
       "      <th>248</th>\n",
       "      <td>Silver Strand State Beach</td>\n",
       "      <td>32.634664</td>\n",
       "      <td>-117.141993</td>\n",
       "      <td>07:07 AM</td>\n",
       "      <td>05:57 PM</td>\n",
       "      <td>Patchy rain possible</td>\n",
       "      <td>62</td>\n",
       "      <td>67</td>\n",
       "      <td>73</td>\n",
       "      <td>12</td>\n",
       "      <td>3.0</td>\n",
       "      <td>Small (&lt;4)</td>\n",
       "    </tr>\n",
       "  </tbody>\n",
       "</table>\n",
       "<p>249 rows × 12 columns</p>\n",
       "</div>"
      ],
      "text/plain": [
       "                         Beach_Name   Latitude   Longitude   Sunrise  \\\n",
       "Beach_ID                                                               \n",
       "0                    Imperial Beach  32.575831 -117.126577  07:07 AM   \n",
       "1           Border Field State Park  32.544940 -117.122341  07:07 AM   \n",
       "2               Pelican State Beach  41.992395 -124.209664  07:52 AM   \n",
       "3                    Crescent Beach  41.728363 -124.153178  07:51 AM   \n",
       "4             Redwood National Park  41.208970 -124.119056  07:49 AM   \n",
       "...                             ...        ...         ...       ...   \n",
       "244                   Pacific Beach  32.793934 -117.256811  07:08 AM   \n",
       "245                   Mission Beach  32.773040 -117.251710  07:08 AM   \n",
       "246          Ocean Beach City Beach  32.741633 -117.254458  07:08 AM   \n",
       "247        Coronado Municipal Beach  32.689464 -117.186835  07:07 AM   \n",
       "248       Silver Strand State Beach  32.634664 -117.141993  07:07 AM   \n",
       "\n",
       "            Sunset   Weather_Description  Temperature  Water_Temperature  \\\n",
       "Beach_ID                                                                   \n",
       "0         05:57 PM  Patchy rain possible           62                 67   \n",
       "1         05:57 PM  Patchy rain possible           62                 67   \n",
       "2         06:09 PM     Light rain shower           48                 52   \n",
       "3         06:10 PM     Light rain shower           46                 51   \n",
       "4         06:11 PM  Patchy rain possible           47                 52   \n",
       "...            ...                   ...          ...                ...   \n",
       "244       05:57 PM  Patchy rain possible           62                 67   \n",
       "245       05:57 PM  Patchy rain possible           62                 67   \n",
       "246       05:57 PM  Patchy rain possible           62                 67   \n",
       "247       05:57 PM  Patchy rain possible           62                 67   \n",
       "248       05:57 PM  Patchy rain possible           62                 67   \n",
       "\n",
       "          Cloud_Cover  Wind_Speed  Wave_Height      Wave_Size  \n",
       "Beach_ID                                                       \n",
       "0                  73          12          3.0     Small (<4)  \n",
       "1                  70          12          3.0     Small (<4)  \n",
       "2                 100           4         10.5  Large (10-12)  \n",
       "3                 100           6          7.9   Medium (4-9)  \n",
       "4                  86           7          9.5  Large (10-12)  \n",
       "...               ...         ...          ...            ...  \n",
       "244                76          11          2.6     Small (<4)  \n",
       "245                76          11          2.6     Small (<4)  \n",
       "246                76          11          2.6     Small (<4)  \n",
       "247                76          12          3.0     Small (<4)  \n",
       "248                73          12          3.0     Small (<4)  \n",
       "\n",
       "[249 rows x 12 columns]"
      ]
     },
     "execution_count": 55,
     "metadata": {},
     "output_type": "execute_result"
    }
   ],
   "source": [
    "wave_height_bins = [0, 3, 9, 12]\n",
    "wave_size = [\"Small (<4)\", \"Medium (4-9)\", \"Large (10-12)\"]\n",
    "\n",
    "\n",
    "# Categorize based on the bins.\n",
    "beaches_df[\"Wave_Size\"] = pd.cut(beaches_df[\"Wave_Height\"], wave_height_bins, labels=wave_size)\n",
    "beaches_df"
   ]
  },
  {
   "cell_type": "code",
   "execution_count": 56,
   "metadata": {},
   "outputs": [
    {
     "data": {
      "text/html": [
       "<div>\n",
       "<style scoped>\n",
       "    .dataframe tbody tr th:only-of-type {\n",
       "        vertical-align: middle;\n",
       "    }\n",
       "\n",
       "    .dataframe tbody tr th {\n",
       "        vertical-align: top;\n",
       "    }\n",
       "\n",
       "    .dataframe thead th {\n",
       "        text-align: right;\n",
       "    }\n",
       "</style>\n",
       "<table border=\"1\" class=\"dataframe\">\n",
       "  <thead>\n",
       "    <tr style=\"text-align: right;\">\n",
       "      <th></th>\n",
       "      <th>Beach_Name</th>\n",
       "      <th>Wave_Height</th>\n",
       "      <th>Wave_Size</th>\n",
       "    </tr>\n",
       "    <tr>\n",
       "      <th>Beach_ID</th>\n",
       "      <th></th>\n",
       "      <th></th>\n",
       "      <th></th>\n",
       "    </tr>\n",
       "  </thead>\n",
       "  <tbody>\n",
       "    <tr>\n",
       "      <th>0</th>\n",
       "      <td>Imperial Beach</td>\n",
       "      <td>3.0</td>\n",
       "      <td>Small (&lt;4)</td>\n",
       "    </tr>\n",
       "    <tr>\n",
       "      <th>1</th>\n",
       "      <td>Border Field State Park</td>\n",
       "      <td>3.0</td>\n",
       "      <td>Small (&lt;4)</td>\n",
       "    </tr>\n",
       "    <tr>\n",
       "      <th>2</th>\n",
       "      <td>Pelican State Beach</td>\n",
       "      <td>10.5</td>\n",
       "      <td>Large (10-12)</td>\n",
       "    </tr>\n",
       "    <tr>\n",
       "      <th>3</th>\n",
       "      <td>Crescent Beach</td>\n",
       "      <td>7.9</td>\n",
       "      <td>Medium (4-9)</td>\n",
       "    </tr>\n",
       "    <tr>\n",
       "      <th>4</th>\n",
       "      <td>Redwood National Park</td>\n",
       "      <td>9.5</td>\n",
       "      <td>Large (10-12)</td>\n",
       "    </tr>\n",
       "    <tr>\n",
       "      <th>...</th>\n",
       "      <td>...</td>\n",
       "      <td>...</td>\n",
       "      <td>...</td>\n",
       "    </tr>\n",
       "    <tr>\n",
       "      <th>244</th>\n",
       "      <td>Pacific Beach</td>\n",
       "      <td>2.6</td>\n",
       "      <td>Small (&lt;4)</td>\n",
       "    </tr>\n",
       "    <tr>\n",
       "      <th>245</th>\n",
       "      <td>Mission Beach</td>\n",
       "      <td>2.6</td>\n",
       "      <td>Small (&lt;4)</td>\n",
       "    </tr>\n",
       "    <tr>\n",
       "      <th>246</th>\n",
       "      <td>Ocean Beach City Beach</td>\n",
       "      <td>2.6</td>\n",
       "      <td>Small (&lt;4)</td>\n",
       "    </tr>\n",
       "    <tr>\n",
       "      <th>247</th>\n",
       "      <td>Coronado Municipal Beach</td>\n",
       "      <td>3.0</td>\n",
       "      <td>Small (&lt;4)</td>\n",
       "    </tr>\n",
       "    <tr>\n",
       "      <th>248</th>\n",
       "      <td>Silver Strand State Beach</td>\n",
       "      <td>3.0</td>\n",
       "      <td>Small (&lt;4)</td>\n",
       "    </tr>\n",
       "  </tbody>\n",
       "</table>\n",
       "<p>249 rows × 3 columns</p>\n",
       "</div>"
      ],
      "text/plain": [
       "                         Beach_Name  Wave_Height      Wave_Size\n",
       "Beach_ID                                                       \n",
       "0                    Imperial Beach          3.0     Small (<4)\n",
       "1           Border Field State Park          3.0     Small (<4)\n",
       "2               Pelican State Beach         10.5  Large (10-12)\n",
       "3                    Crescent Beach          7.9   Medium (4-9)\n",
       "4             Redwood National Park          9.5  Large (10-12)\n",
       "...                             ...          ...            ...\n",
       "244                   Pacific Beach          2.6     Small (<4)\n",
       "245                   Mission Beach          2.6     Small (<4)\n",
       "246          Ocean Beach City Beach          2.6     Small (<4)\n",
       "247        Coronado Municipal Beach          3.0     Small (<4)\n",
       "248       Silver Strand State Beach          3.0     Small (<4)\n",
       "\n",
       "[249 rows x 3 columns]"
      ]
     },
     "execution_count": 56,
     "metadata": {},
     "output_type": "execute_result"
    }
   ],
   "source": [
    "Wave_Size = pd.cut(beaches_df[\"Wave_Height\"], wave_height_bins, labels=wave_size)\n",
    "\n",
    "wave_height_df[\"Wave_Size\"] = Wave_Size\n",
    "wave_height_df"
   ]
  },
  {
   "cell_type": "code",
   "execution_count": 57,
   "metadata": {},
   "outputs": [
    {
     "data": {
      "text/plain": [
       "Beach_Name               object\n",
       "Latitude                float64\n",
       "Longitude               float64\n",
       "Sunrise                  object\n",
       "Sunset                   object\n",
       "Weather_Description      object\n",
       "Temperature               int64\n",
       "Water_Temperature         int64\n",
       "Cloud_Cover               int64\n",
       "Wind_Speed                int64\n",
       "Wave_Height             float64\n",
       "Wave_Size              category\n",
       "dtype: object"
      ]
     },
     "execution_count": 57,
     "metadata": {},
     "output_type": "execute_result"
    }
   ],
   "source": [
    "beaches_df.dtypes"
   ]
  },
  {
   "cell_type": "code",
   "execution_count": 58,
   "metadata": {},
   "outputs": [
    {
     "name": "stdout",
     "output_type": "stream",
     "text": [
      "Column Beach_Name has <bound method NDFrame._add_numeric_operations.<locals>.sum of Beach_ID\n",
      "0      False\n",
      "1      False\n",
      "2      False\n",
      "3      False\n",
      "4      False\n",
      "       ...  \n",
      "244    False\n",
      "245    False\n",
      "246    False\n",
      "247    False\n",
      "248    False\n",
      "Name: Beach_Name, Length: 249, dtype: bool> null values\n",
      "Column Latitude has <bound method NDFrame._add_numeric_operations.<locals>.sum of Beach_ID\n",
      "0      False\n",
      "1      False\n",
      "2      False\n",
      "3      False\n",
      "4      False\n",
      "       ...  \n",
      "244    False\n",
      "245    False\n",
      "246    False\n",
      "247    False\n",
      "248    False\n",
      "Name: Latitude, Length: 249, dtype: bool> null values\n",
      "Column Longitude has <bound method NDFrame._add_numeric_operations.<locals>.sum of Beach_ID\n",
      "0      False\n",
      "1      False\n",
      "2      False\n",
      "3      False\n",
      "4      False\n",
      "       ...  \n",
      "244    False\n",
      "245    False\n",
      "246    False\n",
      "247    False\n",
      "248    False\n",
      "Name: Longitude, Length: 249, dtype: bool> null values\n",
      "Column Sunrise has <bound method NDFrame._add_numeric_operations.<locals>.sum of Beach_ID\n",
      "0      False\n",
      "1      False\n",
      "2      False\n",
      "3      False\n",
      "4      False\n",
      "       ...  \n",
      "244    False\n",
      "245    False\n",
      "246    False\n",
      "247    False\n",
      "248    False\n",
      "Name: Sunrise, Length: 249, dtype: bool> null values\n",
      "Column Sunset has <bound method NDFrame._add_numeric_operations.<locals>.sum of Beach_ID\n",
      "0      False\n",
      "1      False\n",
      "2      False\n",
      "3      False\n",
      "4      False\n",
      "       ...  \n",
      "244    False\n",
      "245    False\n",
      "246    False\n",
      "247    False\n",
      "248    False\n",
      "Name: Sunset, Length: 249, dtype: bool> null values\n",
      "Column Weather_Description has <bound method NDFrame._add_numeric_operations.<locals>.sum of Beach_ID\n",
      "0      False\n",
      "1      False\n",
      "2      False\n",
      "3      False\n",
      "4      False\n",
      "       ...  \n",
      "244    False\n",
      "245    False\n",
      "246    False\n",
      "247    False\n",
      "248    False\n",
      "Name: Weather_Description, Length: 249, dtype: bool> null values\n",
      "Column Temperature has <bound method NDFrame._add_numeric_operations.<locals>.sum of Beach_ID\n",
      "0      False\n",
      "1      False\n",
      "2      False\n",
      "3      False\n",
      "4      False\n",
      "       ...  \n",
      "244    False\n",
      "245    False\n",
      "246    False\n",
      "247    False\n",
      "248    False\n",
      "Name: Temperature, Length: 249, dtype: bool> null values\n",
      "Column Water_Temperature has <bound method NDFrame._add_numeric_operations.<locals>.sum of Beach_ID\n",
      "0      False\n",
      "1      False\n",
      "2      False\n",
      "3      False\n",
      "4      False\n",
      "       ...  \n",
      "244    False\n",
      "245    False\n",
      "246    False\n",
      "247    False\n",
      "248    False\n",
      "Name: Water_Temperature, Length: 249, dtype: bool> null values\n",
      "Column Cloud_Cover has <bound method NDFrame._add_numeric_operations.<locals>.sum of Beach_ID\n",
      "0      False\n",
      "1      False\n",
      "2      False\n",
      "3      False\n",
      "4      False\n",
      "       ...  \n",
      "244    False\n",
      "245    False\n",
      "246    False\n",
      "247    False\n",
      "248    False\n",
      "Name: Cloud_Cover, Length: 249, dtype: bool> null values\n",
      "Column Wind_Speed has <bound method NDFrame._add_numeric_operations.<locals>.sum of Beach_ID\n",
      "0      False\n",
      "1      False\n",
      "2      False\n",
      "3      False\n",
      "4      False\n",
      "       ...  \n",
      "244    False\n",
      "245    False\n",
      "246    False\n",
      "247    False\n",
      "248    False\n",
      "Name: Wind_Speed, Length: 249, dtype: bool> null values\n",
      "Column Wave_Height has <bound method NDFrame._add_numeric_operations.<locals>.sum of Beach_ID\n",
      "0      False\n",
      "1      False\n",
      "2      False\n",
      "3      False\n",
      "4      False\n",
      "       ...  \n",
      "244    False\n",
      "245    False\n",
      "246    False\n",
      "247    False\n",
      "248    False\n",
      "Name: Wave_Height, Length: 249, dtype: bool> null values\n",
      "Column Wave_Size has <bound method NDFrame._add_numeric_operations.<locals>.sum of Beach_ID\n",
      "0      False\n",
      "1      False\n",
      "2      False\n",
      "3      False\n",
      "4      False\n",
      "       ...  \n",
      "244    False\n",
      "245    False\n",
      "246    False\n",
      "247    False\n",
      "248    False\n",
      "Name: Wave_Size, Length: 249, dtype: bool> null values\n"
     ]
    }
   ],
   "source": [
    "for column in beaches_df.columns:\n",
    "    print(f\"Column {column} has {beaches_df[column].isnull().sum} null values\")"
   ]
  },
  {
   "cell_type": "code",
   "execution_count": 59,
   "metadata": {},
   "outputs": [
    {
     "name": "stdout",
     "output_type": "stream",
     "text": [
      "Duplicate entries: 0\n"
     ]
    }
   ],
   "source": [
    "#Find duplicates\n",
    "print(f\"Duplicate entries: {beaches_df.duplicated().sum()}\")"
   ]
  },
  {
   "cell_type": "code",
   "execution_count": 46,
   "metadata": {},
   "outputs": [],
   "source": [
    "#Data Preprocessings; Transform String column (18.2.5)\n",
    "#def change_string(Wave_Size):\n",
    "#    if size == \"Small\":\n",
    "#        return 0\n",
    "#    elif size == \"Medium\":\n",
    "#        return 1\n",
    "#    else:\n",
    "#        return 2\n",
    "#beaches_df[\"Wave_Size\"] = beaches_df[\"Wave_Size\"].apply(change_string)\n",
    "#beaches_df.head()"
   ]
  },
  {
   "cell_type": "code",
   "execution_count": 47,
   "metadata": {},
   "outputs": [
    {
     "data": {
      "text/plain": [
       "KMeans(n_clusters=3, random_state=0)"
      ]
     },
     "execution_count": 47,
     "metadata": {},
     "output_type": "execute_result"
    }
   ],
   "source": [
    "#Clustering using K-Means\n",
    "#Initializing model with K = 3 (Wave sizes = small, medium, large)\n",
    "model = KMeans(n_clusters=3, random_state=0)\n",
    "model"
   ]
  },
  {
   "cell_type": "code",
   "execution_count": 24,
   "metadata": {},
   "outputs": [],
   "source": [
    "#Fitting model \n",
    "#model.fit(beaches_df)"
   ]
  },
  {
   "cell_type": "code",
   "execution_count": 26,
   "metadata": {},
   "outputs": [],
   "source": [
    "# Predict clusters\n",
    "#predictions = model.predict(beaches_df)\n",
    "#print(predictions)"
   ]
  },
  {
   "cell_type": "code",
   "execution_count": 28,
   "metadata": {},
   "outputs": [],
   "source": [
    "# Get the predictions\n",
    "#predictions = model.predict(beaches_df)\n",
    "#print(predictions)"
   ]
  },
  {
   "cell_type": "code",
   "execution_count": null,
   "metadata": {},
   "outputs": [],
   "source": [
    "# Add a new class column to the beaches_df (18.3.2)\n",
    "#beaches_df[\"Height_Predictction\"] = model.labels_\n",
    "#beaches_df.head()"
   ]
  },
  {
   "cell_type": "code",
   "execution_count": null,
   "metadata": {},
   "outputs": [],
   "source": [
    "#?? Create a scatterplot of beaches_df\n",
    "#beaches_df.hvplot.scatter(x=\"sepal_length\", y=\"sepal_width\", by=\"class\")"
   ]
  },
  {
   "cell_type": "code",
   "execution_count": null,
   "metadata": {},
   "outputs": [],
   "source": []
  },
  {
   "cell_type": "code",
   "execution_count": null,
   "metadata": {},
   "outputs": [],
   "source": [
    "#Elbow Curve Method (18.4.1)"
   ]
  },
  {
   "cell_type": "code",
   "execution_count": null,
   "metadata": {},
   "outputs": [],
   "source": []
  },
  {
   "cell_type": "code",
   "execution_count": null,
   "metadata": {},
   "outputs": [],
   "source": [
    "#Principal Component Analysis"
   ]
  },
  {
   "cell_type": "code",
   "execution_count": null,
   "metadata": {},
   "outputs": [],
   "source": []
  },
  {
   "cell_type": "code",
   "execution_count": null,
   "metadata": {},
   "outputs": [],
   "source": []
  },
  {
   "cell_type": "code",
   "execution_count": null,
   "metadata": {},
   "outputs": [],
   "source": []
  },
  {
   "cell_type": "code",
   "execution_count": null,
   "metadata": {},
   "outputs": [],
   "source": []
  },
  {
   "cell_type": "code",
   "execution_count": null,
   "metadata": {},
   "outputs": [],
   "source": []
  },
  {
   "cell_type": "code",
   "execution_count": null,
   "metadata": {},
   "outputs": [],
   "source": []
  },
  {
   "cell_type": "code",
   "execution_count": null,
   "metadata": {},
   "outputs": [],
   "source": []
  },
  {
   "cell_type": "code",
   "execution_count": 55,
   "metadata": {},
   "outputs": [
    {
     "data": {
      "text/html": [
       "<div>\n",
       "<style scoped>\n",
       "    .dataframe tbody tr th:only-of-type {\n",
       "        vertical-align: middle;\n",
       "    }\n",
       "\n",
       "    .dataframe tbody tr th {\n",
       "        vertical-align: top;\n",
       "    }\n",
       "\n",
       "    .dataframe thead th {\n",
       "        text-align: right;\n",
       "    }\n",
       "</style>\n",
       "<table border=\"1\" class=\"dataframe\">\n",
       "  <thead>\n",
       "    <tr style=\"text-align: right;\">\n",
       "      <th></th>\n",
       "      <th>TotalCoinsMined</th>\n",
       "      <th>TotalCoinSupply</th>\n",
       "      <th>Algorithm_1GB AES Pattern Search</th>\n",
       "      <th>Algorithm_536</th>\n",
       "      <th>Algorithm_Argon2d</th>\n",
       "      <th>Algorithm_BLAKE256</th>\n",
       "      <th>Algorithm_Blake</th>\n",
       "      <th>Algorithm_Blake2S</th>\n",
       "      <th>Algorithm_Blake2b</th>\n",
       "      <th>Algorithm_C11</th>\n",
       "      <th>...</th>\n",
       "      <th>ProofType_PoW/PoS</th>\n",
       "      <th>ProofType_PoW/PoS</th>\n",
       "      <th>ProofType_PoW/PoW</th>\n",
       "      <th>ProofType_PoW/nPoS</th>\n",
       "      <th>ProofType_Pos</th>\n",
       "      <th>ProofType_Proof of Authority</th>\n",
       "      <th>ProofType_Proof of Trust</th>\n",
       "      <th>ProofType_TPoS</th>\n",
       "      <th>ProofType_Zero-Knowledge Proof</th>\n",
       "      <th>ProofType_dPoW/PoW</th>\n",
       "    </tr>\n",
       "    <tr>\n",
       "      <th></th>\n",
       "      <th></th>\n",
       "      <th></th>\n",
       "      <th></th>\n",
       "      <th></th>\n",
       "      <th></th>\n",
       "      <th></th>\n",
       "      <th></th>\n",
       "      <th></th>\n",
       "      <th></th>\n",
       "      <th></th>\n",
       "      <th></th>\n",
       "      <th></th>\n",
       "      <th></th>\n",
       "      <th></th>\n",
       "      <th></th>\n",
       "      <th></th>\n",
       "      <th></th>\n",
       "      <th></th>\n",
       "      <th></th>\n",
       "      <th></th>\n",
       "      <th></th>\n",
       "    </tr>\n",
       "  </thead>\n",
       "  <tbody>\n",
       "    <tr>\n",
       "      <th>42</th>\n",
       "      <td>4.199995e+01</td>\n",
       "      <td>42</td>\n",
       "      <td>0</td>\n",
       "      <td>0</td>\n",
       "      <td>0</td>\n",
       "      <td>0</td>\n",
       "      <td>0</td>\n",
       "      <td>0</td>\n",
       "      <td>0</td>\n",
       "      <td>0</td>\n",
       "      <td>...</td>\n",
       "      <td>1</td>\n",
       "      <td>0</td>\n",
       "      <td>0</td>\n",
       "      <td>0</td>\n",
       "      <td>0</td>\n",
       "      <td>0</td>\n",
       "      <td>0</td>\n",
       "      <td>0</td>\n",
       "      <td>0</td>\n",
       "      <td>0</td>\n",
       "    </tr>\n",
       "    <tr>\n",
       "      <th>404</th>\n",
       "      <td>1.055185e+09</td>\n",
       "      <td>532000000</td>\n",
       "      <td>0</td>\n",
       "      <td>0</td>\n",
       "      <td>0</td>\n",
       "      <td>0</td>\n",
       "      <td>0</td>\n",
       "      <td>0</td>\n",
       "      <td>0</td>\n",
       "      <td>0</td>\n",
       "      <td>...</td>\n",
       "      <td>1</td>\n",
       "      <td>0</td>\n",
       "      <td>0</td>\n",
       "      <td>0</td>\n",
       "      <td>0</td>\n",
       "      <td>0</td>\n",
       "      <td>0</td>\n",
       "      <td>0</td>\n",
       "      <td>0</td>\n",
       "      <td>0</td>\n",
       "    </tr>\n",
       "    <tr>\n",
       "      <th>1337</th>\n",
       "      <td>2.927942e+10</td>\n",
       "      <td>314159265359</td>\n",
       "      <td>0</td>\n",
       "      <td>0</td>\n",
       "      <td>0</td>\n",
       "      <td>0</td>\n",
       "      <td>0</td>\n",
       "      <td>0</td>\n",
       "      <td>0</td>\n",
       "      <td>0</td>\n",
       "      <td>...</td>\n",
       "      <td>1</td>\n",
       "      <td>0</td>\n",
       "      <td>0</td>\n",
       "      <td>0</td>\n",
       "      <td>0</td>\n",
       "      <td>0</td>\n",
       "      <td>0</td>\n",
       "      <td>0</td>\n",
       "      <td>0</td>\n",
       "      <td>0</td>\n",
       "    </tr>\n",
       "    <tr>\n",
       "      <th>BTC</th>\n",
       "      <td>1.792718e+07</td>\n",
       "      <td>21000000</td>\n",
       "      <td>0</td>\n",
       "      <td>0</td>\n",
       "      <td>0</td>\n",
       "      <td>0</td>\n",
       "      <td>0</td>\n",
       "      <td>0</td>\n",
       "      <td>0</td>\n",
       "      <td>0</td>\n",
       "      <td>...</td>\n",
       "      <td>0</td>\n",
       "      <td>0</td>\n",
       "      <td>0</td>\n",
       "      <td>0</td>\n",
       "      <td>0</td>\n",
       "      <td>0</td>\n",
       "      <td>0</td>\n",
       "      <td>0</td>\n",
       "      <td>0</td>\n",
       "      <td>0</td>\n",
       "    </tr>\n",
       "    <tr>\n",
       "      <th>ETH</th>\n",
       "      <td>1.076842e+08</td>\n",
       "      <td>0</td>\n",
       "      <td>0</td>\n",
       "      <td>0</td>\n",
       "      <td>0</td>\n",
       "      <td>0</td>\n",
       "      <td>0</td>\n",
       "      <td>0</td>\n",
       "      <td>0</td>\n",
       "      <td>0</td>\n",
       "      <td>...</td>\n",
       "      <td>0</td>\n",
       "      <td>0</td>\n",
       "      <td>0</td>\n",
       "      <td>0</td>\n",
       "      <td>0</td>\n",
       "      <td>0</td>\n",
       "      <td>0</td>\n",
       "      <td>0</td>\n",
       "      <td>0</td>\n",
       "      <td>0</td>\n",
       "    </tr>\n",
       "    <tr>\n",
       "      <th>LTC</th>\n",
       "      <td>6.303924e+07</td>\n",
       "      <td>84000000</td>\n",
       "      <td>0</td>\n",
       "      <td>0</td>\n",
       "      <td>0</td>\n",
       "      <td>0</td>\n",
       "      <td>0</td>\n",
       "      <td>0</td>\n",
       "      <td>0</td>\n",
       "      <td>0</td>\n",
       "      <td>...</td>\n",
       "      <td>0</td>\n",
       "      <td>0</td>\n",
       "      <td>0</td>\n",
       "      <td>0</td>\n",
       "      <td>0</td>\n",
       "      <td>0</td>\n",
       "      <td>0</td>\n",
       "      <td>0</td>\n",
       "      <td>0</td>\n",
       "      <td>0</td>\n",
       "    </tr>\n",
       "    <tr>\n",
       "      <th>DASH</th>\n",
       "      <td>9.031294e+06</td>\n",
       "      <td>22000000</td>\n",
       "      <td>0</td>\n",
       "      <td>0</td>\n",
       "      <td>0</td>\n",
       "      <td>0</td>\n",
       "      <td>0</td>\n",
       "      <td>0</td>\n",
       "      <td>0</td>\n",
       "      <td>0</td>\n",
       "      <td>...</td>\n",
       "      <td>1</td>\n",
       "      <td>0</td>\n",
       "      <td>0</td>\n",
       "      <td>0</td>\n",
       "      <td>0</td>\n",
       "      <td>0</td>\n",
       "      <td>0</td>\n",
       "      <td>0</td>\n",
       "      <td>0</td>\n",
       "      <td>0</td>\n",
       "    </tr>\n",
       "    <tr>\n",
       "      <th>XMR</th>\n",
       "      <td>1.720114e+07</td>\n",
       "      <td>0</td>\n",
       "      <td>0</td>\n",
       "      <td>0</td>\n",
       "      <td>0</td>\n",
       "      <td>0</td>\n",
       "      <td>0</td>\n",
       "      <td>0</td>\n",
       "      <td>0</td>\n",
       "      <td>0</td>\n",
       "      <td>...</td>\n",
       "      <td>0</td>\n",
       "      <td>0</td>\n",
       "      <td>0</td>\n",
       "      <td>0</td>\n",
       "      <td>0</td>\n",
       "      <td>0</td>\n",
       "      <td>0</td>\n",
       "      <td>0</td>\n",
       "      <td>0</td>\n",
       "      <td>0</td>\n",
       "    </tr>\n",
       "    <tr>\n",
       "      <th>ETC</th>\n",
       "      <td>1.133597e+08</td>\n",
       "      <td>210000000</td>\n",
       "      <td>0</td>\n",
       "      <td>0</td>\n",
       "      <td>0</td>\n",
       "      <td>0</td>\n",
       "      <td>0</td>\n",
       "      <td>0</td>\n",
       "      <td>0</td>\n",
       "      <td>0</td>\n",
       "      <td>...</td>\n",
       "      <td>0</td>\n",
       "      <td>0</td>\n",
       "      <td>0</td>\n",
       "      <td>0</td>\n",
       "      <td>0</td>\n",
       "      <td>0</td>\n",
       "      <td>0</td>\n",
       "      <td>0</td>\n",
       "      <td>0</td>\n",
       "      <td>0</td>\n",
       "    </tr>\n",
       "    <tr>\n",
       "      <th>ZEC</th>\n",
       "      <td>7.383056e+06</td>\n",
       "      <td>21000000</td>\n",
       "      <td>0</td>\n",
       "      <td>0</td>\n",
       "      <td>0</td>\n",
       "      <td>0</td>\n",
       "      <td>0</td>\n",
       "      <td>0</td>\n",
       "      <td>0</td>\n",
       "      <td>0</td>\n",
       "      <td>...</td>\n",
       "      <td>0</td>\n",
       "      <td>0</td>\n",
       "      <td>0</td>\n",
       "      <td>0</td>\n",
       "      <td>0</td>\n",
       "      <td>0</td>\n",
       "      <td>0</td>\n",
       "      <td>0</td>\n",
       "      <td>0</td>\n",
       "      <td>0</td>\n",
       "    </tr>\n",
       "  </tbody>\n",
       "</table>\n",
       "<p>10 rows × 98 columns</p>\n",
       "</div>"
      ],
      "text/plain": [
       "      TotalCoinsMined TotalCoinSupply  Algorithm_1GB AES Pattern Search  \\\n",
       "                                                                          \n",
       "42       4.199995e+01              42                                 0   \n",
       "404      1.055185e+09       532000000                                 0   \n",
       "1337     2.927942e+10    314159265359                                 0   \n",
       "BTC      1.792718e+07        21000000                                 0   \n",
       "ETH      1.076842e+08               0                                 0   \n",
       "LTC      6.303924e+07        84000000                                 0   \n",
       "DASH     9.031294e+06        22000000                                 0   \n",
       "XMR      1.720114e+07               0                                 0   \n",
       "ETC      1.133597e+08       210000000                                 0   \n",
       "ZEC      7.383056e+06        21000000                                 0   \n",
       "\n",
       "      Algorithm_536  Algorithm_Argon2d  Algorithm_BLAKE256  Algorithm_Blake  \\\n",
       "                                                                              \n",
       "42                0                  0                   0                0   \n",
       "404               0                  0                   0                0   \n",
       "1337              0                  0                   0                0   \n",
       "BTC               0                  0                   0                0   \n",
       "ETH               0                  0                   0                0   \n",
       "LTC               0                  0                   0                0   \n",
       "DASH              0                  0                   0                0   \n",
       "XMR               0                  0                   0                0   \n",
       "ETC               0                  0                   0                0   \n",
       "ZEC               0                  0                   0                0   \n",
       "\n",
       "      Algorithm_Blake2S  Algorithm_Blake2b  Algorithm_C11  ...  \\\n",
       "                                                           ...   \n",
       "42                    0                  0              0  ...   \n",
       "404                   0                  0              0  ...   \n",
       "1337                  0                  0              0  ...   \n",
       "BTC                   0                  0              0  ...   \n",
       "ETH                   0                  0              0  ...   \n",
       "LTC                   0                  0              0  ...   \n",
       "DASH                  0                  0              0  ...   \n",
       "XMR                   0                  0              0  ...   \n",
       "ETC                   0                  0              0  ...   \n",
       "ZEC                   0                  0              0  ...   \n",
       "\n",
       "      ProofType_PoW/PoS  ProofType_PoW/PoS   ProofType_PoW/PoW  \\\n",
       "                                                                 \n",
       "42                    1                   0                  0   \n",
       "404                   1                   0                  0   \n",
       "1337                  1                   0                  0   \n",
       "BTC                   0                   0                  0   \n",
       "ETH                   0                   0                  0   \n",
       "LTC                   0                   0                  0   \n",
       "DASH                  1                   0                  0   \n",
       "XMR                   0                   0                  0   \n",
       "ETC                   0                   0                  0   \n",
       "ZEC                   0                   0                  0   \n",
       "\n",
       "      ProofType_PoW/nPoS  ProofType_Pos  ProofType_Proof of Authority  \\\n",
       "                                                                        \n",
       "42                     0              0                             0   \n",
       "404                    0              0                             0   \n",
       "1337                   0              0                             0   \n",
       "BTC                    0              0                             0   \n",
       "ETH                    0              0                             0   \n",
       "LTC                    0              0                             0   \n",
       "DASH                   0              0                             0   \n",
       "XMR                    0              0                             0   \n",
       "ETC                    0              0                             0   \n",
       "ZEC                    0              0                             0   \n",
       "\n",
       "      ProofType_Proof of Trust  ProofType_TPoS  \\\n",
       "                                                 \n",
       "42                           0               0   \n",
       "404                          0               0   \n",
       "1337                         0               0   \n",
       "BTC                          0               0   \n",
       "ETH                          0               0   \n",
       "LTC                          0               0   \n",
       "DASH                         0               0   \n",
       "XMR                          0               0   \n",
       "ETC                          0               0   \n",
       "ZEC                          0               0   \n",
       "\n",
       "      ProofType_Zero-Knowledge Proof  ProofType_dPoW/PoW  \n",
       "                                                          \n",
       "42                                 0                   0  \n",
       "404                                0                   0  \n",
       "1337                               0                   0  \n",
       "BTC                                0                   0  \n",
       "ETH                                0                   0  \n",
       "LTC                                0                   0  \n",
       "DASH                               0                   0  \n",
       "XMR                                0                   0  \n",
       "ETC                                0                   0  \n",
       "ZEC                                0                   0  \n",
       "\n",
       "[10 rows x 98 columns]"
      ]
     },
     "execution_count": 55,
     "metadata": {},
     "output_type": "execute_result"
    }
   ],
   "source": [
    "# Use get_dummies() to create variables for text features.\n",
    "#X = pd.get_dummies(data=crypto_df, columns=[\"Algorithm\", \"ProofType\"])\n",
    "#X.head(10)"
   ]
  },
  {
   "cell_type": "code",
   "execution_count": 56,
   "metadata": {},
   "outputs": [
    {
     "name": "stdout",
     "output_type": "stream",
     "text": [
      "[[-0.11710817 -0.1528703  -0.0433963  ... -0.0433963  -0.0433963\n",
      "  -0.0433963 ]\n",
      " [-0.09396955 -0.145009   -0.0433963  ... -0.0433963  -0.0433963\n",
      "  -0.0433963 ]\n",
      " [ 0.52494561  4.48942416 -0.0433963  ... -0.0433963  -0.0433963\n",
      "  -0.0433963 ]\n",
      " ...\n",
      " [-0.09561336 -0.13217937 -0.0433963  ... -0.0433963  -0.0433963\n",
      "  -0.0433963 ]\n",
      " [-0.11694817 -0.15255998 -0.0433963  ... -0.0433963  -0.0433963\n",
      "  -0.0433963 ]\n",
      " [-0.11710536 -0.15285552 -0.0433963  ... -0.0433963  -0.0433963\n",
      "  -0.0433963 ]]\n"
     ]
    }
   ],
   "source": [
    "# Standardize the data with StandardScaler().\n",
    "#X = StandardScaler().fit_transform(X)\n",
    "#print(X)"
   ]
  },
  {
   "cell_type": "markdown",
   "metadata": {},
   "source": [
    "### Deliverable 2: Reducing Data Dimensions Using PCA"
   ]
  },
  {
   "cell_type": "code",
   "execution_count": 33,
   "metadata": {},
   "outputs": [
    {
     "ename": "NameError",
     "evalue": "name 'X' is not defined",
     "output_type": "error",
     "traceback": [
      "\u001b[1;31m---------------------------------------------------------------------------\u001b[0m",
      "\u001b[1;31mNameError\u001b[0m                                 Traceback (most recent call last)",
      "Input \u001b[1;32mIn [33]\u001b[0m, in \u001b[0;36m<cell line: 4>\u001b[1;34m()\u001b[0m\n\u001b[0;32m      2\u001b[0m n_comp \u001b[38;5;241m=\u001b[39m \u001b[38;5;241m3\u001b[39m\n\u001b[0;32m      3\u001b[0m pca \u001b[38;5;241m=\u001b[39m PCA(n_components\u001b[38;5;241m=\u001b[39mn_comp)\n\u001b[1;32m----> 4\u001b[0m ppca \u001b[38;5;241m=\u001b[39m pca\u001b[38;5;241m.\u001b[39mfit_transform(\u001b[43mX\u001b[49m)\n\u001b[0;32m      5\u001b[0m ppca\n",
      "\u001b[1;31mNameError\u001b[0m: name 'X' is not defined"
     ]
    }
   ],
   "source": [
    "# Using PCA to reduce dimension to three principal components.\n",
    "#n_comp = 3\n",
    "#pca = PCA(n_components=n_comp)\n",
    "#ppca = pca.fit_transform(X)\n",
    "#ppca"
   ]
  },
  {
   "cell_type": "code",
   "execution_count": 58,
   "metadata": {},
   "outputs": [
    {
     "data": {
      "text/html": [
       "<div>\n",
       "<style scoped>\n",
       "    .dataframe tbody tr th:only-of-type {\n",
       "        vertical-align: middle;\n",
       "    }\n",
       "\n",
       "    .dataframe tbody tr th {\n",
       "        vertical-align: top;\n",
       "    }\n",
       "\n",
       "    .dataframe thead th {\n",
       "        text-align: right;\n",
       "    }\n",
       "</style>\n",
       "<table border=\"1\" class=\"dataframe\">\n",
       "  <thead>\n",
       "    <tr style=\"text-align: right;\">\n",
       "      <th></th>\n",
       "      <th>PC 1</th>\n",
       "      <th>PC 2</th>\n",
       "      <th>PC 3</th>\n",
       "    </tr>\n",
       "    <tr>\n",
       "      <th></th>\n",
       "      <th></th>\n",
       "      <th></th>\n",
       "      <th></th>\n",
       "    </tr>\n",
       "  </thead>\n",
       "  <tbody>\n",
       "    <tr>\n",
       "      <th>42</th>\n",
       "      <td>-0.341149</td>\n",
       "      <td>1.119324</td>\n",
       "      <td>-0.253848</td>\n",
       "    </tr>\n",
       "    <tr>\n",
       "      <th>404</th>\n",
       "      <td>-0.324467</td>\n",
       "      <td>1.119538</td>\n",
       "      <td>-0.254071</td>\n",
       "    </tr>\n",
       "    <tr>\n",
       "      <th>1337</th>\n",
       "      <td>2.287932</td>\n",
       "      <td>1.535358</td>\n",
       "      <td>-0.346538</td>\n",
       "    </tr>\n",
       "    <tr>\n",
       "      <th>BTC</th>\n",
       "      <td>-0.160923</td>\n",
       "      <td>-1.381975</td>\n",
       "      <td>0.024595</td>\n",
       "    </tr>\n",
       "    <tr>\n",
       "      <th>ETH</th>\n",
       "      <td>-0.160844</td>\n",
       "      <td>-2.096176</td>\n",
       "      <td>0.131572</td>\n",
       "    </tr>\n",
       "    <tr>\n",
       "      <th>LTC</th>\n",
       "      <td>-0.166991</td>\n",
       "      <td>-1.046679</td>\n",
       "      <td>-0.008028</td>\n",
       "    </tr>\n",
       "    <tr>\n",
       "      <th>DASH</th>\n",
       "      <td>-0.387854</td>\n",
       "      <td>1.227333</td>\n",
       "      <td>-0.222178</td>\n",
       "    </tr>\n",
       "    <tr>\n",
       "      <th>XMR</th>\n",
       "      <td>-0.159305</td>\n",
       "      <td>-2.315098</td>\n",
       "      <td>0.110157</td>\n",
       "    </tr>\n",
       "    <tr>\n",
       "      <th>ETC</th>\n",
       "      <td>-0.159284</td>\n",
       "      <td>-2.096276</td>\n",
       "      <td>0.131563</td>\n",
       "    </tr>\n",
       "    <tr>\n",
       "      <th>ZEC</th>\n",
       "      <td>-0.155033</td>\n",
       "      <td>-2.157126</td>\n",
       "      <td>0.252905</td>\n",
       "    </tr>\n",
       "  </tbody>\n",
       "</table>\n",
       "</div>"
      ],
      "text/plain": [
       "          PC 1      PC 2      PC 3\n",
       "                                  \n",
       "42   -0.341149  1.119324 -0.253848\n",
       "404  -0.324467  1.119538 -0.254071\n",
       "1337  2.287932  1.535358 -0.346538\n",
       "BTC  -0.160923 -1.381975  0.024595\n",
       "ETH  -0.160844 -2.096176  0.131572\n",
       "LTC  -0.166991 -1.046679 -0.008028\n",
       "DASH -0.387854  1.227333 -0.222178\n",
       "XMR  -0.159305 -2.315098  0.110157\n",
       "ETC  -0.159284 -2.096276  0.131563\n",
       "ZEC  -0.155033 -2.157126  0.252905"
      ]
     },
     "execution_count": 58,
     "metadata": {},
     "output_type": "execute_result"
    }
   ],
   "source": [
    "# Create a DataFrame with the three principal components.\n",
    "#pcs_df = pd.DataFrame(ppca, columns=[\"PC 1\", \"PC 2\",\"PC 3\"], index = crypto_df.index)\n",
    "#pcs_df.head(10)"
   ]
  },
  {
   "cell_type": "markdown",
   "metadata": {},
   "source": [
    "### Deliverable 3: Clustering Crytocurrencies Using K-Means\n",
    "\n",
    "#### Finding the Best Value for `k` Using the Elbow Curve"
   ]
  },
  {
   "cell_type": "code",
   "execution_count": 35,
   "metadata": {},
   "outputs": [
    {
     "ename": "ValueError",
     "evalue": "could not convert string to float: 'Imperial Beach'",
     "output_type": "error",
     "traceback": [
      "\u001b[1;31m---------------------------------------------------------------------------\u001b[0m",
      "\u001b[1;31mValueError\u001b[0m                                Traceback (most recent call last)",
      "Input \u001b[1;32mIn [35]\u001b[0m, in \u001b[0;36m<cell line: 6>\u001b[1;34m()\u001b[0m\n\u001b[0;32m      6\u001b[0m \u001b[38;5;28;01mfor\u001b[39;00m i \u001b[38;5;129;01min\u001b[39;00m k:\n\u001b[0;32m      7\u001b[0m    km \u001b[38;5;241m=\u001b[39m KMeans(n_clusters \u001b[38;5;241m=\u001b[39mi, random_state\u001b[38;5;241m=\u001b[39m\u001b[38;5;241m0\u001b[39m)\n\u001b[1;32m----> 8\u001b[0m    \u001b[43mkm\u001b[49m\u001b[38;5;241;43m.\u001b[39;49m\u001b[43mfit\u001b[49m\u001b[43m(\u001b[49m\u001b[43mbeaches_df\u001b[49m\u001b[43m)\u001b[49m\n\u001b[0;32m      9\u001b[0m    inertia\u001b[38;5;241m.\u001b[39mappend(km\u001b[38;5;241m.\u001b[39minertia_)\n\u001b[0;32m     11\u001b[0m elbow_data \u001b[38;5;241m=\u001b[39m {\u001b[38;5;124m\"\u001b[39m\u001b[38;5;124mk\u001b[39m\u001b[38;5;124m\"\u001b[39m: k, \u001b[38;5;124m\"\u001b[39m\u001b[38;5;124minertia\u001b[39m\u001b[38;5;124m\"\u001b[39m: inertia}\n",
      "File \u001b[1;32m~\\anaconda3\\lib\\site-packages\\sklearn\\cluster\\_kmeans.py:1137\u001b[0m, in \u001b[0;36mKMeans.fit\u001b[1;34m(self, X, y, sample_weight)\u001b[0m\n\u001b[0;32m   1111\u001b[0m \u001b[38;5;28;01mdef\u001b[39;00m \u001b[38;5;21mfit\u001b[39m(\u001b[38;5;28mself\u001b[39m, X, y\u001b[38;5;241m=\u001b[39m\u001b[38;5;28;01mNone\u001b[39;00m, sample_weight\u001b[38;5;241m=\u001b[39m\u001b[38;5;28;01mNone\u001b[39;00m):\n\u001b[0;32m   1112\u001b[0m     \u001b[38;5;124;03m\"\"\"Compute k-means clustering.\u001b[39;00m\n\u001b[0;32m   1113\u001b[0m \n\u001b[0;32m   1114\u001b[0m \u001b[38;5;124;03m    Parameters\u001b[39;00m\n\u001b[1;32m   (...)\u001b[0m\n\u001b[0;32m   1135\u001b[0m \u001b[38;5;124;03m        Fitted estimator.\u001b[39;00m\n\u001b[0;32m   1136\u001b[0m \u001b[38;5;124;03m    \"\"\"\u001b[39;00m\n\u001b[1;32m-> 1137\u001b[0m     X \u001b[38;5;241m=\u001b[39m \u001b[38;5;28;43mself\u001b[39;49m\u001b[38;5;241;43m.\u001b[39;49m\u001b[43m_validate_data\u001b[49m\u001b[43m(\u001b[49m\n\u001b[0;32m   1138\u001b[0m \u001b[43m        \u001b[49m\u001b[43mX\u001b[49m\u001b[43m,\u001b[49m\n\u001b[0;32m   1139\u001b[0m \u001b[43m        \u001b[49m\u001b[43maccept_sparse\u001b[49m\u001b[38;5;241;43m=\u001b[39;49m\u001b[38;5;124;43m\"\u001b[39;49m\u001b[38;5;124;43mcsr\u001b[39;49m\u001b[38;5;124;43m\"\u001b[39;49m\u001b[43m,\u001b[49m\n\u001b[0;32m   1140\u001b[0m \u001b[43m        \u001b[49m\u001b[43mdtype\u001b[49m\u001b[38;5;241;43m=\u001b[39;49m\u001b[43m[\u001b[49m\u001b[43mnp\u001b[49m\u001b[38;5;241;43m.\u001b[39;49m\u001b[43mfloat64\u001b[49m\u001b[43m,\u001b[49m\u001b[43m \u001b[49m\u001b[43mnp\u001b[49m\u001b[38;5;241;43m.\u001b[39;49m\u001b[43mfloat32\u001b[49m\u001b[43m]\u001b[49m\u001b[43m,\u001b[49m\n\u001b[0;32m   1141\u001b[0m \u001b[43m        \u001b[49m\u001b[43morder\u001b[49m\u001b[38;5;241;43m=\u001b[39;49m\u001b[38;5;124;43m\"\u001b[39;49m\u001b[38;5;124;43mC\u001b[39;49m\u001b[38;5;124;43m\"\u001b[39;49m\u001b[43m,\u001b[49m\n\u001b[0;32m   1142\u001b[0m \u001b[43m        \u001b[49m\u001b[43mcopy\u001b[49m\u001b[38;5;241;43m=\u001b[39;49m\u001b[38;5;28;43mself\u001b[39;49m\u001b[38;5;241;43m.\u001b[39;49m\u001b[43mcopy_x\u001b[49m\u001b[43m,\u001b[49m\n\u001b[0;32m   1143\u001b[0m \u001b[43m        \u001b[49m\u001b[43maccept_large_sparse\u001b[49m\u001b[38;5;241;43m=\u001b[39;49m\u001b[38;5;28;43;01mFalse\u001b[39;49;00m\u001b[43m,\u001b[49m\n\u001b[0;32m   1144\u001b[0m \u001b[43m    \u001b[49m\u001b[43m)\u001b[49m\n\u001b[0;32m   1146\u001b[0m     \u001b[38;5;28mself\u001b[39m\u001b[38;5;241m.\u001b[39m_check_params(X)\n\u001b[0;32m   1147\u001b[0m     random_state \u001b[38;5;241m=\u001b[39m check_random_state(\u001b[38;5;28mself\u001b[39m\u001b[38;5;241m.\u001b[39mrandom_state)\n",
      "File \u001b[1;32m~\\anaconda3\\lib\\site-packages\\sklearn\\base.py:566\u001b[0m, in \u001b[0;36mBaseEstimator._validate_data\u001b[1;34m(self, X, y, reset, validate_separately, **check_params)\u001b[0m\n\u001b[0;32m    564\u001b[0m     \u001b[38;5;28;01mraise\u001b[39;00m \u001b[38;5;167;01mValueError\u001b[39;00m(\u001b[38;5;124m\"\u001b[39m\u001b[38;5;124mValidation should be done on X, y or both.\u001b[39m\u001b[38;5;124m\"\u001b[39m)\n\u001b[0;32m    565\u001b[0m \u001b[38;5;28;01melif\u001b[39;00m \u001b[38;5;129;01mnot\u001b[39;00m no_val_X \u001b[38;5;129;01mand\u001b[39;00m no_val_y:\n\u001b[1;32m--> 566\u001b[0m     X \u001b[38;5;241m=\u001b[39m check_array(X, \u001b[38;5;241m*\u001b[39m\u001b[38;5;241m*\u001b[39mcheck_params)\n\u001b[0;32m    567\u001b[0m     out \u001b[38;5;241m=\u001b[39m X\n\u001b[0;32m    568\u001b[0m \u001b[38;5;28;01melif\u001b[39;00m no_val_X \u001b[38;5;129;01mand\u001b[39;00m \u001b[38;5;129;01mnot\u001b[39;00m no_val_y:\n",
      "File \u001b[1;32m~\\anaconda3\\lib\\site-packages\\sklearn\\utils\\validation.py:746\u001b[0m, in \u001b[0;36mcheck_array\u001b[1;34m(array, accept_sparse, accept_large_sparse, dtype, order, copy, force_all_finite, ensure_2d, allow_nd, ensure_min_samples, ensure_min_features, estimator)\u001b[0m\n\u001b[0;32m    744\u001b[0m         array \u001b[38;5;241m=\u001b[39m array\u001b[38;5;241m.\u001b[39mastype(dtype, casting\u001b[38;5;241m=\u001b[39m\u001b[38;5;124m\"\u001b[39m\u001b[38;5;124munsafe\u001b[39m\u001b[38;5;124m\"\u001b[39m, copy\u001b[38;5;241m=\u001b[39m\u001b[38;5;28;01mFalse\u001b[39;00m)\n\u001b[0;32m    745\u001b[0m     \u001b[38;5;28;01melse\u001b[39;00m:\n\u001b[1;32m--> 746\u001b[0m         array \u001b[38;5;241m=\u001b[39m \u001b[43mnp\u001b[49m\u001b[38;5;241;43m.\u001b[39;49m\u001b[43masarray\u001b[49m\u001b[43m(\u001b[49m\u001b[43marray\u001b[49m\u001b[43m,\u001b[49m\u001b[43m \u001b[49m\u001b[43morder\u001b[49m\u001b[38;5;241;43m=\u001b[39;49m\u001b[43morder\u001b[49m\u001b[43m,\u001b[49m\u001b[43m \u001b[49m\u001b[43mdtype\u001b[49m\u001b[38;5;241;43m=\u001b[39;49m\u001b[43mdtype\u001b[49m\u001b[43m)\u001b[49m\n\u001b[0;32m    747\u001b[0m \u001b[38;5;28;01mexcept\u001b[39;00m ComplexWarning \u001b[38;5;28;01mas\u001b[39;00m complex_warning:\n\u001b[0;32m    748\u001b[0m     \u001b[38;5;28;01mraise\u001b[39;00m \u001b[38;5;167;01mValueError\u001b[39;00m(\n\u001b[0;32m    749\u001b[0m         \u001b[38;5;124m\"\u001b[39m\u001b[38;5;124mComplex data not supported\u001b[39m\u001b[38;5;130;01m\\n\u001b[39;00m\u001b[38;5;132;01m{}\u001b[39;00m\u001b[38;5;130;01m\\n\u001b[39;00m\u001b[38;5;124m\"\u001b[39m\u001b[38;5;241m.\u001b[39mformat(array)\n\u001b[0;32m    750\u001b[0m     ) \u001b[38;5;28;01mfrom\u001b[39;00m \u001b[38;5;21;01mcomplex_warning\u001b[39;00m\n",
      "File \u001b[1;32m~\\anaconda3\\lib\\site-packages\\pandas\\core\\generic.py:2064\u001b[0m, in \u001b[0;36mNDFrame.__array__\u001b[1;34m(self, dtype)\u001b[0m\n\u001b[0;32m   2063\u001b[0m \u001b[38;5;28;01mdef\u001b[39;00m \u001b[38;5;21m__array__\u001b[39m(\u001b[38;5;28mself\u001b[39m, dtype: npt\u001b[38;5;241m.\u001b[39mDTypeLike \u001b[38;5;241m|\u001b[39m \u001b[38;5;28;01mNone\u001b[39;00m \u001b[38;5;241m=\u001b[39m \u001b[38;5;28;01mNone\u001b[39;00m) \u001b[38;5;241m-\u001b[39m\u001b[38;5;241m>\u001b[39m np\u001b[38;5;241m.\u001b[39mndarray:\n\u001b[1;32m-> 2064\u001b[0m     \u001b[38;5;28;01mreturn\u001b[39;00m \u001b[43mnp\u001b[49m\u001b[38;5;241;43m.\u001b[39;49m\u001b[43masarray\u001b[49m\u001b[43m(\u001b[49m\u001b[38;5;28;43mself\u001b[39;49m\u001b[38;5;241;43m.\u001b[39;49m\u001b[43m_values\u001b[49m\u001b[43m,\u001b[49m\u001b[43m \u001b[49m\u001b[43mdtype\u001b[49m\u001b[38;5;241;43m=\u001b[39;49m\u001b[43mdtype\u001b[49m\u001b[43m)\u001b[49m\n",
      "\u001b[1;31mValueError\u001b[0m: could not convert string to float: 'Imperial Beach'"
     ]
    }
   ],
   "source": [
    "# Create an elbow curve to find the best value for K.\n",
    "inertia = []\n",
    "\n",
    "k = list(range(1, 11))\n",
    "\n",
    "for i in k:\n",
    "   km = KMeans(n_clusters =i, random_state=0)\n",
    "   km.fit(beaches_df)\n",
    "   inertia.append(km.inertia_)\n",
    "\n",
    "elbow_data = {\"k\": k, \"inertia\": inertia}\n",
    "elbow_df = pd.DataFrame(elbow_data)\n",
    "elbow_df.hvplot.line(x=\"k\", y=\"inertia\", title=\"Elbow Curve\", xticks=k)"
   ]
  },
  {
   "cell_type": "markdown",
   "metadata": {},
   "source": [
    "Running K-Means with `k=4`"
   ]
  },
  {
   "cell_type": "code",
   "execution_count": 36,
   "metadata": {},
   "outputs": [
    {
     "ename": "NameError",
     "evalue": "name 'pcs_df' is not defined",
     "output_type": "error",
     "traceback": [
      "\u001b[1;31m---------------------------------------------------------------------------\u001b[0m",
      "\u001b[1;31mNameError\u001b[0m                                 Traceback (most recent call last)",
      "Input \u001b[1;32mIn [36]\u001b[0m, in \u001b[0;36m<cell line: 5>\u001b[1;34m()\u001b[0m\n\u001b[0;32m      2\u001b[0m model \u001b[38;5;241m=\u001b[39m KMeans(n_clusters\u001b[38;5;241m=\u001b[39m\u001b[38;5;241m3\u001b[39m, random_state\u001b[38;5;241m=\u001b[39m\u001b[38;5;241m0\u001b[39m)\n\u001b[0;32m      4\u001b[0m \u001b[38;5;66;03m# Fit the model\u001b[39;00m\n\u001b[1;32m----> 5\u001b[0m model\u001b[38;5;241m.\u001b[39mfit(\u001b[43mpcs_df\u001b[49m)\n\u001b[0;32m      7\u001b[0m \u001b[38;5;66;03m# Predict clusters\u001b[39;00m\n\u001b[0;32m      8\u001b[0m predictions \u001b[38;5;241m=\u001b[39m model\u001b[38;5;241m.\u001b[39mpredict(beaches_df)\n",
      "\u001b[1;31mNameError\u001b[0m: name 'pcs_df' is not defined"
     ]
    }
   ],
   "source": [
    "# Initialize the K-Means model.\n",
    "model = KMeans(n_clusters=3, random_state=0)\n",
    "\n",
    "# Fit the model\n",
    "model.fit(pcs_df)\n",
    "\n",
    "# Predict clusters\n",
    "predictions = model.predict(beaches_df)\n",
    "predictions"
   ]
  },
  {
   "cell_type": "code",
   "execution_count": 61,
   "metadata": {},
   "outputs": [
    {
     "name": "stdout",
     "output_type": "stream",
     "text": [
      "(532, 9)\n"
     ]
    },
    {
     "data": {
      "text/html": [
       "<div>\n",
       "<style scoped>\n",
       "    .dataframe tbody tr th:only-of-type {\n",
       "        vertical-align: middle;\n",
       "    }\n",
       "\n",
       "    .dataframe tbody tr th {\n",
       "        vertical-align: top;\n",
       "    }\n",
       "\n",
       "    .dataframe thead th {\n",
       "        text-align: right;\n",
       "    }\n",
       "</style>\n",
       "<table border=\"1\" class=\"dataframe\">\n",
       "  <thead>\n",
       "    <tr style=\"text-align: right;\">\n",
       "      <th></th>\n",
       "      <th>Algorithm</th>\n",
       "      <th>ProofType</th>\n",
       "      <th>TotalCoinsMined</th>\n",
       "      <th>TotalCoinSupply</th>\n",
       "      <th>PC 1</th>\n",
       "      <th>PC 2</th>\n",
       "      <th>PC 3</th>\n",
       "      <th>CoinName</th>\n",
       "      <th>Class</th>\n",
       "    </tr>\n",
       "    <tr>\n",
       "      <th></th>\n",
       "      <th></th>\n",
       "      <th></th>\n",
       "      <th></th>\n",
       "      <th></th>\n",
       "      <th></th>\n",
       "      <th></th>\n",
       "      <th></th>\n",
       "      <th></th>\n",
       "      <th></th>\n",
       "    </tr>\n",
       "  </thead>\n",
       "  <tbody>\n",
       "    <tr>\n",
       "      <th>42</th>\n",
       "      <td>Scrypt</td>\n",
       "      <td>PoW/PoS</td>\n",
       "      <td>4.199995e+01</td>\n",
       "      <td>42</td>\n",
       "      <td>-0.341149</td>\n",
       "      <td>1.119324</td>\n",
       "      <td>-0.253848</td>\n",
       "      <td>42 Coin</td>\n",
       "      <td>0</td>\n",
       "    </tr>\n",
       "    <tr>\n",
       "      <th>404</th>\n",
       "      <td>Scrypt</td>\n",
       "      <td>PoW/PoS</td>\n",
       "      <td>1.055185e+09</td>\n",
       "      <td>532000000</td>\n",
       "      <td>-0.324467</td>\n",
       "      <td>1.119538</td>\n",
       "      <td>-0.254071</td>\n",
       "      <td>404Coin</td>\n",
       "      <td>0</td>\n",
       "    </tr>\n",
       "    <tr>\n",
       "      <th>1337</th>\n",
       "      <td>X13</td>\n",
       "      <td>PoW/PoS</td>\n",
       "      <td>2.927942e+10</td>\n",
       "      <td>314159265359</td>\n",
       "      <td>2.287932</td>\n",
       "      <td>1.535358</td>\n",
       "      <td>-0.346538</td>\n",
       "      <td>EliteCoin</td>\n",
       "      <td>0</td>\n",
       "    </tr>\n",
       "    <tr>\n",
       "      <th>BTC</th>\n",
       "      <td>SHA-256</td>\n",
       "      <td>PoW</td>\n",
       "      <td>1.792718e+07</td>\n",
       "      <td>21000000</td>\n",
       "      <td>-0.160923</td>\n",
       "      <td>-1.381975</td>\n",
       "      <td>0.024595</td>\n",
       "      <td>Bitcoin</td>\n",
       "      <td>3</td>\n",
       "    </tr>\n",
       "    <tr>\n",
       "      <th>ETH</th>\n",
       "      <td>Ethash</td>\n",
       "      <td>PoW</td>\n",
       "      <td>1.076842e+08</td>\n",
       "      <td>0</td>\n",
       "      <td>-0.160844</td>\n",
       "      <td>-2.096176</td>\n",
       "      <td>0.131572</td>\n",
       "      <td>Ethereum</td>\n",
       "      <td>3</td>\n",
       "    </tr>\n",
       "    <tr>\n",
       "      <th>LTC</th>\n",
       "      <td>Scrypt</td>\n",
       "      <td>PoW</td>\n",
       "      <td>6.303924e+07</td>\n",
       "      <td>84000000</td>\n",
       "      <td>-0.166991</td>\n",
       "      <td>-1.046679</td>\n",
       "      <td>-0.008028</td>\n",
       "      <td>Litecoin</td>\n",
       "      <td>3</td>\n",
       "    </tr>\n",
       "    <tr>\n",
       "      <th>DASH</th>\n",
       "      <td>X11</td>\n",
       "      <td>PoW/PoS</td>\n",
       "      <td>9.031294e+06</td>\n",
       "      <td>22000000</td>\n",
       "      <td>-0.387854</td>\n",
       "      <td>1.227333</td>\n",
       "      <td>-0.222178</td>\n",
       "      <td>Dash</td>\n",
       "      <td>0</td>\n",
       "    </tr>\n",
       "    <tr>\n",
       "      <th>XMR</th>\n",
       "      <td>CryptoNight-V7</td>\n",
       "      <td>PoW</td>\n",
       "      <td>1.720114e+07</td>\n",
       "      <td>0</td>\n",
       "      <td>-0.159305</td>\n",
       "      <td>-2.315098</td>\n",
       "      <td>0.110157</td>\n",
       "      <td>Monero</td>\n",
       "      <td>3</td>\n",
       "    </tr>\n",
       "    <tr>\n",
       "      <th>ETC</th>\n",
       "      <td>Ethash</td>\n",
       "      <td>PoW</td>\n",
       "      <td>1.133597e+08</td>\n",
       "      <td>210000000</td>\n",
       "      <td>-0.159284</td>\n",
       "      <td>-2.096276</td>\n",
       "      <td>0.131563</td>\n",
       "      <td>Ethereum Classic</td>\n",
       "      <td>3</td>\n",
       "    </tr>\n",
       "    <tr>\n",
       "      <th>ZEC</th>\n",
       "      <td>Equihash</td>\n",
       "      <td>PoW</td>\n",
       "      <td>7.383056e+06</td>\n",
       "      <td>21000000</td>\n",
       "      <td>-0.155033</td>\n",
       "      <td>-2.157126</td>\n",
       "      <td>0.252905</td>\n",
       "      <td>ZCash</td>\n",
       "      <td>3</td>\n",
       "    </tr>\n",
       "  </tbody>\n",
       "</table>\n",
       "</div>"
      ],
      "text/plain": [
       "           Algorithm ProofType  TotalCoinsMined TotalCoinSupply      PC 1  \\\n",
       "                                                                            \n",
       "42            Scrypt   PoW/PoS     4.199995e+01              42 -0.341149   \n",
       "404           Scrypt   PoW/PoS     1.055185e+09       532000000 -0.324467   \n",
       "1337             X13   PoW/PoS     2.927942e+10    314159265359  2.287932   \n",
       "BTC          SHA-256       PoW     1.792718e+07        21000000 -0.160923   \n",
       "ETH           Ethash       PoW     1.076842e+08               0 -0.160844   \n",
       "LTC           Scrypt       PoW     6.303924e+07        84000000 -0.166991   \n",
       "DASH             X11   PoW/PoS     9.031294e+06        22000000 -0.387854   \n",
       "XMR   CryptoNight-V7       PoW     1.720114e+07               0 -0.159305   \n",
       "ETC           Ethash       PoW     1.133597e+08       210000000 -0.159284   \n",
       "ZEC         Equihash       PoW     7.383056e+06        21000000 -0.155033   \n",
       "\n",
       "          PC 2      PC 3          CoinName  Class  \n",
       "                                                   \n",
       "42    1.119324 -0.253848           42 Coin      0  \n",
       "404   1.119538 -0.254071           404Coin      0  \n",
       "1337  1.535358 -0.346538         EliteCoin      0  \n",
       "BTC  -1.381975  0.024595           Bitcoin      3  \n",
       "ETH  -2.096176  0.131572          Ethereum      3  \n",
       "LTC  -1.046679 -0.008028          Litecoin      3  \n",
       "DASH  1.227333 -0.222178              Dash      0  \n",
       "XMR  -2.315098  0.110157            Monero      3  \n",
       "ETC  -2.096276  0.131563  Ethereum Classic      3  \n",
       "ZEC  -2.157126  0.252905             ZCash      3  "
      ]
     },
     "execution_count": 61,
     "metadata": {},
     "output_type": "execute_result"
    }
   ],
   "source": [
    "# Create a new DataFrame including predicted clusters and cryptocurrencies features.\n",
    "# Concatentate the crypto_df and pcs_df DataFrames on the same columns.\n",
    "clustered_df = pd.concat([crypto_df,pcs_df],axis =1)\n",
    "\n",
    "#  Add a new column, \"CoinName\" to the clustered_df DataFrame that holds the names of the cryptocurrencies. \n",
    "clustered_df['CoinName'] = names_df['CoinName']\n",
    "\n",
    "#  Add a new column, \"Class\" to the clustered_df DataFrame that holds the predictions.\n",
    "clustered_df[\"Class\"]= model.labels_\n",
    "\n",
    "# Print the shape of the clustered_df\n",
    "print(clustered_df.shape)\n",
    "clustered_df.head(10)"
   ]
  },
  {
   "cell_type": "markdown",
   "metadata": {},
   "source": [
    "### Deliverable 4: Visualizing Cryptocurrencies Results\n",
    "\n",
    "#### 3D-Scatter with Clusters"
   ]
  },
  {
   "cell_type": "code",
   "execution_count": 62,
   "metadata": {},
   "outputs": [
    {
     "data": {
      "application/vnd.plotly.v1+json": {
       "config": {
        "plotlyServerURL": "https://plot.ly"
       },
       "data": [
        {
         "customdata": [
          [
           "Scrypt"
          ],
          [
           "Scrypt"
          ],
          [
           "X13"
          ],
          [
           "X11"
          ],
          [
           "SHA-512"
          ],
          [
           "SHA-256"
          ],
          [
           "SHA-256"
          ],
          [
           "X15"
          ],
          [
           "Scrypt"
          ],
          [
           "Scrypt"
          ],
          [
           "Scrypt"
          ],
          [
           "Scrypt"
          ],
          [
           "Scrypt"
          ],
          [
           "Scrypt"
          ],
          [
           "Groestl"
          ],
          [
           "PoS"
          ],
          [
           "Scrypt"
          ],
          [
           "Scrypt"
          ],
          [
           "X11"
          ],
          [
           "X11"
          ],
          [
           "SHA3"
          ],
          [
           "Scrypt"
          ],
          [
           "SHA-256"
          ],
          [
           "Scrypt"
          ],
          [
           "X13"
          ],
          [
           "X13"
          ],
          [
           "NeoScrypt"
          ],
          [
           "Scrypt"
          ],
          [
           "Scrypt"
          ],
          [
           "Scrypt"
          ],
          [
           "X11"
          ],
          [
           "X11"
          ],
          [
           "Multiple"
          ],
          [
           "PHI1612"
          ],
          [
           "X11"
          ],
          [
           "Scrypt"
          ],
          [
           "Scrypt"
          ],
          [
           "Scrypt"
          ],
          [
           "X11"
          ],
          [
           "Multiple"
          ],
          [
           "X13"
          ],
          [
           "Scrypt"
          ],
          [
           "Shabal256"
          ],
          [
           "Counterparty"
          ],
          [
           "SHA-256"
          ],
          [
           "Groestl"
          ],
          [
           "Scrypt"
          ],
          [
           "X13"
          ],
          [
           "Scrypt"
          ],
          [
           "Scrypt"
          ],
          [
           "X13"
          ],
          [
           "X11"
          ],
          [
           "Scrypt"
          ],
          [
           "X11"
          ],
          [
           "SHA3"
          ],
          [
           "QUAIT"
          ],
          [
           "X11"
          ],
          [
           "Scrypt"
          ],
          [
           "X13"
          ],
          [
           "SHA-256"
          ],
          [
           "X15"
          ],
          [
           "BLAKE256"
          ],
          [
           "SHA-256"
          ],
          [
           "X11"
          ],
          [
           "SHA-256"
          ],
          [
           "NIST5"
          ],
          [
           "Scrypt"
          ],
          [
           "Scrypt"
          ],
          [
           "X11"
          ],
          [
           "Scrypt"
          ],
          [
           "SHA-256"
          ],
          [
           "Scrypt"
          ],
          [
           "PoS"
          ],
          [
           "X11"
          ],
          [
           "SHA-256"
          ],
          [
           "SHA-256"
          ],
          [
           "NIST5"
          ],
          [
           "X11"
          ],
          [
           "POS 3.0"
          ],
          [
           "Scrypt"
          ],
          [
           "Scrypt"
          ],
          [
           "Scrypt"
          ],
          [
           "X13"
          ],
          [
           "X11"
          ],
          [
           "X11"
          ],
          [
           "Scrypt"
          ],
          [
           "SHA-256"
          ],
          [
           "X11"
          ],
          [
           "Scrypt"
          ],
          [
           "Scrypt"
          ],
          [
           "Scrypt"
          ],
          [
           "Scrypt"
          ],
          [
           "SHA-256D"
          ],
          [
           "PoS"
          ],
          [
           "Scrypt"
          ],
          [
           "X11"
          ],
          [
           "PoS"
          ],
          [
           "X13"
          ],
          [
           "X14"
          ],
          [
           "PoS"
          ],
          [
           "SHA-256D"
          ],
          [
           "DPoS"
          ],
          [
           "X11"
          ],
          [
           "X13"
          ],
          [
           "X11"
          ],
          [
           "PoS"
          ],
          [
           "Scrypt"
          ],
          [
           "Scrypt"
          ],
          [
           "PoS"
          ],
          [
           "X11"
          ],
          [
           "SHA-256"
          ],
          [
           "Scrypt"
          ],
          [
           "X11"
          ],
          [
           "Scrypt"
          ],
          [
           "Scrypt"
          ],
          [
           "X11"
          ],
          [
           "Scrypt"
          ],
          [
           "Scrypt"
          ],
          [
           "Scrypt"
          ],
          [
           "Scrypt"
          ],
          [
           "Quark"
          ],
          [
           "QuBit"
          ],
          [
           "Scrypt"
          ],
          [
           "SHA-256"
          ],
          [
           "X11"
          ],
          [
           "Scrypt"
          ],
          [
           "Scrypt"
          ],
          [
           "Scrypt"
          ],
          [
           "Scrypt"
          ],
          [
           "X13"
          ],
          [
           "Scrypt"
          ],
          [
           "Scrypt"
          ],
          [
           "X11"
          ],
          [
           "Blake2S"
          ],
          [
           "X11"
          ],
          [
           "PoS"
          ],
          [
           "X11"
          ],
          [
           "PoS"
          ],
          [
           "X11"
          ],
          [
           "Scrypt"
          ],
          [
           "Scrypt"
          ],
          [
           "Scrypt"
          ],
          [
           "SHA-256"
          ],
          [
           "X11"
          ],
          [
           "Scrypt"
          ],
          [
           "PoS"
          ],
          [
           "Scrypt"
          ],
          [
           "X15"
          ],
          [
           "SHA-256"
          ],
          [
           "POS 3.0"
          ],
          [
           "536"
          ],
          [
           "NIST5"
          ],
          [
           "NIST5"
          ],
          [
           "Skein"
          ],
          [
           "X13"
          ],
          [
           "Scrypt"
          ],
          [
           "X13"
          ],
          [
           "SkunkHash v2 Raptor"
          ],
          [
           "Skein"
          ],
          [
           "X11"
          ],
          [
           "Scrypt"
          ],
          [
           "VeChainThor Authority"
          ],
          [
           "PoS"
          ],
          [
           "Scrypt"
          ],
          [
           "Scrypt"
          ],
          [
           "SHA-512"
          ],
          [
           "Ouroboros"
          ],
          [
           "X11"
          ],
          [
           "NeoScrypt"
          ],
          [
           "Scrypt"
          ],
          [
           "Lyra2REv2"
          ],
          [
           "Scrypt"
          ],
          [
           "SHA-256"
          ],
          [
           "NIST5"
          ],
          [
           "PHI1612"
          ],
          [
           "Scrypt"
          ],
          [
           "Quark"
          ],
          [
           "POS 2.0"
          ],
          [
           "Scrypt"
          ],
          [
           "SHA-256"
          ],
          [
           "X11"
          ],
          [
           "DPoS"
          ],
          [
           "NIST5"
          ],
          [
           "X13"
          ],
          [
           "Scrypt"
          ],
          [
           "NIST5"
          ],
          [
           "Quark"
          ],
          [
           "Scrypt"
          ],
          [
           "Scrypt"
          ],
          [
           "X11"
          ],
          [
           "Quark"
          ],
          [
           "Scrypt"
          ],
          [
           "Scrypt"
          ],
          [
           "X11"
          ],
          [
           "POS 3.0"
          ],
          [
           "Ethash"
          ],
          [
           "Scrypt"
          ],
          [
           "Scrypt"
          ],
          [
           "X13"
          ],
          [
           "Proof-of-BibleHash"
          ],
          [
           "SHA-256 + Hive"
          ],
          [
           "C11"
          ],
          [
           "X11"
          ],
          [
           "XEVAN"
          ],
          [
           "Scrypt"
          ],
          [
           "VBFT"
          ],
          [
           "NIST5"
          ],
          [
           "Scrypt"
          ],
          [
           "Scrypt"
          ],
          [
           "Scrypt"
          ],
          [
           "Green Protocol"
          ],
          [
           "PoS"
          ],
          [
           "Scrypt"
          ],
          [
           "Semux BFT consensus"
          ],
          [
           "Quark"
          ],
          [
           "PoS"
          ],
          [
           "X16R"
          ],
          [
           "Scrypt"
          ],
          [
           "XEVAN"
          ],
          [
           "Scrypt"
          ],
          [
           "Scrypt"
          ],
          [
           "Scrypt"
          ],
          [
           "SHA-256D"
          ],
          [
           "Scrypt"
          ],
          [
           "X15"
          ],
          [
           "Scrypt"
          ],
          [
           "Quark"
          ],
          [
           "SHA-256"
          ],
          [
           "DPoS"
          ],
          [
           "X16R"
          ],
          [
           "Quark"
          ],
          [
           "Quark"
          ],
          [
           "Scrypt"
          ],
          [
           "Lyra2REv2"
          ],
          [
           "Quark"
          ],
          [
           "Scrypt"
          ],
          [
           "X11"
          ],
          [
           "X11"
          ],
          [
           "Scrypt"
          ],
          [
           "PoS"
          ],
          [
           "Keccak"
          ],
          [
           "X11"
          ],
          [
           "Scrypt"
          ],
          [
           "SHA-512"
          ],
          [
           "ECC 256K1"
          ],
          [
           "XEVAN"
          ],
          [
           "XEVAN"
          ],
          [
           "X11"
          ],
          [
           "Quark"
          ],
          [
           "Scrypt"
          ],
          [
           "Quark"
          ],
          [
           "Quark"
          ],
          [
           "Scrypt"
          ],
          [
           "X11"
          ],
          [
           "Scrypt"
          ],
          [
           "XEVAN"
          ],
          [
           "SHA-256D"
          ],
          [
           "X11"
          ],
          [
           "X11"
          ],
          [
           "DPoS"
          ],
          [
           "Scrypt"
          ],
          [
           "X11"
          ],
          [
           "Scrypt"
          ],
          [
           "Scrypt"
          ],
          [
           "SHA-256"
          ],
          [
           "Scrypt"
          ],
          [
           "X11"
          ],
          [
           "Scrypt"
          ],
          [
           "SHA-256"
          ],
          [
           "X11"
          ],
          [
           "Scrypt"
          ],
          [
           "Scrypt"
          ],
          [
           "X11"
          ],
          [
           "Scrypt"
          ],
          [
           "PoS"
          ],
          [
           "X11"
          ],
          [
           "SHA-256"
          ],
          [
           "DPoS"
          ],
          [
           "Scrypt"
          ],
          [
           "Scrypt"
          ],
          [
           "NeoScrypt"
          ],
          [
           "X13"
          ],
          [
           "DPoS"
          ],
          [
           "DPoS"
          ],
          [
           "SHA-256"
          ],
          [
           "Leased POS"
          ],
          [
           "PoS"
          ],
          [
           "PoS"
          ],
          [
           "SHA-256"
          ],
          [
           "Scrypt"
          ],
          [
           "Scrypt"
          ]
         ],
         "hovertemplate": "<b>%{hovertext}</b><br><br>Class=%{marker.color}<br>PC 1=%{x}<br>PC 2=%{y}<br>PC 3=%{z}<br>Algorithm=%{customdata[0]}<extra></extra>",
         "hovertext": [
          "42 Coin",
          "404Coin",
          "EliteCoin",
          "Dash",
          "Bitshares",
          "BitcoinDark",
          "PayCoin",
          "KoboCoin",
          "Aurora Coin",
          "BlueCoin",
          "EnergyCoin",
          "BitBar",
          "CryptoBullion",
          "CasinoCoin",
          "Diamond",
          "Exclusive Coin",
          "FlutterCoin",
          "HoboNickels",
          "HyperStake",
          "IOCoin",
          "MaxCoin",
          "MintCoin",
          "MazaCoin",
          "Nautilus Coin",
          "NavCoin",
          "OpalCoin",
          "Orbitcoin",
          "PotCoin",
          "PhoenixCoin",
          "Reddcoin",
          "SuperCoin",
          "SyncCoin",
          "TeslaCoin",
          "TittieCoin",
          "TorCoin",
          "UnitaryStatus Dollar",
          "UltraCoin",
          "VeriCoin",
          "X11 Coin",
          "Crypti",
          "StealthCoin",
          "ZCC Coin",
          "BurstCoin",
          "StorjCoin",
          "Neutron",
          "FairCoin",
          "RubyCoin",
          "Kore",
          "Dnotes",
          "8BIT Coin",
          "Sativa Coin",
          "Ucoin",
          "Vtorrent",
          "IslaCoin",
          "Nexus",
          "Droidz",
          "Squall Coin",
          "Diggits",
          "Paycon",
          "Emercoin",
          "EverGreenCoin",
          "Decred",
          "EDRCoin",
          "Hitcoin",
          "DubaiCoin",
          "PWR Coin",
          "BillaryCoin",
          "GPU Coin",
          "EuropeCoin",
          "ZeitCoin",
          "SwingCoin",
          "SafeExchangeCoin",
          "Nebuchadnezzar",
          "Ratecoin",
          "Revenu",
          "Clockcoin",
          "VIP Tokens",
          "BitSend",
          "Let it Ride",
          "PutinCoin",
          "iBankCoin",
          "Frankywillcoin",
          "MudraCoin",
          "Lutetium Coin",
          "GoldBlocks",
          "CarterCoin",
          "BitTokens",
          "MustangCoin",
          "ZoneCoin",
          "RootCoin",
          "BitCurrency",
          "Swiscoin",
          "BuzzCoin",
          "Opair",
          "PesoBit",
          "Halloween Coin",
          "CoffeeCoin",
          "RoyalCoin",
          "GanjaCoin V2",
          "TeamUP",
          "LanaCoin",
          "ARK",
          "InsaneCoin",
          "EmberCoin",
          "XenixCoin",
          "FreeCoin",
          "PLNCoin",
          "AquariusCoin",
          "Creatio",
          "Eternity",
          "Eurocoin",
          "BitcoinFast",
          "Stakenet",
          "BitConnect Coin",
          "MoneyCoin",
          "Enigma",
          "Russiacoin",
          "PandaCoin",
          "GameUnits",
          "GAKHcoin",
          "Allsafe",
          "LiteCreed",
          "Klingon Empire Darsek",
          "Internet of People",
          "KushCoin",
          "Printerium",
          "Impeach",
          "Zilbercoin",
          "FirstCoin",
          "FindCoin",
          "OpenChat",
          "RenosCoin",
          "VirtacoinPlus",
          "TajCoin",
          "Impact",
          "Atmos",
          "HappyCoin",
          "MacronCoin",
          "Condensate",
          "Independent Money System",
          "ArgusCoin",
          "LomoCoin",
          "ProCurrency",
          "GoldReserve",
          "GrowthCoin",
          "Phreak",
          "Degas Coin",
          "HTML5 Coin",
          "Ultimate Secure Cash",
          "QTUM",
          "Espers",
          "Denarius",
          "Virta Unique Coin",
          "Bitcoin Planet",
          "BritCoin",
          "Linda",
          "DeepOnion",
          "Signatum",
          "Cream",
          "Monoeci",
          "Draftcoin",
          "Vechain",
          "Stakecoin",
          "CoinonatX",
          "Ethereum Dark",
          "Obsidian",
          "Cardano",
          "Regalcoin",
          "TrezarCoin",
          "TerraNovaCoin",
          "Rupee",
          "WomenCoin",
          "Theresa May Coin",
          "NamoCoin",
          "LUXCoin",
          "Xios",
          "Bitcloud 2.0",
          "KekCoin",
          "BlackholeCoin",
          "Infinity Economics",
          "Magnet",
          "Lamden Tau",
          "Electra",
          "Bitcoin Diamond",
          "Cash & Back Coin",
          "Bulwark",
          "Kalkulus",
          "GermanCoin",
          "LiteCoin Ultra",
          "PhantomX",
          "Digiwage",
          "Trollcoin",
          "Litecoin Plus",
          "Monkey Project",
          "TokenPay",
          "1717 Masonic Commemorative Token",
          "My Big Coin",
          "Unified Society USDEX",
          "Tokyo Coin",
          "BiblePay",
          "LitecoinCash",
          "Stipend",
          "Pushi",
          "Ellerium",
          "Velox",
          "Ontology",
          "Bitspace",
          "Briacoin",
          "Ignition",
          "MedicCoin",
          "Bitcoin Green",
          "Deviant Coin",
          "Abjcoin",
          "Semux",
          "Carebit",
          "Zealium",
          "Proton",
          "iDealCash",
          "Bitcoin Incognito",
          "HollyWoodCoin",
          "Swisscoin",
          "Xt3ch",
          "TheVig",
          "EmaratCoin",
          "Dekado",
          "Lynx",
          "Poseidon Quark",
          "BitcoinWSpectrum",
          "Muse",
          "Trivechain",
          "Dystem",
          "Giant",
          "Peony Coin",
          "Absolute Coin",
          "Vitae",
          "TPCash",
          "ARENON",
          "EUNO",
          "MMOCoin",
          "Ketan",
          "XDNA",
          "PAXEX",
          "ThunderStake",
          "Kcash",
          "Acute Angle Cloud",
          "Bettex coin",
          "BitMoney",
          "Junson Ming Chan Coin",
          "HerbCoin",
          "Oduwa",
          "Galilel",
          "Crypto Sports",
          "Credit",
          "Dash Platinum",
          "Nasdacoin",
          "Beetle Coin",
          "Titan Coin",
          "Award",
          "Insane Coin",
          "ALAX",
          "LiteDoge",
          "TruckCoin",
          "OrangeCoin",
          "BitstarCoin",
          "NeosCoin",
          "HyperCoin",
          "PinkCoin",
          "AudioCoin",
          "IncaKoin",
          "Piggy Coin",
          "Genstake",
          "XiaoMiCoin",
          "CapriCoin",
          " ClubCoin",
          "Radium",
          "Creditbit ",
          "OKCash",
          "Lisk",
          "HiCoin",
          "WhiteCoin",
          "FriendshipCoin",
          "Triangles Coin",
          "EOS",
          "Oxycoin",
          "TigerCash",
          "Waves",
          "Particl",
          "Nxt",
          "ZEPHYR",
          "Gapcoin",
          "BitcoinPlus"
         ],
         "legendgroup": "0",
         "marker": {
          "color": [
           0,
           0,
           0,
           0,
           0,
           0,
           0,
           0,
           0,
           0,
           0,
           0,
           0,
           0,
           0,
           0,
           0,
           0,
           0,
           0,
           0,
           0,
           0,
           0,
           0,
           0,
           0,
           0,
           0,
           0,
           0,
           0,
           0,
           0,
           0,
           0,
           0,
           0,
           0,
           0,
           0,
           0,
           0,
           0,
           0,
           0,
           0,
           0,
           0,
           0,
           0,
           0,
           0,
           0,
           0,
           0,
           0,
           0,
           0,
           0,
           0,
           0,
           0,
           0,
           0,
           0,
           0,
           0,
           0,
           0,
           0,
           0,
           0,
           0,
           0,
           0,
           0,
           0,
           0,
           0,
           0,
           0,
           0,
           0,
           0,
           0,
           0,
           0,
           0,
           0,
           0,
           0,
           0,
           0,
           0,
           0,
           0,
           0,
           0,
           0,
           0,
           0,
           0,
           0,
           0,
           0,
           0,
           0,
           0,
           0,
           0,
           0,
           0,
           0,
           0,
           0,
           0,
           0,
           0,
           0,
           0,
           0,
           0,
           0,
           0,
           0,
           0,
           0,
           0,
           0,
           0,
           0,
           0,
           0,
           0,
           0,
           0,
           0,
           0,
           0,
           0,
           0,
           0,
           0,
           0,
           0,
           0,
           0,
           0,
           0,
           0,
           0,
           0,
           0,
           0,
           0,
           0,
           0,
           0,
           0,
           0,
           0,
           0,
           0,
           0,
           0,
           0,
           0,
           0,
           0,
           0,
           0,
           0,
           0,
           0,
           0,
           0,
           0,
           0,
           0,
           0,
           0,
           0,
           0,
           0,
           0,
           0,
           0,
           0,
           0,
           0,
           0,
           0,
           0,
           0,
           0,
           0,
           0,
           0,
           0,
           0,
           0,
           0,
           0,
           0,
           0,
           0,
           0,
           0,
           0,
           0,
           0,
           0,
           0,
           0,
           0,
           0,
           0,
           0,
           0,
           0,
           0,
           0,
           0,
           0,
           0,
           0,
           0,
           0,
           0,
           0,
           0,
           0,
           0,
           0,
           0,
           0,
           0,
           0,
           0,
           0,
           0,
           0,
           0,
           0,
           0,
           0,
           0,
           0,
           0,
           0,
           0,
           0,
           0,
           0,
           0,
           0,
           0,
           0,
           0,
           0,
           0,
           0,
           0,
           0,
           0,
           0,
           0,
           0,
           0,
           0,
           0,
           0,
           0,
           0,
           0,
           0,
           0,
           0,
           0,
           0,
           0,
           0,
           0,
           0,
           0,
           0,
           0,
           0,
           0,
           0
          ],
          "coloraxis": "coloraxis",
          "symbol": "circle"
         },
         "mode": "markers",
         "name": "0",
         "scene": "scene",
         "showlegend": true,
         "type": "scatter3d",
         "x": [
          -0.34114899190982156,
          -0.32446726039389356,
          2.2879323938189855,
          -0.3878540106666518,
          -0.2768532586025323,
          -0.3339099690477497,
          -0.28191367372729503,
          -0.24735378316357406,
          -0.3408081447079454,
          -0.33337820970285625,
          -0.33964402206309985,
          -0.34114492165682647,
          -0.3411291843668321,
          0.7271441183203491,
          -0.3826369047383622,
          -0.359959726250932,
          -0.30132319880880315,
          -0.339205237978374,
          -0.31566074429944974,
          -0.3877485988406148,
          -0.39487398042757477,
          -0.02880658809869752,
          -0.2971678726729774,
          -0.2889034141739736,
          -0.3000754726094041,
          -0.30069831928924484,
          -0.3502762705667293,
          -0.3354435159968623,
          -0.33954865509315674,
          0.017359573834789616,
          -0.3355677342336855,
          -0.3881206508042529,
          -0.24071427706135812,
          -0.3318478600999963,
          -0.3880321548161826,
          -0.3163484691007253,
          -0.33982458214835776,
          -0.25336333243465675,
          -0.3879966147419914,
          -0.24118294616994954,
          -0.3004789581023331,
          -0.3322384810327749,
          0.1744286841608107,
          -0.31199022487113015,
          -0.33312066835694265,
          -0.3820578945510771,
          -0.2888837263360834,
          -0.3007737291975697,
          -0.28353002731686566,
          -0.3411310420687106,
          -0.3007258746594974,
          -0.3360129445102113,
          -0.34086506128967287,
          -0.38810216077393606,
          -0.3502817352149088,
          -0.44299217984646694,
          -0.22321363929307747,
          -0.28728317474905185,
          -0.30024684136984137,
          -0.32645465934013146,
          -0.2497991906931372,
          -0.07411685117883207,
          -0.33388085318961186,
          -0.06512002792642255,
          -0.33394466472214934,
          -0.2392148044986691,
          -0.34074071524314176,
          -0.287151540290418,
          -0.3852667314470066,
          0.8658847084577032,
          -0.33374438978391907,
          -0.004544459105284664,
          -0.3596425852897358,
          -0.38594260871590513,
          -0.33248582325201553,
          -0.3301503062808917,
          -0.3606974130159609,
          -0.3868354309791652,
          -0.3132473982938955,
          -0.31700405851698477,
          -0.3407788414654261,
          -0.3392159941235864,
          -0.24746956580119747,
          -0.32348805213481663,
          -0.3875753023764425,
          -0.33998204665652476,
          -0.33392554993704465,
          -0.3880913277848278,
          -0.34096830244249143,
          -0.3411252692569191,
          -0.2871421027224349,
          -0.21767698261179827,
          0.013937439520233531,
          -0.3585983526136725,
          -0.34073903076558026,
          -0.37423279845695784,
          -0.35792645684541197,
          -0.24890252412455088,
          -0.41913348610539514,
          -0.35767396563078424,
          -0.30096701211550686,
          3.6827048541452947,
          -0.3876833318374688,
          0.8326046674347197,
          -0.3880461875462424,
          -0.35906268571030797,
          -0.3406663382198964,
          -0.340820806889973,
          -0.3596425852897358,
          -0.3876204050726986,
          -0.33378808666984094,
          -0.3406670997158858,
          -0.2709294170354518,
          -0.34081466386346915,
          -0.33639537934956665,
          -0.3880752059701671,
          -0.3400240370347746,
          0.35517310773981814,
          -0.3410142115557481,
          -0.34108489856679375,
          -0.35575619233268974,
          -0.3652437107365418,
          -0.3373055651517687,
          -0.3339019394651099,
          -0.3879850456500491,
          -0.34086240746041074,
          -0.34098948197750595,
          -0.2887898935640414,
          -0.23454467773732862,
          -0.24867008631088583,
          -0.32181900674074804,
          -0.28853085141584545,
          -0.38724963160757836,
          -0.4259978597322969,
          -0.38598666464521103,
          -0.35788693665805765,
          -0.3871474121969763,
          -0.3522798078922311,
          -0.3830824421414833,
          -0.34093271364529915,
          -0.3409318696239192,
          -0.33404218189565416,
          0.25163268978202896,
          -0.3876266506448369,
          -0.27140548383655416,
          -0.3596768697495958,
          -0.3401422171079396,
          0.8861422009604917,
          -0.28060190081495734,
          -0.3120241989713634,
          0.5613495541094546,
          -0.362234994833305,
          -0.36073519441694873,
          -0.4163146161571185,
          -0.3004105563149653,
          0.1244988980587305,
          -0.30048145100700824,
          -0.309135018247596,
          -0.4158189943426756,
          -0.38789945090181877,
          -0.2888643405300923,
          4.438715348869026,
          -0.3595428652139223,
          -0.3405674146453271,
          -0.3410678067805596,
          -0.33499261246755574,
          0.6711162559408288,
          -0.3878401394827106,
          -0.34526860964652173,
          -0.3410233247262478,
          -0.3266774304801389,
          0.42899334399214095,
          -0.3322461607030279,
          -0.346980889348617,
          -0.4194245659886568,
          -0.34097358894434465,
          -0.4061284273529661,
          -0.3545006726315781,
          -0.3408438833622553,
          -0.10817925315002011,
          -0.38663103036256824,
          3.687567523609511,
          0.19796530856115527,
          -0.2971480338844173,
          -0.3383006769072159,
          -0.31006538811582274,
          -0.3556419567798952,
          0.07394997648102579,
          -0.33998092498358595,
          -0.3872131889339634,
          -0.3548053884263855,
          -0.3275305776950969,
          -0.3410899618490765,
          -0.33598484074255625,
          -0.31352964179901716,
          -0.28298761400540423,
          -0.2743304142381895,
          -0.3366296281650061,
          -0.24045390224711238,
          -0.3491328098111428,
          -0.37630399907479817,
          -0.38299335455710803,
          -0.3879166439084533,
          -0.203967234791618,
          -0.28802298391987513,
          -0.3082545949306888,
          -0.36183336435544294,
          -0.3411173490832494,
          -0.34109903234303457,
          -0.28239696451014207,
          -0.3229902828160607,
          -0.35913678862495896,
          -0.3408151403093735,
          3.8547024765066054,
          -0.40479509178240314,
          -0.3593256868229546,
          -0.30327183050476997,
          -0.287607723901566,
          -0.03921292230555429,
          -0.2885581984562436,
          -0.1439831357161789,
          -0.28881043323381467,
          -0.3663823691322601,
          -0.34028838965812186,
          -0.19720915765230979,
          2.2053521605502238,
          -0.3513426571572674,
          -0.2807302079150986,
          1.000983772954321,
          -0.3545403549397329,
          -0.35575560041920884,
          -0.40781518019894625,
          -0.1693436787374962,
          -0.3785383345201114,
          -0.35447346603628543,
          -0.3339822118738107,
          -0.33556166221297035,
          -0.387389328472739,
          -0.28605211676933934,
          -0.3584239746160163,
          -0.3561729146160166,
          -0.3354226947704017,
          -0.20037397583730499,
          -0.3403381436029939,
          -0.3162348936214765,
          -0.15202754467408622,
          0.869623184070014,
          -0.1257227082180228,
          -0.40710886649411143,
          -0.34081915916780475,
          -0.40756561007965764,
          -0.355872731330878,
          0.566959622501636,
          -0.33603921720280183,
          -0.3403012647946539,
          -0.1984151836923951,
          -0.32103357673714394,
          -0.38494980138579293,
          -0.3876168883043582,
          3.699824018461408,
          0.09471448314193942,
          -0.3851541632681123,
          -0.339685596653039,
          -0.34051210013179045,
          -0.2819462980373347,
          -0.34103120998584413,
          -0.37923402927917277,
          -0.2545980205068739,
          -0.11334271744800108,
          -0.3749757637819854,
          -0.3403087248909742,
          -0.3333642108989476,
          -0.38418118477769514,
          -0.33874565937945295,
          -0.35991854762215514,
          -0.3586758221914147,
          -0.3324231378922575,
          3.6830972276922025,
          -0.09585058214362534,
          -0.3359369347916672,
          -0.349901488810804,
          -0.300881097165471,
          3.6929745672067305,
          3.6942199706899754,
          -0.26281914087517855,
          -0.41127820628926665,
          -0.359854350425007,
          -0.42091846930594623,
          2.4363720091305425,
          -0.33919122258595863,
          -0.2892075033029367
         ],
         "y": [
          1.1193236880841015,
          1.1195379360242832,
          1.535357782706502,
          1.2273325345741997,
          1.48886387891939,
          0.7840077659653841,
          0.626139921920845,
          1.8076158507817566,
          1.1193236684521957,
          1.119608234334901,
          1.1193787962716961,
          1.1193234644184602,
          1.1193236679386407,
          0.6413704553111662,
          0.9395225540974518,
          1.653625240493031,
          0.6862643601739864,
          1.1193054060102783,
          1.070213570563348,
          1.2273363944863425,
          1.237303062794457,
          0.9709819723198193,
          0.7835661068339986,
          0.9614458282701033,
          1.6747905024515375,
          1.6747676953951367,
          0.4910111441997012,
          1.1192195071343627,
          1.1193092314777795,
          1.132451357160939,
          1.0694846273789458,
          1.2273391706732542,
          0.17308400053928383,
          1.613470424436021,
          1.2273349571314462,
          1.1190390544536601,
          1.1192976367760479,
          0.8328218192127058,
          1.2273396131713614,
          0.1731413869181764,
          1.6747757278421638,
          1.1189044898313705,
          1.007104363793313,
          1.6724563401864536,
          0.7840023761338584,
          0.9395470211689856,
          0.9614586110299775,
          1.6747559883351637,
          0.9612819105997615,
          1.1193243453927972,
          1.67475923160318,
          1.0694534153452522,
          1.1193191753611567,
          1.227339848476471,
          0.35593119616631536,
          1.846223802037842,
          0.7877355172396902,
          0.9614426712997715,
          1.6747469534417414,
          0.7835516824531639,
          1.807767619065156,
          1.0388267578023074,
          0.7840088321138279,
          1.219374177078816,
          0.7840150685005903,
          1.5096881397575967,
          1.119307328070033,
          0.9613572492881686,
          1.2271574109360974,
          0.9299409175368573,
          0.7840004104433218,
          0.6427961218879235,
          1.6536219438167412,
          1.2273630148788763,
          0.7839102783872923,
          0.7837704595589544,
          1.5051726635004368,
          1.2272826113839532,
          1.7404088254161991,
          1.1187168570578911,
          1.1193041925355507,
          1.1193199217168763,
          1.5167888030871162,
          1.0694371751715066,
          1.227321866763872,
          1.1192993256120818,
          0.7840079409114274,
          1.2273380087175152,
          1.119314649455071,
          1.1193245567784376,
          0.9615223848434551,
          0.7042965780476413,
          1.8419016362220206,
          1.653619925116452,
          1.1193386998466128,
          1.2267294914512026,
          1.6536698745690055,
          1.5168835637124574,
          1.8640260356432228,
          1.653484550199096,
          1.8396846464676913,
          1.85216548762252,
          1.22733282056981,
          1.715632702779853,
          1.2273390255011583,
          1.6536208139060997,
          1.1193126309223431,
          1.1193043953182569,
          1.6536219438167412,
          1.2273127604336043,
          0.7840137199440341,
          1.11931673298897,
          0.8492437847949966,
          1.1193150569586519,
          1.1190127003897656,
          1.2273371081003184,
          1.119257532194731,
          0.9608031589994827,
          1.1193189322081452,
          1.1193235632008383,
          1.5368073851580462,
          0.5998650826661555,
          1.1190916853680168,
          0.7840088054666746,
          1.2273371637280095,
          1.1193192725376135,
          1.119313178134885,
          0.961421045631417,
          0.6646571855586942,
          1.5168831108168728,
          1.1192860243976366,
          0.9614458682525053,
          1.2272965180735849,
          1.9223742754860809,
          1.2273353099170508,
          1.653618921918104,
          1.2273002610876176,
          1.6536082681263178,
          1.227150918536547,
          1.1193157944943932,
          1.1193103178956452,
          1.1188384429073985,
          0.5897754625621132,
          1.2273274413058806,
          0.9606076627601007,
          1.6536132336226912,
          1.1192822784018837,
          1.7822894380142251,
          0.6260481157177945,
          1.7404040415371744,
          1.78095713977046,
          1.5051759994537648,
          1.5051489156881293,
          1.9966736398914298,
          1.6747558681873176,
          1.099100602891827,
          1.6747615483665552,
          1.6496237529448556,
          1.996691788297837,
          1.2273401837290903,
          0.9614463451717759,
          1.9654659646399364,
          1.6535945834336778,
          1.1193090131644674,
          1.1193235298981912,
          1.489350983368085,
          1.6868026017003053,
          1.2273293151092703,
          0.49089913103688326,
          1.1193165608662163,
          0.6042176161508889,
          1.1288873741648733,
          0.784010543062377,
          1.5048474465130415,
          1.7717123584139696,
          1.1193144558768602,
          1.6946038666777676,
          1.6560021060756847,
          1.119323836070816,
          0.6258016455118274,
          1.2272863686207645,
          1.8520639917501884,
          1.503332206365748,
          1.6747411473125786,
          1.1192714356675992,
          1.347294212598468,
          1.5368078407802515,
          1.0972496303447634,
          1.119254637977299,
          1.2273351264343062,
          1.5367639259331178,
          1.1191514290867015,
          1.1193228677317966,
          1.0694536989550647,
          1.740404826946013,
          -0.08811147921631973,
          0.672065763714396,
          1.119316224683222,
          1.5165984117121665,
          3.052544356966023,
          1.2140212306755653,
          0.8509980434328328,
          1.2273280046692983,
          1.4600329158793501,
          0.9613976898923137,
          1.7456234190972546,
          1.5051608869988293,
          1.1193226103596114,
          1.119321790114989,
          0.961323400469058,
          1.6676512178147007,
          1.6535897722649482,
          1.1193135485554988,
          1.8391503821314685,
          1.6946526900247376,
          1.6535888191225347,
          0.7508297225895287,
          1.1174659284483095,
          1.0204527439115063,
          0.9614511485904932,
          1.1189395184676274,
          0.9614284937841677,
          1.8428103164551206,
          1.119292580983668,
          1.6498669456669761,
          0.36010547284583083,
          1.5364956187343641,
          0.6261178325862067,
          1.722003968620633,
          0.9087033076378638,
          1.5368029339616494,
          1.694687357824216,
          0.9532521862004424,
          0.7620762537879725,
          1.5367909896534337,
          1.1188406388566023,
          1.0694438484055684,
          1.2273286766537663,
          0.9613684729487382,
          1.653524925323327,
          0.925265313749745,
          1.0694153905080914,
          1.1110598977815374,
          1.350747664089551,
          1.054556163980502,
          1.3021633718359227,
          1.1581170009727453,
          1.0771686168720913,
          1.69467680535285,
          1.1193201107012938,
          1.69468614547761,
          1.5368043329271375,
          1.0968145200074912,
          1.069452676949814,
          1.1192921095290156,
          1.4599082073038494,
          1.8408180290854472,
          1.227142178881832,
          1.2273352535624809,
          1.8521400540928556,
          1.109192150500045,
          1.2274477966241621,
          1.119228178224331,
          1.1193065626994498,
          0.626132390734935,
          1.1193280009889783,
          1.2272918375974404,
          1.114665440050903,
          0.7919591356234912,
          1.2270750251863325,
          1.1193432743730427,
          1.1193105555514913,
          1.2273283650945794,
          1.1192924154676982,
          1.653620039043224,
          0.7325129615151914,
          0.7840003352169155,
          1.8521538244257314,
          0.9610656209285213,
          1.1192908968120825,
          0.49098282414918815,
          1.6747609130781995,
          1.852634723122062,
          1.8526803266203287,
          0.6261029550206614,
          1.554163834919967,
          1.6536226625215524,
          1.7047631939888372,
          0.7562384101235058,
          1.1192090070184264,
          0.9614460096650164
         ],
         "z": [
          -0.25384812255023176,
          -0.2540708540120631,
          -0.34653797083808796,
          -0.22217783615203301,
          -0.04418091391936549,
          -0.22123686850431948,
          -0.054452766113009705,
          -0.3304835623489529,
          -0.25385220716879836,
          -0.2539714681455861,
          -0.2538720109333592,
          -0.2538481476328505,
          -0.2538483579029729,
          0.012428709627936591,
          -0.23037092207596874,
          -0.007836786452102347,
          -0.07584974245741834,
          -0.2538694890761104,
          -0.05571530838925804,
          -0.22217950935348815,
          -0.5541986361082604,
          -0.09119574177675692,
          -0.22163056349316784,
          -0.08706594687246262,
          -0.33029459063615463,
          -0.33028470419352585,
          -0.1936527920293393,
          -0.25390548218491993,
          -0.25386577724151754,
          -0.25953872745176054,
          -0.05539932482497978,
          -0.22217534291900862,
          0.07996554652124033,
          -0.1736464081523315,
          -0.22217595713823718,
          -0.25411529214232775,
          -0.25386123934132365,
          0.017219234371801936,
          -0.22217687701599623,
          0.07996508014136317,
          -0.33028818611268757,
          -0.2539105034278788,
          0.2917684093553975,
          0.041019074382681354,
          -0.22124576051194586,
          -0.2303804589657841,
          -0.0870675384974546,
          -0.3302825585448695,
          -0.08711298992564862,
          -0.25384840747130505,
          -0.3302834762509953,
          -0.05539067689168681,
          -0.2538510482705306,
          -0.2221756364902348,
          -0.8250246260031433,
          -0.354439974439533,
          0.04959686976612865,
          -0.08708503848321376,
          -0.3302879177192732,
          -0.22127789020060687,
          -0.33047033687013516,
          -0.15151771732755853,
          -0.22123733066020904,
          -0.22520340360633517,
          -0.22123722691972977,
          -0.23864617104282423,
          -0.25385128279101427,
          -0.08707755802481033,
          -0.2221902858872075,
          -0.09757066585420728,
          -0.22123807374198512,
          0.021050344849078053,
          -0.007840239316676231,
          -0.22220398587867626,
          -0.2212436055238047,
          -0.22125678063516463,
          -0.2367107631220976,
          -0.22218475455473308,
          0.025422432770171696,
          -0.254073263724023,
          -0.2538504931505535,
          -0.25387089945638275,
          -0.16350360245169882,
          -0.05553912601995213,
          -0.22218004652998152,
          -0.25385953046413234,
          -0.22123670024455802,
          -0.2221755712753458,
          -0.25384933046853714,
          -0.2538484991031214,
          -0.08709518328146712,
          -0.04910923297898902,
          -0.4121866365528557,
          -0.007852545413583257,
          -0.2538546298650075,
          -0.22227720137885057,
          -0.007865898311522781,
          -0.16349647058680508,
          -0.3638958792101441,
          -0.007849272577043731,
          -0.4081758805575647,
          -0.33529948958192823,
          -0.2221799128913367,
          -0.3482064202698404,
          -0.22217622032587314,
          -0.007847072391390675,
          -0.25385273690964505,
          -0.2538500114966539,
          -0.007840239316676231,
          -0.22217854005882176,
          -0.2212389612540239,
          -0.25385316279058995,
          0.20594542511637146,
          -0.25385121578364955,
          -0.2538721383046099,
          -0.22217566906558767,
          -0.25385459494724255,
          -0.09472016270492457,
          -0.25384923419839023,
          -0.25384887777513465,
          -0.07489182729113364,
          -0.23396377295925588,
          -0.25386960143674436,
          -0.221237075013476,
          -0.22217675597175984,
          -0.25385109039475107,
          -0.2538489205006457,
          -0.08706467984521038,
          0.048991337375727986,
          -0.16349920944884866,
          -0.25407589169780687,
          -0.0870704180771043,
          -0.2221812631193778,
          -0.37297224501636683,
          -0.22220051963219598,
          -0.007860968784903714,
          -0.22218288564763577,
          -0.007927067512302648,
          -0.2222157866492082,
          -0.2538498786000011,
          -0.2538493079437503,
          -0.25388187329196044,
          -0.05699356146273062,
          -0.2221800220354006,
          -0.08718685931249086,
          -0.007838904563335398,
          -0.2538558022448679,
          -0.3413882022913908,
          -0.05445875829237599,
          0.02540827413179076,
          -0.3499728116109567,
          -0.2366926815426994,
          -0.23670779174930756,
          -0.26210807273351294,
          -0.3302869001851824,
          -0.2572865681817381,
          -0.33028665253477163,
          0.11515215228038364,
          -0.2621159397364091,
          -0.22217810249988987,
          -0.0870664701746455,
          7.8436807831550075,
          -0.007838533461732801,
          -0.25385353933487326,
          -0.2538490791711288,
          -0.04353548875373992,
          0.010520980792349342,
          -0.22217766105114628,
          -0.19370095439859966,
          -0.25384887345972335,
          -0.09177555985824114,
          -0.2640961978398358,
          -0.22125711178808774,
          -0.2368407336976001,
          -0.34004357847258065,
          -0.2538492465559163,
          -0.24168783412214806,
          -0.13897569034244905,
          -0.25385179644378364,
          -0.05649993937415042,
          -0.22218760372669788,
          -0.33534702885337875,
          -0.24321386029066408,
          -0.33032445617680894,
          -0.2538767321637103,
          -0.06990917853495662,
          -0.07489324527343465,
          -0.25648420537031796,
          -0.2538548049308873,
          -0.22218579435507227,
          -0.07489861855666494,
          -0.2539931375195861,
          -0.253848743314948,
          -0.05539104392704216,
          0.025426240847275666,
          0.05254282217679094,
          -0.10797189633581637,
          -0.2539015174893266,
          -0.1635675286731048,
          4.168537944049368,
          -3.5070323210591297,
          -0.29029427529720286,
          -0.2221766048079824,
          -0.06537831194232656,
          -0.08707139816045495,
          0.016382786999244753,
          -0.23669589439648386,
          -0.25384838765312573,
          -0.2538485202834113,
          -0.08713097502663088,
          -0.040389559759473316,
          -0.007842892042364925,
          -0.25385105010977393,
          -0.3737229976117654,
          -0.24170899815183583,
          -0.00784052610710061,
          0.00528255863851216,
          -0.254293063807223,
          0.20639324144341434,
          -0.08707065015379585,
          -0.256171367943478,
          -0.08706522343100682,
          -0.4077230288468385,
          -0.25385514221676153,
          -0.16368987184513933,
          -0.09131081860249367,
          -0.07491168299324345,
          -0.054464613164630284,
          -0.16405359486534699,
          -0.16151087841821307,
          -0.07489136235281811,
          -0.24167646421124372,
          -0.08763053818551879,
          -0.2585603092578627,
          -0.07490546827183148,
          -0.25388282519585526,
          -0.055395073146713145,
          -0.2221829984929426,
          -0.08709193016100356,
          -0.007844561749654736,
          -0.1469149081706232,
          -0.05539372147315618,
          -0.25465964250243955,
          -0.08245155065915814,
          -0.05182289971605314,
          0.10140664941530965,
          0.45723181601773977,
          -0.05873019400638556,
          -0.24168381373732548,
          -0.25385169781908484,
          -0.24167932794937053,
          -0.07489010632879457,
          -0.26234916580572687,
          -0.05539028358203976,
          -0.25385493784977553,
          -0.06543165514977467,
          -0.4080554774634993,
          -0.22219247051415209,
          -0.22218096754924743,
          -0.3355020483296761,
          -0.2579996346824962,
          -0.22222243004176873,
          -0.2538555398948928,
          -0.25385394268251926,
          -0.05445157629465876,
          -0.2538499921055204,
          -0.22227687248976297,
          -0.25439186167255556,
          -0.22472465018043744,
          -0.2223049361064462,
          -0.2538602742738871,
          -0.2539400680981755,
          -0.22222143055490812,
          -0.2538736217401674,
          -0.007836728579663698,
          -0.03946725662285088,
          -0.22125390735180647,
          -0.335302957229558,
          -0.08934029798635945,
          -0.2539071368256544,
          -0.19365428234786103,
          -0.3302817934744197,
          -0.33547238264573676,
          -0.33549215092978607,
          -0.05467778611898645,
          -1.635732376099737,
          -0.007837776504785315,
          -0.02684858871456153,
          -0.2261303800203979,
          -0.2538594343110048,
          -0.08706232013144809
         ]
        },
        {
         "customdata": [
          [
           "SHA-256"
          ],
          [
           "Ethash"
          ],
          [
           "Scrypt"
          ],
          [
           "CryptoNight-V7"
          ],
          [
           "Ethash"
          ],
          [
           "Equihash"
          ],
          [
           "Multiple"
          ],
          [
           "Scrypt"
          ],
          [
           "X11"
          ],
          [
           "Scrypt"
          ],
          [
           "Multiple"
          ],
          [
           "Scrypt"
          ],
          [
           "SHA-256"
          ],
          [
           "Scrypt"
          ],
          [
           "Scrypt"
          ],
          [
           "Quark"
          ],
          [
           "Groestl"
          ],
          [
           "Scrypt"
          ],
          [
           "Scrypt"
          ],
          [
           "Scrypt"
          ],
          [
           "X11"
          ],
          [
           "Multiple"
          ],
          [
           "SHA-256"
          ],
          [
           "Scrypt"
          ],
          [
           "Scrypt"
          ],
          [
           "Scrypt"
          ],
          [
           "Scrypt"
          ],
          [
           "Scrypt"
          ],
          [
           "NeoScrypt"
          ],
          [
           "Scrypt"
          ],
          [
           "Scrypt"
          ],
          [
           "Scrypt"
          ],
          [
           "Scrypt"
          ],
          [
           "SHA-256"
          ],
          [
           "Scrypt"
          ],
          [
           "Scrypt"
          ],
          [
           "Scrypt"
          ],
          [
           "Scrypt"
          ],
          [
           "HybridScryptHash256"
          ],
          [
           "Scrypt"
          ],
          [
           "Scrypt"
          ],
          [
           "SHA-256"
          ],
          [
           "Scrypt"
          ],
          [
           "Scrypt"
          ],
          [
           "Scrypt"
          ],
          [
           "Scrypt"
          ],
          [
           "SHA-256"
          ],
          [
           "SHA-256"
          ],
          [
           "SHA-256"
          ],
          [
           "SHA-256"
          ],
          [
           "SHA-256"
          ],
          [
           "X11"
          ],
          [
           "Scrypt"
          ],
          [
           "Lyra2REv2"
          ],
          [
           "Scrypt"
          ],
          [
           "SHA-256"
          ],
          [
           "CryptoNight"
          ],
          [
           "CryptoNight"
          ],
          [
           "Scrypt"
          ],
          [
           "Scrypt"
          ],
          [
           "Scrypt"
          ],
          [
           "Scrypt"
          ],
          [
           "Scrypt"
          ],
          [
           "Scrypt"
          ],
          [
           "Stanford Folding"
          ],
          [
           "Multiple"
          ],
          [
           "QuBit"
          ],
          [
           "Scrypt"
          ],
          [
           "Scrypt"
          ],
          [
           "M7 POW"
          ],
          [
           "Scrypt"
          ],
          [
           "SHA-256"
          ],
          [
           "Scrypt"
          ],
          [
           "X11"
          ],
          [
           "Lyra2RE"
          ],
          [
           "SHA-256"
          ],
          [
           "X11"
          ],
          [
           "Scrypt"
          ],
          [
           "Scrypt"
          ],
          [
           "Ethash"
          ],
          [
           "Blake2b"
          ],
          [
           "X11"
          ],
          [
           "SHA-256"
          ],
          [
           "Scrypt"
          ],
          [
           "1GB AES Pattern Search"
          ],
          [
           "Scrypt"
          ],
          [
           "SHA-256"
          ],
          [
           "X11"
          ],
          [
           "Dagger"
          ],
          [
           "Scrypt"
          ],
          [
           "X11GOST"
          ],
          [
           "Scrypt"
          ],
          [
           "X11"
          ],
          [
           "Scrypt"
          ],
          [
           "X11"
          ],
          [
           "Equihash"
          ],
          [
           "CryptoNight"
          ],
          [
           "SHA-256"
          ],
          [
           "Multiple"
          ],
          [
           "Scrypt"
          ],
          [
           "SHA-256"
          ],
          [
           "Scrypt"
          ],
          [
           "Lyra2Z"
          ],
          [
           "Ethash"
          ],
          [
           "Equihash"
          ],
          [
           "Scrypt"
          ],
          [
           "X11"
          ],
          [
           "X11"
          ],
          [
           "CryptoNight"
          ],
          [
           "Scrypt"
          ],
          [
           "CryptoNight"
          ],
          [
           "Lyra2RE"
          ],
          [
           "X11"
          ],
          [
           "CryptoNight-V7"
          ],
          [
           "Scrypt"
          ],
          [
           "X11"
          ],
          [
           "Equihash"
          ],
          [
           "Scrypt"
          ],
          [
           "Lyra2RE"
          ],
          [
           "Dagger-Hashimoto"
          ],
          [
           "Scrypt"
          ],
          [
           "NIST5"
          ],
          [
           "Scrypt"
          ],
          [
           "SHA-256"
          ],
          [
           "Scrypt"
          ],
          [
           "CryptoNight-V7"
          ],
          [
           "Argon2d"
          ],
          [
           "Blake2b"
          ],
          [
           "Cloverhash"
          ],
          [
           "CryptoNight"
          ],
          [
           "X11"
          ],
          [
           "Scrypt"
          ],
          [
           "Scrypt"
          ],
          [
           "X11"
          ],
          [
           "X11"
          ],
          [
           "CryptoNight"
          ],
          [
           "Time Travel"
          ],
          [
           "Scrypt"
          ],
          [
           "Keccak"
          ],
          [
           "X11"
          ],
          [
           "SHA-256"
          ],
          [
           "Scrypt"
          ],
          [
           "Scrypt"
          ],
          [
           "Scrypt"
          ],
          [
           "Scrypt"
          ],
          [
           "Scrypt"
          ],
          [
           "Scrypt"
          ],
          [
           "CryptoNight"
          ],
          [
           "Equihash"
          ],
          [
           "X11"
          ],
          [
           "NeoScrypt"
          ],
          [
           "Equihash"
          ],
          [
           "Dagger"
          ],
          [
           "Scrypt"
          ],
          [
           "X11"
          ],
          [
           "NeoScrypt"
          ],
          [
           "Ethash"
          ],
          [
           "NeoScrypt"
          ],
          [
           "Multiple"
          ],
          [
           "CryptoNight"
          ],
          [
           "CryptoNight"
          ],
          [
           "Ethash"
          ],
          [
           "X11"
          ],
          [
           "CryptoNight-V7"
          ],
          [
           "Scrypt"
          ],
          [
           "BLAKE256"
          ],
          [
           "X11"
          ],
          [
           "NeoScrypt"
          ],
          [
           "NeoScrypt"
          ],
          [
           "Scrypt"
          ],
          [
           "X11"
          ],
          [
           "SHA-256"
          ],
          [
           "C11"
          ],
          [
           "CryptoNight"
          ],
          [
           "SkunkHash"
          ],
          [
           "CryptoNight"
          ],
          [
           "Scrypt"
          ],
          [
           "Dagger"
          ],
          [
           "Lyra2REv2"
          ],
          [
           "Scrypt"
          ],
          [
           "Scrypt"
          ],
          [
           "X11"
          ],
          [
           "Ethash"
          ],
          [
           "CryptoNight"
          ],
          [
           "Scrypt"
          ],
          [
           "IMesh"
          ],
          [
           "Equihash"
          ],
          [
           "Lyra2Z"
          ],
          [
           "X11"
          ],
          [
           "CryptoNight"
          ],
          [
           "NIST5"
          ],
          [
           "Lyra2RE"
          ],
          [
           "Tribus"
          ],
          [
           "Lyra2Z"
          ],
          [
           "CryptoNight"
          ],
          [
           "CryptoNight Heavy"
          ],
          [
           "CryptoNight"
          ],
          [
           "Jump Consistent Hash"
          ],
          [
           "CryptoNight"
          ],
          [
           "X16R"
          ],
          [
           "HMQ1725"
          ],
          [
           "X11"
          ],
          [
           "Scrypt"
          ],
          [
           "CryptoNight-V7"
          ],
          [
           "Cryptonight-GPU"
          ],
          [
           "XEVAN"
          ],
          [
           "CryptoNight Heavy"
          ],
          [
           "SHA-256"
          ],
          [
           "X11"
          ],
          [
           "X16R"
          ],
          [
           "Equihash"
          ],
          [
           "Lyra2Z"
          ],
          [
           "SHA-256"
          ],
          [
           "CryptoNight"
          ],
          [
           "Blake"
          ],
          [
           "Blake"
          ],
          [
           "Equihash"
          ],
          [
           "Exosis"
          ],
          [
           "Scrypt"
          ],
          [
           "Equihash"
          ],
          [
           "Equihash"
          ],
          [
           "QuBit"
          ],
          [
           "SHA-256"
          ],
          [
           "X13"
          ],
          [
           "SHA-256"
          ],
          [
           "Scrypt"
          ],
          [
           "NeoScrypt"
          ],
          [
           "Blake"
          ],
          [
           "Scrypt"
          ],
          [
           "SHA-256"
          ],
          [
           "Scrypt"
          ],
          [
           "Groestl"
          ],
          [
           "Scrypt"
          ],
          [
           "Scrypt"
          ],
          [
           "Multiple"
          ],
          [
           "Equihash+Scrypt"
          ],
          [
           "Ethash"
          ],
          [
           "CryptoNight"
          ],
          [
           "Equihash"
          ]
         ],
         "hovertemplate": "<b>%{hovertext}</b><br><br>Class=%{marker.color}<br>PC 1=%{x}<br>PC 2=%{y}<br>PC 3=%{z}<br>Algorithm=%{customdata[0]}<extra></extra>",
         "hovertext": [
          "Bitcoin",
          "Ethereum",
          "Litecoin",
          "Monero",
          "Ethereum Classic",
          "ZCash",
          "DigiByte",
          "ProsperCoin",
          "Spreadcoin",
          "Argentum",
          "MyriadCoin",
          "MoonCoin",
          "ZetaCoin",
          "SexCoin",
          "Quatloo",
          "QuarkCoin",
          "Riecoin",
          "Digitalcoin ",
          "Catcoin",
          "CannaCoin",
          "CryptCoin",
          "Verge",
          "DevCoin",
          "EarthCoin",
          "E-Gulden",
          "Einsteinium",
          "Emerald",
          "Franko",
          "FeatherCoin",
          "GrandCoin",
          "GlobalCoin",
          "GoldCoin",
          "Infinite Coin",
          "IXcoin",
          "KrugerCoin",
          "LuckyCoin",
          "Litebar ",
          "MegaCoin",
          "MediterraneanCoin",
          "MinCoin",
          "NobleCoin",
          "Namecoin",
          "NyanCoin",
          "RonPaulCoin",
          "StableCoin",
          "SmartCoin",
          "SysCoin",
          "TigerCoin",
          "TerraCoin",
          "UnbreakableCoin",
          "Unobtanium",
          "UroCoin",
          "ViaCoin",
          "Vertcoin",
          "WorldCoin",
          "JouleCoin",
          "ByteCoin",
          "DigitalNote ",
          "MonaCoin",
          "Gulden",
          "PesetaCoin",
          "Wild Beast Coin",
          "Flo",
          "ArtByte",
          "Folding Coin",
          "Unitus",
          "CypherPunkCoin",
          "OmniCron",
          "GreenCoin",
          "Cryptonite",
          "MasterCoin",
          "SoonCoin",
          "1Credit",
          "MarsCoin ",
          "Crypto",
          "Anarchists Prime",
          "BowsCoin",
          "Song Coin",
          "BitZeny",
          "Expanse",
          "Siacoin",
          "MindCoin",
          "I0coin",
          "Revolution VR",
          "HOdlcoin",
          "Gamecredits",
          "CarpeDiemCoin",
          "Adzcoin",
          "SoilCoin",
          "YoCoin",
          "SibCoin",
          "Francs",
          "BolivarCoin",
          "Omni",
          "PizzaCoin",
          "Komodo",
          "Karbo",
          "ZayedCoin",
          "Circuits of Value",
          "DopeCoin",
          "DollarCoin",
          "Shilling",
          "ZCoin",
          "Elementrem",
          "ZClassic",
          "KiloCoin",
          "ArtexCoin",
          "Kurrent",
          "Cannabis Industry Coin",
          "OsmiumCoin",
          "Bikercoins",
          "HexxCoin",
          "PacCoin",
          "Citadel",
          "BeaverCoin",
          "VaultCoin",
          "Zero",
          "Canada eCoin",
          "Zoin",
          "DubaiCoin",
          "EB3coin",
          "Coinonat",
          "BenjiRolls",
          "ILCoin",
          "EquiTrader",
          "Quantum Resistant Ledger",
          "Dynamic",
          "Nano",
          "ChanCoin",
          "Dinastycoin",
          "DigitalPrice",
          "Unify",
          "SocialCoin",
          "ArcticCoin",
          "DAS",
          "LeviarCoin",
          "Bitcore",
          "gCn Coin",
          "SmartCash",
          "Onix",
          "Bitcoin Cash",
          "Sojourn Coin",
          "NewYorkCoin",
          "FrazCoin",
          "Kronecoin",
          "AdCoin",
          "Linx",
          "Sumokoin",
          "BitcoinZ",
          "Elements",
          "VIVO Coin",
          "Bitcoin Gold",
          "Pirl",
          "eBoost",
          "Pura",
          "Innova",
          "Ellaism",
          "GoByte",
          "SHIELD",
          "UltraNote",
          "BitCoal",
          "DaxxCoin",
          "AC3",
          "Lethean",
          "PopularCoin",
          "Photon",
          "Sucre",
          "SparksPay",
          "GunCoin",
          "IrishCoin",
          "Pioneer Coin",
          "UnitedBitcoin",
          "Interzone",
          "TurtleCoin",
          "MUNcoin",
          "Niobio Cash",
          "ShareChain",
          "Travelflex",
          "KREDS",
          "BitFlip",
          "LottoCoin",
          "Crypto Improvement Fund",
          "Callisto Network",
          "BitTube",
          "Poseidon",
          "Aidos Kuneen",
          "Bitrolium",
          "Alpenschillling",
          "FuturoCoin",
          "Monero Classic",
          "Jumpcoin",
          "Infinex",
          "KEYCO",
          "GINcoin",
          "PlatinCoin",
          "Loki",
          "Newton Coin",
          "MassGrid",
          "PluraCoin",
          "Motion",
          "PlusOneCoin",
          "Axe",
          "HexCoin",
          "Webchain",
          "Ryo",
          "Urals Coin",
          "Qwertycoin",
          "Project Pai",
          "Azart",
          "Xchange",
          "CrypticCoin",
          "Actinium",
          "Bitcoin SV",
          "FREDEnergy",
          "Universal Molecule",
          "Lithium",
          "PirateCash",
          "Exosis",
          "Block-Logic",
          "Beam",
          "Bithereum",
          "SLICE",
          "BLAST",
          "Bitcoin Rhodium",
          "GlobalToken",
          "SolarCoin",
          "UFO Coin",
          "BlakeCoin",
          "Crypto Escudo",
          "Crown Coin",
          "SmileyCoin",
          "Groestlcoin",
          "Bata",
          "Pakcoin",
          "JoinCoin",
          "Vollar",
          "Reality Clash",
          "Beldex",
          "Horizen"
         ],
         "legendgroup": "3",
         "marker": {
          "color": [
           3,
           3,
           3,
           3,
           3,
           3,
           3,
           3,
           3,
           3,
           3,
           3,
           3,
           3,
           3,
           3,
           3,
           3,
           3,
           3,
           3,
           3,
           3,
           3,
           3,
           3,
           3,
           3,
           3,
           3,
           3,
           3,
           3,
           3,
           3,
           3,
           3,
           3,
           3,
           3,
           3,
           3,
           3,
           3,
           3,
           3,
           3,
           3,
           3,
           3,
           3,
           3,
           3,
           3,
           3,
           3,
           3,
           3,
           3,
           3,
           3,
           3,
           3,
           3,
           3,
           3,
           3,
           3,
           3,
           3,
           3,
           3,
           3,
           3,
           3,
           3,
           3,
           3,
           3,
           3,
           3,
           3,
           3,
           3,
           3,
           3,
           3,
           3,
           3,
           3,
           3,
           3,
           3,
           3,
           3,
           3,
           3,
           3,
           3,
           3,
           3,
           3,
           3,
           3,
           3,
           3,
           3,
           3,
           3,
           3,
           3,
           3,
           3,
           3,
           3,
           3,
           3,
           3,
           3,
           3,
           3,
           3,
           3,
           3,
           3,
           3,
           3,
           3,
           3,
           3,
           3,
           3,
           3,
           3,
           3,
           3,
           3,
           3,
           3,
           3,
           3,
           3,
           3,
           3,
           3,
           3,
           3,
           3,
           3,
           3,
           3,
           3,
           3,
           3,
           3,
           3,
           3,
           3,
           3,
           3,
           3,
           3,
           3,
           3,
           3,
           3,
           3,
           3,
           3,
           3,
           3,
           3,
           3,
           3,
           3,
           3,
           3,
           3,
           3,
           3,
           3,
           3,
           3,
           3,
           3,
           3,
           3,
           3,
           3,
           3,
           3,
           3,
           3,
           3,
           3,
           3,
           3,
           3,
           3,
           3,
           3,
           3,
           3,
           3,
           3,
           3,
           3,
           3,
           3,
           3,
           3,
           3,
           3,
           3,
           3,
           3,
           3,
           3,
           3,
           3,
           3,
           3,
           3,
           3,
           3,
           3,
           3,
           3,
           3,
           3,
           3,
           3,
           3,
           3,
           3,
           3,
           3,
           3,
           3
          ],
          "coloraxis": "coloraxis",
          "symbol": "diamond"
         },
         "mode": "markers",
         "name": "3",
         "scene": "scene",
         "showlegend": true,
         "type": "scatter3d",
         "x": [
          -0.16092289505419077,
          -0.16084410843076283,
          -0.16699090912910483,
          -0.15930459105031541,
          -0.15928355513921819,
          -0.15503251028765513,
          0.16705658461283499,
          -0.16813863582894698,
          -0.21505160510866936,
          -0.16775458001807023,
          -0.08670045174492563,
          2.558309041844893,
          -0.15800410060156592,
          -0.16500626247903424,
          -0.16755824256047808,
          -0.23020537535643612,
          -0.20871531490157633,
          -0.16760729665490484,
          -0.16812088322142296,
          -0.16820746452976373,
          -0.2151410502368433,
          0.19081087761992388,
          0.21741431753903406,
          0.08084435618561227,
          -0.1679534578584177,
          -0.16355290977041323,
          -0.16789263865564674,
          -0.1682645358863196,
          -0.17261401737534848,
          -0.14745874487025187,
          -0.1670581133201369,
          -0.1673358423382432,
          1.5828864995230598,
          -0.16088422391195892,
          -0.16462152312354067,
          -0.16797993170220069,
          -0.16833520149793132,
          -0.1675934916794306,
          -0.171652740005725,
          -0.16821630451795228,
          -0.032912539527761485,
          -0.16096191596635115,
          -0.161872102077713,
          -0.16819567510249744,
          -0.16628698426324434,
          -0.16768174391043186,
          -0.14809662226514367,
          -0.16042500444655966,
          -0.1607125334483961,
          -0.1606953304413132,
          -0.16128701410979265,
          -0.2153152078166712,
          -0.1679118578017837,
          -0.20506119280202847,
          -0.16501091237888704,
          -0.16049237890863344,
          3.8606558118070233,
          0.45527159096671876,
          -0.16677789515903269,
          -0.1513535714586102,
          -0.16549509310018498,
          -0.1683374074106816,
          -0.1653600193058256,
          -0.15156542889487887,
          -0.13732591930342922,
          -0.12075170514620043,
          -0.19330461660165893,
          -0.16821034840155777,
          -0.04097013919887497,
          -0.1009629722790057,
          -0.16834631828234012,
          -0.16098972268091216,
          0.48490683466247214,
          -0.2147016024102702,
          -0.14297191603229037,
          -0.16072916508312526,
          -0.21498685427461128,
          -0.16646719192715825,
          -0.16565840710454693,
          -0.1619126130120552,
          0.38273808786541247,
          -0.21502231058103144,
          -0.16088534744290992,
          -0.1642989957274,
          -0.19905780835068682,
          -0.16690778839879286,
          0.2581348144749768,
          -0.2141818466561656,
          -0.15961957758799744,
          -0.16715509786530722,
          -0.1942981461877267,
          -0.16813592254871973,
          -0.21498547522418296,
          -0.16834637685219767,
          -0.2151356040096981,
          -0.2821068702006422,
          0.29996863749887986,
          -0.16114575618551752,
          -0.10079786936902413,
          -0.16550921939223415,
          -0.16110433832574847,
          -0.16800929197881995,
          -0.1520392739174356,
          -0.1616544572953685,
          -0.15505415009238907,
          -0.09495074619766973,
          -0.20170268947493658,
          -0.21296056554955495,
          0.2999630443788174,
          -0.1683280861601185,
          0.30009391568570487,
          -0.14351317747578882,
          0.5013065551522365,
          -0.15806717304609105,
          -0.16829633705134395,
          -0.20785768260503049,
          -0.15506655569543443,
          -0.16642720919038823,
          -0.14323121230623675,
          -0.1043012223606999,
          -0.139171658863963,
          -0.189099892557543,
          -0.1678581109222912,
          -0.12742438977907727,
          -0.16767982660854075,
          -0.15792511425921715,
          -0.12756657036009034,
          -0.017984798536670538,
          -0.12356064497431414,
          0.33613185817756736,
          -0.21419017803388365,
          -0.16799965798659997,
          -0.16776254235171603,
          -0.21458545096867546,
          -0.21516369316971035,
          0.3003585941270979,
          -0.14566875714917127,
          3.245828984104805,
          -0.12312877977043402,
          -0.2060214164860172,
          -0.16092205839164656,
          -0.09379504905895912,
          1.5805117147928613,
          -0.16809760531792575,
          -0.16754838734462327,
          -0.16724897683009696,
          -0.16723589399778646,
          0.300542551940184,
          0.057576300461073766,
          -0.1694947139730631,
          -0.17730906048119938,
          -0.1549124271631465,
          -0.15837680722299746,
          -0.16642541645993647,
          -0.2107019631799126,
          -0.1771542298843612,
          -0.1600168137573106,
          -0.17725459899332527,
          -0.11097031240267542,
          1.139164125069698,
          0.2999457582467057,
          -0.08478391165365164,
          -0.21044237928989623,
          -0.14702175725275696,
          -0.0843754459876699,
          1.1054359464059904,
          -0.21513766041425536,
          -0.1773066431423051,
          -0.17033506196367248,
          -0.16734762283644813,
          -0.21506297515345035,
          -0.1609014377950692,
          -0.21016853480363235,
          8.05036059360877,
          -0.16821664284539128,
          0.3038257006192134,
          0.024941567025918564,
          -0.15787974907166805,
          -0.1905995370065398,
          -0.1679220579723393,
          0.13955889352012135,
          -0.2091956042147398,
          -0.112978360373769,
          0.3078816073545307,
          -0.1681594023596716,
          -0.11672549148679535,
          -0.15390223890223334,
          -0.14981921974809329,
          -0.21423099345751628,
          0.3001284954216153,
          -0.189159537135161,
          -0.1433581809486424,
          -0.09983013423259303,
          -0.15212378750385588,
          0.30406342005630843,
          0.5889889466913897,
          2.1113327174991836,
          -0.16511606251793187,
          0.3137521173462244,
          -0.18253121021869026,
          -0.1351797128242972,
          -0.21511979652135835,
          -0.16818400524364602,
          -0.14689819572526805,
          -0.1385619113518173,
          -0.029936222886646567,
          3.1150188706088087,
          -0.12069827573240459,
          -0.21509111428909747,
          -0.18195798551788325,
          -0.049514217548487414,
          -0.15152058050915745,
          -0.16092209599671253,
          0.380008348001365,
          -0.12691585001379632,
          -0.12730864027581237,
          -0.2752194209756808,
          -0.1454590073305563,
          -0.16707470220983622,
          -0.15296941846123238,
          -0.15474502607066734,
          -0.19251431666149924,
          -0.16019728525390362,
          -0.1280637476145586,
          -0.1590635712131716,
          0.5288995240068725,
          -0.10237575997363672,
          -0.07769106624274108,
          -0.15171617384706068,
          -0.16071190323536008,
          0.5484676951372439,
          -0.20827575931149206,
          -0.1682610001319169,
          -0.16621377467832932,
          -0.1214873533617408,
          -0.10860713904898989,
          -0.16168765838146765,
          0.32173194926246784,
          -0.15503356835052204
         ],
         "y": [
          -1.381974775851053,
          -2.0961764242942813,
          -1.0466793400158094,
          -2.3150977495291007,
          -2.09627583129059,
          -2.1571257685715177,
          -1.840103705472046,
          -1.0466744016964986,
          -0.9386560238507545,
          -1.0466923941262813,
          -1.8352315500199814,
          -1.2330869169827303,
          -1.3819788209504216,
          -1.0467304167430593,
          -1.0467120419740346,
          -0.47130695008057294,
          -1.2264858686063769,
          -1.0466751970793424,
          -1.0466737516413018,
          -1.0466710625672322,
          -0.9386578081462353,
          -1.8359202321108767,
          -1.3837604249518698,
          -1.0476055838965945,
          -1.0466676209516466,
          -1.0467143178795795,
          -1.046673594170661,
          -1.046671732844316,
          -1.675048620269029,
          -1.0469605356676948,
          -1.0466713641633973,
          -1.0466832080124717,
          -1.0500810218841161,
          -1.38197335981248,
          -1.0467278244436453,
          -1.0466678448778057,
          -1.0466669507780821,
          -1.0466700949561776,
          -2.2531747156035333,
          -1.0466690454626837,
          -1.05288928888905,
          -1.3819762046973028,
          -1.0466805084110737,
          -1.0466764903291772,
          -1.046777313507402,
          -1.0466801849295555,
          -1.3821514402886728,
          -1.3819759357290635,
          -1.3819827279933783,
          -1.382010426244617,
          -1.3819726402838814,
          -0.93865076674022,
          -1.0466675886206225,
          -1.403912571048599,
          -1.046742082884761,
          -1.3819769029311726,
          -2.3941515134267566,
          -2.3887862767369357,
          -1.0466872844927402,
          -1.0472965242262509,
          -1.0466859840373617,
          -1.0466679842744506,
          -1.046676277354171,
          -1.046797356552452,
          -2.3050150655351334,
          -1.8349874631280298,
          -1.5660978090340725,
          -1.0466638858394137,
          -1.04945694533366,
          -2.1166302329571742,
          -1.0466668132579506,
          -1.3819772229082492,
          -1.0913299058739538,
          -0.9386528988648477,
          -2.216127341669209,
          -1.3819921038280973,
          -0.9386543983188647,
          -1.0467542720287473,
          -1.0467542966154855,
          -2.096228153560855,
          -2.2414339350112336,
          -0.9386519692460501,
          -1.3819734009533173,
          -1.046674699300614,
          -2.292663318911506,
          -1.046676296346725,
          -1.3827362224905377,
          -0.938671886136587,
          -2.3907881985301698,
          -1.0467482342656504,
          -2.423710392251678,
          -1.0466735568646395,
          -0.9386573297353948,
          -1.0466668131438295,
          -0.9386628270685099,
          -1.8105929609162996,
          -2.3870257448690992,
          -1.3819745393877423,
          -1.8351513787200573,
          -1.0467115598190828,
          -1.381973695415107,
          -1.0466763747608285,
          -2.2532145365329392,
          -2.0962256328671756,
          -2.1571265609659593,
          -1.0514335774458807,
          -0.9385250502768603,
          -0.9387345148364146,
          -2.3870341499379433,
          -1.04666770727839,
          -2.3870323396784046,
          -2.216105571709313,
          -0.9869577520094233,
          -2.3151903519537536,
          -1.0466670260729036,
          -0.9391231696524489,
          -2.1571240333136545,
          -1.0466706264175298,
          -2.21610344712796,
          -2.085755622094904,
          -1.0485799636922897,
          -0.660830383465128,
          -1.0466749542355227,
          -1.3825961871514165,
          -1.0466956206748146,
          -2.315125511846622,
          -2.29631832758534,
          -2.2563610579563043,
          -2.145482541115423,
          -2.3871850421228342,
          -0.9386841188657398,
          -1.0466680280739928,
          -1.0467008859496834,
          -0.9386687736137962,
          -0.9386593082032837,
          -2.387044266704465,
          -2.2648343050570214,
          -1.0707436541159698,
          -1.2419733843775778,
          -0.9391304781178522,
          -1.381974745214602,
          -1.0517639979949602,
          -0.9826276319901639,
          -1.0466721537854033,
          -1.0466997534458164,
          -1.0467007174519907,
          -1.0467002383920487,
          -2.3870635395531536,
          -2.1649799689392797,
          -0.9383147983810751,
          -1.674990187925446,
          -2.1571213714338553,
          -2.3908368503985313,
          -1.0466705607723141,
          -0.9387427589519038,
          -1.6749979370362715,
          -2.0963548648426666,
          -1.67499177198131,
          -1.8351213092636132,
          -2.419654761374516,
          -2.3870284463450937,
          -2.100846078531502,
          -0.9388823493440527,
          -2.3153930754326524,
          -1.0473189446326119,
          -1.157376066987836,
          -0.938659025880808,
          -1.6749856265379046,
          -1.6750874292033522,
          -1.046677492392525,
          -0.9386586766281665,
          -1.3819733684119273,
          -1.3149939132067354,
          -2.848697169296664,
          -2.390409677054033,
          -2.3871275350356993,
          -1.0470434268065691,
          -2.390776673940758,
          -1.4041404282232381,
          -1.0466806352586613,
          -1.0491136551058333,
          -0.9387994216986039,
          -2.0992693127044832,
          -2.3874740157758034,
          -1.0466751621138741,
          -2.16761702774256,
          -2.1571209093614745,
          -2.2533409341119732,
          -0.9386856134224243,
          -2.387026153298862,
          -0.6608122517184095,
          -2.216112032521988,
          -2.2071544699070382,
          -2.2532095054896506,
          -2.3873156370559157,
          -2.2469306417897106,
          -2.45785879524376,
          -2.325666947741458,
          -2.3872590526768342,
          -1.257270709205529,
          -2.2376142924549574,
          -0.9386592663247765,
          -1.046676886958477,
          -2.315948046288204,
          -2.354730217915312,
          -0.706023966841497,
          -2.29184046011728,
          -1.382051702630888,
          -0.938661197968444,
          -1.2573078100665445,
          -2.1589119391374934,
          -2.253242210255205,
          -1.3819747465916041,
          -2.3901109060389993,
          -2.2502399535559334,
          -2.25019477936344,
          -0.14905059196237463,
          -2.070687224306386,
          -1.046709245529203,
          -2.1572304801037876,
          -2.1571226114329787,
          -1.566143418112462,
          -1.3819802614451178,
          -0.49123006514013073,
          -1.3820162774891063,
          -1.0942664244293199,
          -1.6752081075522736,
          -2.25357745207859,
          -1.0468028764480184,
          -1.3819827049165843,
          -1.057692374011757,
          -1.2264854282497226,
          -1.04666695470974,
          -1.0467239402239137,
          -1.8350164880285744,
          -2.209188351545725,
          -2.09622556817617,
          -2.3872652089251742,
          -2.1571258073150803
         ],
         "z": [
          0.02459505353166228,
          0.13157154470495963,
          -0.008028068206735755,
          0.11015689106089488,
          0.13156337573081822,
          0.2529047900251029,
          0.1561128977696952,
          -0.0080148308502732,
          0.02365693806959426,
          -0.00801752757456765,
          0.15863872520718586,
          -0.02093602274856164,
          0.02456048664840648,
          -0.008046447260441692,
          -0.008017798035641729,
          0.004101279817860635,
          0.015452539858676924,
          -0.00802111716952853,
          -0.008015112637334851,
          -0.008014359709825333,
          0.023658199720471215,
          0.15538444372337806,
          0.020248216584591163,
          -0.010901346013401807,
          -0.008017770179390617,
          -0.008065579947705178,
          -0.008017865950445496,
          -0.008013604353127207,
          0.05213126461387783,
          -0.008232435655073169,
          -0.008028108253666582,
          -0.008023522326956046,
          -0.028648065636497747,
          0.024594439704790885,
          -0.00805133512555508,
          -0.00801742901580978,
          -0.008013264207316935,
          -0.008021823752833298,
          0.04273867857627237,
          -0.008014467627396838,
          -0.008977099865735652,
          0.024595672910431,
          -0.008089317935348742,
          -0.008013925466133246,
          -0.008026118369154775,
          -0.008019695613797681,
          0.02446000338736702,
          0.02458920690863362,
          0.02459337463095678,
          0.024596105681485063,
          0.024599192787604217,
          0.023659541121708868,
          -0.008018272385655894,
          -0.012733596756888965,
          -0.00804515435160564,
          0.02459011728578643,
          0.0804749978941732,
          0.12073601402972312,
          -0.00802977972173189,
          -0.008150106820327492,
          -0.008045298211232075,
          -0.00801312815978365,
          -0.008047947086207033,
          -0.008200501833785357,
          0.13269173339588905,
          0.1590211093518796,
          0.01187863034599243,
          -0.008015086201908678,
          -0.009244479750896832,
          0.2127638151138567,
          -0.008013145502520561,
          0.024596114286289703,
          -0.011109161335542472,
          0.02365241020142806,
          0.1502771304085284,
          0.02459456831898291,
          0.02365598933551394,
          -0.008026401185378807,
          -0.008036095771649312,
          0.13158984161930679,
          0.12412949973075005,
          0.023656156855181434,
          0.0245944575385928,
          -0.008060835927537646,
          -0.08918898979075594,
          -0.008029387581723753,
          0.019651371271976494,
          0.02364819195753468,
          0.12894275813286046,
          -0.008018793594824167,
          -0.023769091826783117,
          -0.008014952973784241,
          0.023656283668356145,
          -0.008013144812380028,
          0.023658666661912946,
          0.6093700874522282,
          0.12241137142896476,
          0.02459770052285653,
          0.15879924895483233,
          -0.00804241660885078,
          0.02459711442908262,
          -0.00801617242400805,
          0.1322001682199759,
          0.13158647906423462,
          0.25290513351362964,
          -0.0083876458117763,
          0.023482997490480703,
          0.02364019057799469,
          0.12241232982042008,
          -0.00801326929455951,
          0.12241056872324108,
          0.1502813114067584,
          0.02019016959904702,
          0.11015187482111116,
          -0.008013722200699918,
          0.023620223482506333,
          0.25290501420520894,
          -0.008035750923385078,
          0.15027770538681778,
          0.2747456852363278,
          -0.008160061213625256,
          0.009139993932434594,
          -0.008018135701580878,
          0.02425931080037191,
          -0.008018081690103327,
          0.11014329547253482,
          0.26325915038107706,
          0.1305170735918806,
          0.1433789092159389,
          0.1219946734806422,
          0.023649589091471374,
          -0.00801717307361227,
          -0.008016531576595428,
          0.023652701032002565,
          0.023658630281709156,
          0.12240866009664837,
          0.2700584029068478,
          -0.04639525895652183,
          0.09833015122685732,
          0.023598982001010366,
          0.024595040251321757,
          -0.008366462374456584,
          -0.03577281039625019,
          -0.008015561183021295,
          -0.008019219357454517,
          -0.008022707009229196,
          -0.0080229146729694,
          0.12240849829796274,
          0.25118855927665706,
          0.023074532749696695,
          0.05218136082418443,
          0.25290288394619276,
          0.12893301690209577,
          -0.008035779379387794,
          0.023613984578807225,
          0.05218032620006337,
          0.1315805486354745,
          0.0521808758242296,
          0.15891802606068417,
          0.11580976276616088,
          0.12241193223029931,
          0.13115479779281874,
          0.023625675330036674,
          0.11004094033050575,
          -0.008950785635446523,
          0.08545041659357978,
          0.023658288213958815,
          0.05218084812001925,
          0.05210805588723114,
          -0.008023987204133935,
          0.02365735571314312,
          0.024594647008290258,
          -0.044459409448118284,
          0.07844426911431066,
          0.09179311364607,
          0.12237592041694882,
          -0.010290695975920135,
          0.12892067573623328,
          -0.01288282604024242,
          -0.00801676653275284,
          -0.011445397245488206,
          0.02360193249341876,
          0.13132563346352483,
          0.12236403396265791,
          -0.008014501223221733,
          0.12867110401915843,
          0.2528907229580091,
          0.13218695420722085,
          0.023650236954512408,
          0.12240949807211307,
          0.009138786246637286,
          0.1502801381732289,
          0.3208899122468977,
          0.1322006479974416,
          0.12239301782355297,
          0.22535475365703375,
          0.1082050419097151,
          0.10520563004857435,
          0.12227085138320049,
          0.08433186477846394,
          0.23244868351237086,
          0.023658099527215894,
          -0.008014023324493484,
          0.11009831174742887,
          0.08764961973437929,
          0.18044897707125998,
          0.199830624675286,
          0.024120924971123024,
          0.02365796047677213,
          0.08432892633960176,
          0.25182906121409576,
          0.1321968838839538,
          0.024595040848226724,
          0.12177888035483841,
          0.18162811737544143,
          0.1816280362846205,
          0.17385152323281194,
          0.20916415591635043,
          -0.008023892156997333,
          0.2528911582278986,
          0.2529010083333008,
          0.011873991481085016,
          0.02458693532238609,
          -0.08444694181733511,
          0.02457716166946376,
          -0.011325217783311164,
          0.051306032874252845,
          0.18139185165149987,
          -0.008198109059817734,
          0.024593364627587967,
          -0.015438398884443434,
          0.01544722296285946,
          -0.008014153452241119,
          -0.008032656207138198,
          0.1590330076485444,
          0.1412885174748951,
          0.1315868702793815,
          0.12217582739498405,
          0.25290480681973093
         ]
        },
        {
         "customdata": [
          [
           "Proof-of-Authority"
          ]
         ],
         "hovertemplate": "<b>%{hovertext}</b><br><br>Class=%{marker.color}<br>PC 1=%{x}<br>PC 2=%{y}<br>PC 3=%{z}<br>Algorithm=%{customdata[0]}<extra></extra>",
         "hovertext": [
          "Poa Network"
         ],
         "legendgroup": "1",
         "marker": {
          "color": [
           1
          ],
          "coloraxis": "coloraxis",
          "symbol": "square"
         },
         "mode": "markers",
         "name": "1",
         "scene": "scene",
         "showlegend": true,
         "type": "scatter3d",
         "x": [
          -0.4307790159925081
         ],
         "y": [
          2.4805975401879024
         ],
         "z": [
          30.893233115782596
         ]
        },
        {
         "customdata": [
          [
           "TRC10"
          ]
         ],
         "hovertemplate": "<b>%{hovertext}</b><br><br>Class=%{marker.color}<br>PC 1=%{x}<br>PC 2=%{y}<br>PC 3=%{z}<br>Algorithm=%{customdata[0]}<extra></extra>",
         "hovertext": [
          "BitTorrent"
         ],
         "legendgroup": "2",
         "marker": {
          "color": [
           2
          ],
          "coloraxis": "coloraxis",
          "symbol": "x"
         },
         "mode": "markers",
         "name": "2",
         "scene": "scene",
         "showlegend": true,
         "type": "scatter3d",
         "x": [
          34.08036540741572
         ],
         "y": [
          1.811484696712762
         ],
         "z": [
          -0.7933618380749023
         ]
        }
       ],
       "layout": {
        "coloraxis": {
         "colorbar": {
          "title": {
           "text": "Class"
          }
         },
         "colorscale": [
          [
           0,
           "#0d0887"
          ],
          [
           0.1111111111111111,
           "#46039f"
          ],
          [
           0.2222222222222222,
           "#7201a8"
          ],
          [
           0.3333333333333333,
           "#9c179e"
          ],
          [
           0.4444444444444444,
           "#bd3786"
          ],
          [
           0.5555555555555556,
           "#d8576b"
          ],
          [
           0.6666666666666666,
           "#ed7953"
          ],
          [
           0.7777777777777778,
           "#fb9f3a"
          ],
          [
           0.8888888888888888,
           "#fdca26"
          ],
          [
           1,
           "#f0f921"
          ]
         ]
        },
        "legend": {
         "title": {
          "text": "Class"
         },
         "tracegroupgap": 0,
         "x": 0,
         "y": 1
        },
        "margin": {
         "t": 60
        },
        "scene": {
         "domain": {
          "x": [
           0,
           1
          ],
          "y": [
           0,
           1
          ]
         },
         "xaxis": {
          "title": {
           "text": "PC 1"
          }
         },
         "yaxis": {
          "title": {
           "text": "PC 2"
          }
         },
         "zaxis": {
          "title": {
           "text": "PC 3"
          }
         }
        },
        "template": {
         "data": {
          "bar": [
           {
            "error_x": {
             "color": "#2a3f5f"
            },
            "error_y": {
             "color": "#2a3f5f"
            },
            "marker": {
             "line": {
              "color": "#E5ECF6",
              "width": 0.5
             },
             "pattern": {
              "fillmode": "overlay",
              "size": 10,
              "solidity": 0.2
             }
            },
            "type": "bar"
           }
          ],
          "barpolar": [
           {
            "marker": {
             "line": {
              "color": "#E5ECF6",
              "width": 0.5
             },
             "pattern": {
              "fillmode": "overlay",
              "size": 10,
              "solidity": 0.2
             }
            },
            "type": "barpolar"
           }
          ],
          "carpet": [
           {
            "aaxis": {
             "endlinecolor": "#2a3f5f",
             "gridcolor": "white",
             "linecolor": "white",
             "minorgridcolor": "white",
             "startlinecolor": "#2a3f5f"
            },
            "baxis": {
             "endlinecolor": "#2a3f5f",
             "gridcolor": "white",
             "linecolor": "white",
             "minorgridcolor": "white",
             "startlinecolor": "#2a3f5f"
            },
            "type": "carpet"
           }
          ],
          "choropleth": [
           {
            "colorbar": {
             "outlinewidth": 0,
             "ticks": ""
            },
            "type": "choropleth"
           }
          ],
          "contour": [
           {
            "colorbar": {
             "outlinewidth": 0,
             "ticks": ""
            },
            "colorscale": [
             [
              0,
              "#0d0887"
             ],
             [
              0.1111111111111111,
              "#46039f"
             ],
             [
              0.2222222222222222,
              "#7201a8"
             ],
             [
              0.3333333333333333,
              "#9c179e"
             ],
             [
              0.4444444444444444,
              "#bd3786"
             ],
             [
              0.5555555555555556,
              "#d8576b"
             ],
             [
              0.6666666666666666,
              "#ed7953"
             ],
             [
              0.7777777777777778,
              "#fb9f3a"
             ],
             [
              0.8888888888888888,
              "#fdca26"
             ],
             [
              1,
              "#f0f921"
             ]
            ],
            "type": "contour"
           }
          ],
          "contourcarpet": [
           {
            "colorbar": {
             "outlinewidth": 0,
             "ticks": ""
            },
            "type": "contourcarpet"
           }
          ],
          "heatmap": [
           {
            "colorbar": {
             "outlinewidth": 0,
             "ticks": ""
            },
            "colorscale": [
             [
              0,
              "#0d0887"
             ],
             [
              0.1111111111111111,
              "#46039f"
             ],
             [
              0.2222222222222222,
              "#7201a8"
             ],
             [
              0.3333333333333333,
              "#9c179e"
             ],
             [
              0.4444444444444444,
              "#bd3786"
             ],
             [
              0.5555555555555556,
              "#d8576b"
             ],
             [
              0.6666666666666666,
              "#ed7953"
             ],
             [
              0.7777777777777778,
              "#fb9f3a"
             ],
             [
              0.8888888888888888,
              "#fdca26"
             ],
             [
              1,
              "#f0f921"
             ]
            ],
            "type": "heatmap"
           }
          ],
          "heatmapgl": [
           {
            "colorbar": {
             "outlinewidth": 0,
             "ticks": ""
            },
            "colorscale": [
             [
              0,
              "#0d0887"
             ],
             [
              0.1111111111111111,
              "#46039f"
             ],
             [
              0.2222222222222222,
              "#7201a8"
             ],
             [
              0.3333333333333333,
              "#9c179e"
             ],
             [
              0.4444444444444444,
              "#bd3786"
             ],
             [
              0.5555555555555556,
              "#d8576b"
             ],
             [
              0.6666666666666666,
              "#ed7953"
             ],
             [
              0.7777777777777778,
              "#fb9f3a"
             ],
             [
              0.8888888888888888,
              "#fdca26"
             ],
             [
              1,
              "#f0f921"
             ]
            ],
            "type": "heatmapgl"
           }
          ],
          "histogram": [
           {
            "marker": {
             "pattern": {
              "fillmode": "overlay",
              "size": 10,
              "solidity": 0.2
             }
            },
            "type": "histogram"
           }
          ],
          "histogram2d": [
           {
            "colorbar": {
             "outlinewidth": 0,
             "ticks": ""
            },
            "colorscale": [
             [
              0,
              "#0d0887"
             ],
             [
              0.1111111111111111,
              "#46039f"
             ],
             [
              0.2222222222222222,
              "#7201a8"
             ],
             [
              0.3333333333333333,
              "#9c179e"
             ],
             [
              0.4444444444444444,
              "#bd3786"
             ],
             [
              0.5555555555555556,
              "#d8576b"
             ],
             [
              0.6666666666666666,
              "#ed7953"
             ],
             [
              0.7777777777777778,
              "#fb9f3a"
             ],
             [
              0.8888888888888888,
              "#fdca26"
             ],
             [
              1,
              "#f0f921"
             ]
            ],
            "type": "histogram2d"
           }
          ],
          "histogram2dcontour": [
           {
            "colorbar": {
             "outlinewidth": 0,
             "ticks": ""
            },
            "colorscale": [
             [
              0,
              "#0d0887"
             ],
             [
              0.1111111111111111,
              "#46039f"
             ],
             [
              0.2222222222222222,
              "#7201a8"
             ],
             [
              0.3333333333333333,
              "#9c179e"
             ],
             [
              0.4444444444444444,
              "#bd3786"
             ],
             [
              0.5555555555555556,
              "#d8576b"
             ],
             [
              0.6666666666666666,
              "#ed7953"
             ],
             [
              0.7777777777777778,
              "#fb9f3a"
             ],
             [
              0.8888888888888888,
              "#fdca26"
             ],
             [
              1,
              "#f0f921"
             ]
            ],
            "type": "histogram2dcontour"
           }
          ],
          "mesh3d": [
           {
            "colorbar": {
             "outlinewidth": 0,
             "ticks": ""
            },
            "type": "mesh3d"
           }
          ],
          "parcoords": [
           {
            "line": {
             "colorbar": {
              "outlinewidth": 0,
              "ticks": ""
             }
            },
            "type": "parcoords"
           }
          ],
          "pie": [
           {
            "automargin": true,
            "type": "pie"
           }
          ],
          "scatter": [
           {
            "marker": {
             "colorbar": {
              "outlinewidth": 0,
              "ticks": ""
             }
            },
            "type": "scatter"
           }
          ],
          "scatter3d": [
           {
            "line": {
             "colorbar": {
              "outlinewidth": 0,
              "ticks": ""
             }
            },
            "marker": {
             "colorbar": {
              "outlinewidth": 0,
              "ticks": ""
             }
            },
            "type": "scatter3d"
           }
          ],
          "scattercarpet": [
           {
            "marker": {
             "colorbar": {
              "outlinewidth": 0,
              "ticks": ""
             }
            },
            "type": "scattercarpet"
           }
          ],
          "scattergeo": [
           {
            "marker": {
             "colorbar": {
              "outlinewidth": 0,
              "ticks": ""
             }
            },
            "type": "scattergeo"
           }
          ],
          "scattergl": [
           {
            "marker": {
             "colorbar": {
              "outlinewidth": 0,
              "ticks": ""
             }
            },
            "type": "scattergl"
           }
          ],
          "scattermapbox": [
           {
            "marker": {
             "colorbar": {
              "outlinewidth": 0,
              "ticks": ""
             }
            },
            "type": "scattermapbox"
           }
          ],
          "scatterpolar": [
           {
            "marker": {
             "colorbar": {
              "outlinewidth": 0,
              "ticks": ""
             }
            },
            "type": "scatterpolar"
           }
          ],
          "scatterpolargl": [
           {
            "marker": {
             "colorbar": {
              "outlinewidth": 0,
              "ticks": ""
             }
            },
            "type": "scatterpolargl"
           }
          ],
          "scatterternary": [
           {
            "marker": {
             "colorbar": {
              "outlinewidth": 0,
              "ticks": ""
             }
            },
            "type": "scatterternary"
           }
          ],
          "surface": [
           {
            "colorbar": {
             "outlinewidth": 0,
             "ticks": ""
            },
            "colorscale": [
             [
              0,
              "#0d0887"
             ],
             [
              0.1111111111111111,
              "#46039f"
             ],
             [
              0.2222222222222222,
              "#7201a8"
             ],
             [
              0.3333333333333333,
              "#9c179e"
             ],
             [
              0.4444444444444444,
              "#bd3786"
             ],
             [
              0.5555555555555556,
              "#d8576b"
             ],
             [
              0.6666666666666666,
              "#ed7953"
             ],
             [
              0.7777777777777778,
              "#fb9f3a"
             ],
             [
              0.8888888888888888,
              "#fdca26"
             ],
             [
              1,
              "#f0f921"
             ]
            ],
            "type": "surface"
           }
          ],
          "table": [
           {
            "cells": {
             "fill": {
              "color": "#EBF0F8"
             },
             "line": {
              "color": "white"
             }
            },
            "header": {
             "fill": {
              "color": "#C8D4E3"
             },
             "line": {
              "color": "white"
             }
            },
            "type": "table"
           }
          ]
         },
         "layout": {
          "annotationdefaults": {
           "arrowcolor": "#2a3f5f",
           "arrowhead": 0,
           "arrowwidth": 1
          },
          "autotypenumbers": "strict",
          "coloraxis": {
           "colorbar": {
            "outlinewidth": 0,
            "ticks": ""
           }
          },
          "colorscale": {
           "diverging": [
            [
             0,
             "#8e0152"
            ],
            [
             0.1,
             "#c51b7d"
            ],
            [
             0.2,
             "#de77ae"
            ],
            [
             0.3,
             "#f1b6da"
            ],
            [
             0.4,
             "#fde0ef"
            ],
            [
             0.5,
             "#f7f7f7"
            ],
            [
             0.6,
             "#e6f5d0"
            ],
            [
             0.7,
             "#b8e186"
            ],
            [
             0.8,
             "#7fbc41"
            ],
            [
             0.9,
             "#4d9221"
            ],
            [
             1,
             "#276419"
            ]
           ],
           "sequential": [
            [
             0,
             "#0d0887"
            ],
            [
             0.1111111111111111,
             "#46039f"
            ],
            [
             0.2222222222222222,
             "#7201a8"
            ],
            [
             0.3333333333333333,
             "#9c179e"
            ],
            [
             0.4444444444444444,
             "#bd3786"
            ],
            [
             0.5555555555555556,
             "#d8576b"
            ],
            [
             0.6666666666666666,
             "#ed7953"
            ],
            [
             0.7777777777777778,
             "#fb9f3a"
            ],
            [
             0.8888888888888888,
             "#fdca26"
            ],
            [
             1,
             "#f0f921"
            ]
           ],
           "sequentialminus": [
            [
             0,
             "#0d0887"
            ],
            [
             0.1111111111111111,
             "#46039f"
            ],
            [
             0.2222222222222222,
             "#7201a8"
            ],
            [
             0.3333333333333333,
             "#9c179e"
            ],
            [
             0.4444444444444444,
             "#bd3786"
            ],
            [
             0.5555555555555556,
             "#d8576b"
            ],
            [
             0.6666666666666666,
             "#ed7953"
            ],
            [
             0.7777777777777778,
             "#fb9f3a"
            ],
            [
             0.8888888888888888,
             "#fdca26"
            ],
            [
             1,
             "#f0f921"
            ]
           ]
          },
          "colorway": [
           "#636efa",
           "#EF553B",
           "#00cc96",
           "#ab63fa",
           "#FFA15A",
           "#19d3f3",
           "#FF6692",
           "#B6E880",
           "#FF97FF",
           "#FECB52"
          ],
          "font": {
           "color": "#2a3f5f"
          },
          "geo": {
           "bgcolor": "white",
           "lakecolor": "white",
           "landcolor": "#E5ECF6",
           "showlakes": true,
           "showland": true,
           "subunitcolor": "white"
          },
          "hoverlabel": {
           "align": "left"
          },
          "hovermode": "closest",
          "mapbox": {
           "style": "light"
          },
          "paper_bgcolor": "white",
          "plot_bgcolor": "#E5ECF6",
          "polar": {
           "angularaxis": {
            "gridcolor": "white",
            "linecolor": "white",
            "ticks": ""
           },
           "bgcolor": "#E5ECF6",
           "radialaxis": {
            "gridcolor": "white",
            "linecolor": "white",
            "ticks": ""
           }
          },
          "scene": {
           "xaxis": {
            "backgroundcolor": "#E5ECF6",
            "gridcolor": "white",
            "gridwidth": 2,
            "linecolor": "white",
            "showbackground": true,
            "ticks": "",
            "zerolinecolor": "white"
           },
           "yaxis": {
            "backgroundcolor": "#E5ECF6",
            "gridcolor": "white",
            "gridwidth": 2,
            "linecolor": "white",
            "showbackground": true,
            "ticks": "",
            "zerolinecolor": "white"
           },
           "zaxis": {
            "backgroundcolor": "#E5ECF6",
            "gridcolor": "white",
            "gridwidth": 2,
            "linecolor": "white",
            "showbackground": true,
            "ticks": "",
            "zerolinecolor": "white"
           }
          },
          "shapedefaults": {
           "line": {
            "color": "#2a3f5f"
           }
          },
          "ternary": {
           "aaxis": {
            "gridcolor": "white",
            "linecolor": "white",
            "ticks": ""
           },
           "baxis": {
            "gridcolor": "white",
            "linecolor": "white",
            "ticks": ""
           },
           "bgcolor": "#E5ECF6",
           "caxis": {
            "gridcolor": "white",
            "linecolor": "white",
            "ticks": ""
           }
          },
          "title": {
           "x": 0.05
          },
          "xaxis": {
           "automargin": true,
           "gridcolor": "white",
           "linecolor": "white",
           "ticks": "",
           "title": {
            "standoff": 15
           },
           "zerolinecolor": "white",
           "zerolinewidth": 2
          },
          "yaxis": {
           "automargin": true,
           "gridcolor": "white",
           "linecolor": "white",
           "ticks": "",
           "title": {
            "standoff": 15
           },
           "zerolinecolor": "white",
           "zerolinewidth": 2
          }
         }
        },
        "width": 800
       }
      },
      "text/html": [
       "<div>                            <div id=\"685241a6-9329-46a2-9ece-dd06d094c5bd\" class=\"plotly-graph-div\" style=\"height:525px; width:800px;\"></div>            <script type=\"text/javascript\">                require([\"plotly\"], function(Plotly) {                    window.PLOTLYENV=window.PLOTLYENV || {};                                    if (document.getElementById(\"685241a6-9329-46a2-9ece-dd06d094c5bd\")) {                    Plotly.newPlot(                        \"685241a6-9329-46a2-9ece-dd06d094c5bd\",                        [{\"customdata\":[[\"Scrypt\"],[\"Scrypt\"],[\"X13\"],[\"X11\"],[\"SHA-512\"],[\"SHA-256\"],[\"SHA-256\"],[\"X15\"],[\"Scrypt\"],[\"Scrypt\"],[\"Scrypt\"],[\"Scrypt\"],[\"Scrypt\"],[\"Scrypt\"],[\"Groestl\"],[\"PoS\"],[\"Scrypt\"],[\"Scrypt\"],[\"X11\"],[\"X11\"],[\"SHA3\"],[\"Scrypt\"],[\"SHA-256\"],[\"Scrypt\"],[\"X13\"],[\"X13\"],[\"NeoScrypt\"],[\"Scrypt\"],[\"Scrypt\"],[\"Scrypt\"],[\"X11\"],[\"X11\"],[\"Multiple\"],[\"PHI1612\"],[\"X11\"],[\"Scrypt\"],[\"Scrypt\"],[\"Scrypt\"],[\"X11\"],[\"Multiple\"],[\"X13\"],[\"Scrypt\"],[\"Shabal256\"],[\"Counterparty\"],[\"SHA-256\"],[\"Groestl\"],[\"Scrypt\"],[\"X13\"],[\"Scrypt\"],[\"Scrypt\"],[\"X13\"],[\"X11\"],[\"Scrypt\"],[\"X11\"],[\"SHA3\"],[\"QUAIT\"],[\"X11\"],[\"Scrypt\"],[\"X13\"],[\"SHA-256\"],[\"X15\"],[\"BLAKE256\"],[\"SHA-256\"],[\"X11\"],[\"SHA-256\"],[\"NIST5\"],[\"Scrypt\"],[\"Scrypt\"],[\"X11\"],[\"Scrypt\"],[\"SHA-256\"],[\"Scrypt\"],[\"PoS\"],[\"X11\"],[\"SHA-256\"],[\"SHA-256\"],[\"NIST5\"],[\"X11\"],[\"POS 3.0\"],[\"Scrypt\"],[\"Scrypt\"],[\"Scrypt\"],[\"X13\"],[\"X11\"],[\"X11\"],[\"Scrypt\"],[\"SHA-256\"],[\"X11\"],[\"Scrypt\"],[\"Scrypt\"],[\"Scrypt\"],[\"Scrypt\"],[\"SHA-256D\"],[\"PoS\"],[\"Scrypt\"],[\"X11\"],[\"PoS\"],[\"X13\"],[\"X14\"],[\"PoS\"],[\"SHA-256D\"],[\"DPoS\"],[\"X11\"],[\"X13\"],[\"X11\"],[\"PoS\"],[\"Scrypt\"],[\"Scrypt\"],[\"PoS\"],[\"X11\"],[\"SHA-256\"],[\"Scrypt\"],[\"X11\"],[\"Scrypt\"],[\"Scrypt\"],[\"X11\"],[\"Scrypt\"],[\"Scrypt\"],[\"Scrypt\"],[\"Scrypt\"],[\"Quark\"],[\"QuBit\"],[\"Scrypt\"],[\"SHA-256\"],[\"X11\"],[\"Scrypt\"],[\"Scrypt\"],[\"Scrypt\"],[\"Scrypt\"],[\"X13\"],[\"Scrypt\"],[\"Scrypt\"],[\"X11\"],[\"Blake2S\"],[\"X11\"],[\"PoS\"],[\"X11\"],[\"PoS\"],[\"X11\"],[\"Scrypt\"],[\"Scrypt\"],[\"Scrypt\"],[\"SHA-256\"],[\"X11\"],[\"Scrypt\"],[\"PoS\"],[\"Scrypt\"],[\"X15\"],[\"SHA-256\"],[\"POS 3.0\"],[\"536\"],[\"NIST5\"],[\"NIST5\"],[\"Skein\"],[\"X13\"],[\"Scrypt\"],[\"X13\"],[\"SkunkHash v2 Raptor\"],[\"Skein\"],[\"X11\"],[\"Scrypt\"],[\"VeChainThor Authority\"],[\"PoS\"],[\"Scrypt\"],[\"Scrypt\"],[\"SHA-512\"],[\"Ouroboros\"],[\"X11\"],[\"NeoScrypt\"],[\"Scrypt\"],[\"Lyra2REv2\"],[\"Scrypt\"],[\"SHA-256\"],[\"NIST5\"],[\"PHI1612\"],[\"Scrypt\"],[\"Quark\"],[\"POS 2.0\"],[\"Scrypt\"],[\"SHA-256\"],[\"X11\"],[\"DPoS\"],[\"NIST5\"],[\"X13\"],[\"Scrypt\"],[\"NIST5\"],[\"Quark\"],[\"Scrypt\"],[\"Scrypt\"],[\"X11\"],[\"Quark\"],[\"Scrypt\"],[\"Scrypt\"],[\"X11\"],[\"POS 3.0\"],[\"Ethash\"],[\"Scrypt\"],[\"Scrypt\"],[\"X13\"],[\"Proof-of-BibleHash\"],[\"SHA-256 + Hive\"],[\"C11\"],[\"X11\"],[\"XEVAN\"],[\"Scrypt\"],[\"VBFT\"],[\"NIST5\"],[\"Scrypt\"],[\"Scrypt\"],[\"Scrypt\"],[\"Green Protocol\"],[\"PoS\"],[\"Scrypt\"],[\"Semux BFT consensus\"],[\"Quark\"],[\"PoS\"],[\"X16R\"],[\"Scrypt\"],[\"XEVAN\"],[\"Scrypt\"],[\"Scrypt\"],[\"Scrypt\"],[\"SHA-256D\"],[\"Scrypt\"],[\"X15\"],[\"Scrypt\"],[\"Quark\"],[\"SHA-256\"],[\"DPoS\"],[\"X16R\"],[\"Quark\"],[\"Quark\"],[\"Scrypt\"],[\"Lyra2REv2\"],[\"Quark\"],[\"Scrypt\"],[\"X11\"],[\"X11\"],[\"Scrypt\"],[\"PoS\"],[\"Keccak\"],[\"X11\"],[\"Scrypt\"],[\"SHA-512\"],[\"ECC 256K1\"],[\"XEVAN\"],[\"XEVAN\"],[\"X11\"],[\"Quark\"],[\"Scrypt\"],[\"Quark\"],[\"Quark\"],[\"Scrypt\"],[\"X11\"],[\"Scrypt\"],[\"XEVAN\"],[\"SHA-256D\"],[\"X11\"],[\"X11\"],[\"DPoS\"],[\"Scrypt\"],[\"X11\"],[\"Scrypt\"],[\"Scrypt\"],[\"SHA-256\"],[\"Scrypt\"],[\"X11\"],[\"Scrypt\"],[\"SHA-256\"],[\"X11\"],[\"Scrypt\"],[\"Scrypt\"],[\"X11\"],[\"Scrypt\"],[\"PoS\"],[\"X11\"],[\"SHA-256\"],[\"DPoS\"],[\"Scrypt\"],[\"Scrypt\"],[\"NeoScrypt\"],[\"X13\"],[\"DPoS\"],[\"DPoS\"],[\"SHA-256\"],[\"Leased POS\"],[\"PoS\"],[\"PoS\"],[\"SHA-256\"],[\"Scrypt\"],[\"Scrypt\"]],\"hovertemplate\":\"<b>%{hovertext}</b><br><br>Class=%{marker.color}<br>PC 1=%{x}<br>PC 2=%{y}<br>PC 3=%{z}<br>Algorithm=%{customdata[0]}<extra></extra>\",\"hovertext\":[\"42 Coin\",\"404Coin\",\"EliteCoin\",\"Dash\",\"Bitshares\",\"BitcoinDark\",\"PayCoin\",\"KoboCoin\",\"Aurora Coin\",\"BlueCoin\",\"EnergyCoin\",\"BitBar\",\"CryptoBullion\",\"CasinoCoin\",\"Diamond\",\"Exclusive Coin\",\"FlutterCoin\",\"HoboNickels\",\"HyperStake\",\"IOCoin\",\"MaxCoin\",\"MintCoin\",\"MazaCoin\",\"Nautilus Coin\",\"NavCoin\",\"OpalCoin\",\"Orbitcoin\",\"PotCoin\",\"PhoenixCoin\",\"Reddcoin\",\"SuperCoin\",\"SyncCoin\",\"TeslaCoin\",\"TittieCoin\",\"TorCoin\",\"UnitaryStatus Dollar\",\"UltraCoin\",\"VeriCoin\",\"X11 Coin\",\"Crypti\",\"StealthCoin\",\"ZCC Coin\",\"BurstCoin\",\"StorjCoin\",\"Neutron\",\"FairCoin\",\"RubyCoin\",\"Kore\",\"Dnotes\",\"8BIT Coin\",\"Sativa Coin\",\"Ucoin\",\"Vtorrent\",\"IslaCoin\",\"Nexus\",\"Droidz\",\"Squall Coin\",\"Diggits\",\"Paycon\",\"Emercoin\",\"EverGreenCoin\",\"Decred\",\"EDRCoin\",\"Hitcoin\",\"DubaiCoin\",\"PWR Coin\",\"BillaryCoin\",\"GPU Coin\",\"EuropeCoin\",\"ZeitCoin\",\"SwingCoin\",\"SafeExchangeCoin\",\"Nebuchadnezzar\",\"Ratecoin\",\"Revenu\",\"Clockcoin\",\"VIP Tokens\",\"BitSend\",\"Let it Ride\",\"PutinCoin\",\"iBankCoin\",\"Frankywillcoin\",\"MudraCoin\",\"Lutetium Coin\",\"GoldBlocks\",\"CarterCoin\",\"BitTokens\",\"MustangCoin\",\"ZoneCoin\",\"RootCoin\",\"BitCurrency\",\"Swiscoin\",\"BuzzCoin\",\"Opair\",\"PesoBit\",\"Halloween Coin\",\"CoffeeCoin\",\"RoyalCoin\",\"GanjaCoin V2\",\"TeamUP\",\"LanaCoin\",\"ARK\",\"InsaneCoin\",\"EmberCoin\",\"XenixCoin\",\"FreeCoin\",\"PLNCoin\",\"AquariusCoin\",\"Creatio\",\"Eternity\",\"Eurocoin\",\"BitcoinFast\",\"Stakenet\",\"BitConnect Coin\",\"MoneyCoin\",\"Enigma\",\"Russiacoin\",\"PandaCoin\",\"GameUnits\",\"GAKHcoin\",\"Allsafe\",\"LiteCreed\",\"Klingon Empire Darsek\",\"Internet of People\",\"KushCoin\",\"Printerium\",\"Impeach\",\"Zilbercoin\",\"FirstCoin\",\"FindCoin\",\"OpenChat\",\"RenosCoin\",\"VirtacoinPlus\",\"TajCoin\",\"Impact\",\"Atmos\",\"HappyCoin\",\"MacronCoin\",\"Condensate\",\"Independent Money System\",\"ArgusCoin\",\"LomoCoin\",\"ProCurrency\",\"GoldReserve\",\"GrowthCoin\",\"Phreak\",\"Degas Coin\",\"HTML5 Coin\",\"Ultimate Secure Cash\",\"QTUM\",\"Espers\",\"Denarius\",\"Virta Unique Coin\",\"Bitcoin Planet\",\"BritCoin\",\"Linda\",\"DeepOnion\",\"Signatum\",\"Cream\",\"Monoeci\",\"Draftcoin\",\"Vechain\",\"Stakecoin\",\"CoinonatX\",\"Ethereum Dark\",\"Obsidian\",\"Cardano\",\"Regalcoin\",\"TrezarCoin\",\"TerraNovaCoin\",\"Rupee\",\"WomenCoin\",\"Theresa May Coin\",\"NamoCoin\",\"LUXCoin\",\"Xios\",\"Bitcloud 2.0\",\"KekCoin\",\"BlackholeCoin\",\"Infinity Economics\",\"Magnet\",\"Lamden Tau\",\"Electra\",\"Bitcoin Diamond\",\"Cash & Back Coin\",\"Bulwark\",\"Kalkulus\",\"GermanCoin\",\"LiteCoin Ultra\",\"PhantomX\",\"Digiwage\",\"Trollcoin\",\"Litecoin Plus\",\"Monkey Project\",\"TokenPay\",\"1717 Masonic Commemorative Token\",\"My Big Coin\",\"Unified Society USDEX\",\"Tokyo Coin\",\"BiblePay\",\"LitecoinCash\",\"Stipend\",\"Pushi\",\"Ellerium\",\"Velox\",\"Ontology\",\"Bitspace\",\"Briacoin\",\"Ignition\",\"MedicCoin\",\"Bitcoin Green\",\"Deviant Coin\",\"Abjcoin\",\"Semux\",\"Carebit\",\"Zealium\",\"Proton\",\"iDealCash\",\"Bitcoin Incognito\",\"HollyWoodCoin\",\"Swisscoin\",\"Xt3ch\",\"TheVig\",\"EmaratCoin\",\"Dekado\",\"Lynx\",\"Poseidon Quark\",\"BitcoinWSpectrum\",\"Muse\",\"Trivechain\",\"Dystem\",\"Giant\",\"Peony Coin\",\"Absolute Coin\",\"Vitae\",\"TPCash\",\"ARENON\",\"EUNO\",\"MMOCoin\",\"Ketan\",\"XDNA\",\"PAXEX\",\"ThunderStake\",\"Kcash\",\"Acute Angle Cloud\",\"Bettex coin\",\"BitMoney\",\"Junson Ming Chan Coin\",\"HerbCoin\",\"Oduwa\",\"Galilel\",\"Crypto Sports\",\"Credit\",\"Dash Platinum\",\"Nasdacoin\",\"Beetle Coin\",\"Titan Coin\",\"Award\",\"Insane Coin\",\"ALAX\",\"LiteDoge\",\"TruckCoin\",\"OrangeCoin\",\"BitstarCoin\",\"NeosCoin\",\"HyperCoin\",\"PinkCoin\",\"AudioCoin\",\"IncaKoin\",\"Piggy Coin\",\"Genstake\",\"XiaoMiCoin\",\"CapriCoin\",\" ClubCoin\",\"Radium\",\"Creditbit \",\"OKCash\",\"Lisk\",\"HiCoin\",\"WhiteCoin\",\"FriendshipCoin\",\"Triangles Coin\",\"EOS\",\"Oxycoin\",\"TigerCash\",\"Waves\",\"Particl\",\"Nxt\",\"ZEPHYR\",\"Gapcoin\",\"BitcoinPlus\"],\"legendgroup\":\"0\",\"marker\":{\"color\":[0,0,0,0,0,0,0,0,0,0,0,0,0,0,0,0,0,0,0,0,0,0,0,0,0,0,0,0,0,0,0,0,0,0,0,0,0,0,0,0,0,0,0,0,0,0,0,0,0,0,0,0,0,0,0,0,0,0,0,0,0,0,0,0,0,0,0,0,0,0,0,0,0,0,0,0,0,0,0,0,0,0,0,0,0,0,0,0,0,0,0,0,0,0,0,0,0,0,0,0,0,0,0,0,0,0,0,0,0,0,0,0,0,0,0,0,0,0,0,0,0,0,0,0,0,0,0,0,0,0,0,0,0,0,0,0,0,0,0,0,0,0,0,0,0,0,0,0,0,0,0,0,0,0,0,0,0,0,0,0,0,0,0,0,0,0,0,0,0,0,0,0,0,0,0,0,0,0,0,0,0,0,0,0,0,0,0,0,0,0,0,0,0,0,0,0,0,0,0,0,0,0,0,0,0,0,0,0,0,0,0,0,0,0,0,0,0,0,0,0,0,0,0,0,0,0,0,0,0,0,0,0,0,0,0,0,0,0,0,0,0,0,0,0,0,0,0,0,0,0,0,0,0,0,0,0,0,0,0,0,0,0,0,0,0,0,0,0,0,0,0,0,0,0,0,0,0,0,0,0,0,0,0,0,0,0,0,0,0,0,0],\"coloraxis\":\"coloraxis\",\"symbol\":\"circle\"},\"mode\":\"markers\",\"name\":\"0\",\"scene\":\"scene\",\"showlegend\":true,\"x\":[-0.34114899190982156,-0.32446726039389356,2.2879323938189855,-0.3878540106666518,-0.2768532586025323,-0.3339099690477497,-0.28191367372729503,-0.24735378316357406,-0.3408081447079454,-0.33337820970285625,-0.33964402206309985,-0.34114492165682647,-0.3411291843668321,0.7271441183203491,-0.3826369047383622,-0.359959726250932,-0.30132319880880315,-0.339205237978374,-0.31566074429944974,-0.3877485988406148,-0.39487398042757477,-0.02880658809869752,-0.2971678726729774,-0.2889034141739736,-0.3000754726094041,-0.30069831928924484,-0.3502762705667293,-0.3354435159968623,-0.33954865509315674,0.017359573834789616,-0.3355677342336855,-0.3881206508042529,-0.24071427706135812,-0.3318478600999963,-0.3880321548161826,-0.3163484691007253,-0.33982458214835776,-0.25336333243465675,-0.3879966147419914,-0.24118294616994954,-0.3004789581023331,-0.3322384810327749,0.1744286841608107,-0.31199022487113015,-0.33312066835694265,-0.3820578945510771,-0.2888837263360834,-0.3007737291975697,-0.28353002731686566,-0.3411310420687106,-0.3007258746594974,-0.3360129445102113,-0.34086506128967287,-0.38810216077393606,-0.3502817352149088,-0.44299217984646694,-0.22321363929307747,-0.28728317474905185,-0.30024684136984137,-0.32645465934013146,-0.2497991906931372,-0.07411685117883207,-0.33388085318961186,-0.06512002792642255,-0.33394466472214934,-0.2392148044986691,-0.34074071524314176,-0.287151540290418,-0.3852667314470066,0.8658847084577032,-0.33374438978391907,-0.004544459105284664,-0.3596425852897358,-0.38594260871590513,-0.33248582325201553,-0.3301503062808917,-0.3606974130159609,-0.3868354309791652,-0.3132473982938955,-0.31700405851698477,-0.3407788414654261,-0.3392159941235864,-0.24746956580119747,-0.32348805213481663,-0.3875753023764425,-0.33998204665652476,-0.33392554993704465,-0.3880913277848278,-0.34096830244249143,-0.3411252692569191,-0.2871421027224349,-0.21767698261179827,0.013937439520233531,-0.3585983526136725,-0.34073903076558026,-0.37423279845695784,-0.35792645684541197,-0.24890252412455088,-0.41913348610539514,-0.35767396563078424,-0.30096701211550686,3.6827048541452947,-0.3876833318374688,0.8326046674347197,-0.3880461875462424,-0.35906268571030797,-0.3406663382198964,-0.340820806889973,-0.3596425852897358,-0.3876204050726986,-0.33378808666984094,-0.3406670997158858,-0.2709294170354518,-0.34081466386346915,-0.33639537934956665,-0.3880752059701671,-0.3400240370347746,0.35517310773981814,-0.3410142115557481,-0.34108489856679375,-0.35575619233268974,-0.3652437107365418,-0.3373055651517687,-0.3339019394651099,-0.3879850456500491,-0.34086240746041074,-0.34098948197750595,-0.2887898935640414,-0.23454467773732862,-0.24867008631088583,-0.32181900674074804,-0.28853085141584545,-0.38724963160757836,-0.4259978597322969,-0.38598666464521103,-0.35788693665805765,-0.3871474121969763,-0.3522798078922311,-0.3830824421414833,-0.34093271364529915,-0.3409318696239192,-0.33404218189565416,0.25163268978202896,-0.3876266506448369,-0.27140548383655416,-0.3596768697495958,-0.3401422171079396,0.8861422009604917,-0.28060190081495734,-0.3120241989713634,0.5613495541094546,-0.362234994833305,-0.36073519441694873,-0.4163146161571185,-0.3004105563149653,0.1244988980587305,-0.30048145100700824,-0.309135018247596,-0.4158189943426756,-0.38789945090181877,-0.2888643405300923,4.438715348869026,-0.3595428652139223,-0.3405674146453271,-0.3410678067805596,-0.33499261246755574,0.6711162559408288,-0.3878401394827106,-0.34526860964652173,-0.3410233247262478,-0.3266774304801389,0.42899334399214095,-0.3322461607030279,-0.346980889348617,-0.4194245659886568,-0.34097358894434465,-0.4061284273529661,-0.3545006726315781,-0.3408438833622553,-0.10817925315002011,-0.38663103036256824,3.687567523609511,0.19796530856115527,-0.2971480338844173,-0.3383006769072159,-0.31006538811582274,-0.3556419567798952,0.07394997648102579,-0.33998092498358595,-0.3872131889339634,-0.3548053884263855,-0.3275305776950969,-0.3410899618490765,-0.33598484074255625,-0.31352964179901716,-0.28298761400540423,-0.2743304142381895,-0.3366296281650061,-0.24045390224711238,-0.3491328098111428,-0.37630399907479817,-0.38299335455710803,-0.3879166439084533,-0.203967234791618,-0.28802298391987513,-0.3082545949306888,-0.36183336435544294,-0.3411173490832494,-0.34109903234303457,-0.28239696451014207,-0.3229902828160607,-0.35913678862495896,-0.3408151403093735,3.8547024765066054,-0.40479509178240314,-0.3593256868229546,-0.30327183050476997,-0.287607723901566,-0.03921292230555429,-0.2885581984562436,-0.1439831357161789,-0.28881043323381467,-0.3663823691322601,-0.34028838965812186,-0.19720915765230979,2.2053521605502238,-0.3513426571572674,-0.2807302079150986,1.000983772954321,-0.3545403549397329,-0.35575560041920884,-0.40781518019894625,-0.1693436787374962,-0.3785383345201114,-0.35447346603628543,-0.3339822118738107,-0.33556166221297035,-0.387389328472739,-0.28605211676933934,-0.3584239746160163,-0.3561729146160166,-0.3354226947704017,-0.20037397583730499,-0.3403381436029939,-0.3162348936214765,-0.15202754467408622,0.869623184070014,-0.1257227082180228,-0.40710886649411143,-0.34081915916780475,-0.40756561007965764,-0.355872731330878,0.566959622501636,-0.33603921720280183,-0.3403012647946539,-0.1984151836923951,-0.32103357673714394,-0.38494980138579293,-0.3876168883043582,3.699824018461408,0.09471448314193942,-0.3851541632681123,-0.339685596653039,-0.34051210013179045,-0.2819462980373347,-0.34103120998584413,-0.37923402927917277,-0.2545980205068739,-0.11334271744800108,-0.3749757637819854,-0.3403087248909742,-0.3333642108989476,-0.38418118477769514,-0.33874565937945295,-0.35991854762215514,-0.3586758221914147,-0.3324231378922575,3.6830972276922025,-0.09585058214362534,-0.3359369347916672,-0.349901488810804,-0.300881097165471,3.6929745672067305,3.6942199706899754,-0.26281914087517855,-0.41127820628926665,-0.359854350425007,-0.42091846930594623,2.4363720091305425,-0.33919122258595863,-0.2892075033029367],\"y\":[1.1193236880841015,1.1195379360242832,1.535357782706502,1.2273325345741997,1.48886387891939,0.7840077659653841,0.626139921920845,1.8076158507817566,1.1193236684521957,1.119608234334901,1.1193787962716961,1.1193234644184602,1.1193236679386407,0.6413704553111662,0.9395225540974518,1.653625240493031,0.6862643601739864,1.1193054060102783,1.070213570563348,1.2273363944863425,1.237303062794457,0.9709819723198193,0.7835661068339986,0.9614458282701033,1.6747905024515375,1.6747676953951367,0.4910111441997012,1.1192195071343627,1.1193092314777795,1.132451357160939,1.0694846273789458,1.2273391706732542,0.17308400053928383,1.613470424436021,1.2273349571314462,1.1190390544536601,1.1192976367760479,0.8328218192127058,1.2273396131713614,0.1731413869181764,1.6747757278421638,1.1189044898313705,1.007104363793313,1.6724563401864536,0.7840023761338584,0.9395470211689856,0.9614586110299775,1.6747559883351637,0.9612819105997615,1.1193243453927972,1.67475923160318,1.0694534153452522,1.1193191753611567,1.227339848476471,0.35593119616631536,1.846223802037842,0.7877355172396902,0.9614426712997715,1.6747469534417414,0.7835516824531639,1.807767619065156,1.0388267578023074,0.7840088321138279,1.219374177078816,0.7840150685005903,1.5096881397575967,1.119307328070033,0.9613572492881686,1.2271574109360974,0.9299409175368573,0.7840004104433218,0.6427961218879235,1.6536219438167412,1.2273630148788763,0.7839102783872923,0.7837704595589544,1.5051726635004368,1.2272826113839532,1.7404088254161991,1.1187168570578911,1.1193041925355507,1.1193199217168763,1.5167888030871162,1.0694371751715066,1.227321866763872,1.1192993256120818,0.7840079409114274,1.2273380087175152,1.119314649455071,1.1193245567784376,0.9615223848434551,0.7042965780476413,1.8419016362220206,1.653619925116452,1.1193386998466128,1.2267294914512026,1.6536698745690055,1.5168835637124574,1.8640260356432228,1.653484550199096,1.8396846464676913,1.85216548762252,1.22733282056981,1.715632702779853,1.2273390255011583,1.6536208139060997,1.1193126309223431,1.1193043953182569,1.6536219438167412,1.2273127604336043,0.7840137199440341,1.11931673298897,0.8492437847949966,1.1193150569586519,1.1190127003897656,1.2273371081003184,1.119257532194731,0.9608031589994827,1.1193189322081452,1.1193235632008383,1.5368073851580462,0.5998650826661555,1.1190916853680168,0.7840088054666746,1.2273371637280095,1.1193192725376135,1.119313178134885,0.961421045631417,0.6646571855586942,1.5168831108168728,1.1192860243976366,0.9614458682525053,1.2272965180735849,1.9223742754860809,1.2273353099170508,1.653618921918104,1.2273002610876176,1.6536082681263178,1.227150918536547,1.1193157944943932,1.1193103178956452,1.1188384429073985,0.5897754625621132,1.2273274413058806,0.9606076627601007,1.6536132336226912,1.1192822784018837,1.7822894380142251,0.6260481157177945,1.7404040415371744,1.78095713977046,1.5051759994537648,1.5051489156881293,1.9966736398914298,1.6747558681873176,1.099100602891827,1.6747615483665552,1.6496237529448556,1.996691788297837,1.2273401837290903,0.9614463451717759,1.9654659646399364,1.6535945834336778,1.1193090131644674,1.1193235298981912,1.489350983368085,1.6868026017003053,1.2273293151092703,0.49089913103688326,1.1193165608662163,0.6042176161508889,1.1288873741648733,0.784010543062377,1.5048474465130415,1.7717123584139696,1.1193144558768602,1.6946038666777676,1.6560021060756847,1.119323836070816,0.6258016455118274,1.2272863686207645,1.8520639917501884,1.503332206365748,1.6747411473125786,1.1192714356675992,1.347294212598468,1.5368078407802515,1.0972496303447634,1.119254637977299,1.2273351264343062,1.5367639259331178,1.1191514290867015,1.1193228677317966,1.0694536989550647,1.740404826946013,-0.08811147921631973,0.672065763714396,1.119316224683222,1.5165984117121665,3.052544356966023,1.2140212306755653,0.8509980434328328,1.2273280046692983,1.4600329158793501,0.9613976898923137,1.7456234190972546,1.5051608869988293,1.1193226103596114,1.119321790114989,0.961323400469058,1.6676512178147007,1.6535897722649482,1.1193135485554988,1.8391503821314685,1.6946526900247376,1.6535888191225347,0.7508297225895287,1.1174659284483095,1.0204527439115063,0.9614511485904932,1.1189395184676274,0.9614284937841677,1.8428103164551206,1.119292580983668,1.6498669456669761,0.36010547284583083,1.5364956187343641,0.6261178325862067,1.722003968620633,0.9087033076378638,1.5368029339616494,1.694687357824216,0.9532521862004424,0.7620762537879725,1.5367909896534337,1.1188406388566023,1.0694438484055684,1.2273286766537663,0.9613684729487382,1.653524925323327,0.925265313749745,1.0694153905080914,1.1110598977815374,1.350747664089551,1.054556163980502,1.3021633718359227,1.1581170009727453,1.0771686168720913,1.69467680535285,1.1193201107012938,1.69468614547761,1.5368043329271375,1.0968145200074912,1.069452676949814,1.1192921095290156,1.4599082073038494,1.8408180290854472,1.227142178881832,1.2273352535624809,1.8521400540928556,1.109192150500045,1.2274477966241621,1.119228178224331,1.1193065626994498,0.626132390734935,1.1193280009889783,1.2272918375974404,1.114665440050903,0.7919591356234912,1.2270750251863325,1.1193432743730427,1.1193105555514913,1.2273283650945794,1.1192924154676982,1.653620039043224,0.7325129615151914,0.7840003352169155,1.8521538244257314,0.9610656209285213,1.1192908968120825,0.49098282414918815,1.6747609130781995,1.852634723122062,1.8526803266203287,0.6261029550206614,1.554163834919967,1.6536226625215524,1.7047631939888372,0.7562384101235058,1.1192090070184264,0.9614460096650164],\"z\":[-0.25384812255023176,-0.2540708540120631,-0.34653797083808796,-0.22217783615203301,-0.04418091391936549,-0.22123686850431948,-0.054452766113009705,-0.3304835623489529,-0.25385220716879836,-0.2539714681455861,-0.2538720109333592,-0.2538481476328505,-0.2538483579029729,0.012428709627936591,-0.23037092207596874,-0.007836786452102347,-0.07584974245741834,-0.2538694890761104,-0.05571530838925804,-0.22217950935348815,-0.5541986361082604,-0.09119574177675692,-0.22163056349316784,-0.08706594687246262,-0.33029459063615463,-0.33028470419352585,-0.1936527920293393,-0.25390548218491993,-0.25386577724151754,-0.25953872745176054,-0.05539932482497978,-0.22217534291900862,0.07996554652124033,-0.1736464081523315,-0.22217595713823718,-0.25411529214232775,-0.25386123934132365,0.017219234371801936,-0.22217687701599623,0.07996508014136317,-0.33028818611268757,-0.2539105034278788,0.2917684093553975,0.041019074382681354,-0.22124576051194586,-0.2303804589657841,-0.0870675384974546,-0.3302825585448695,-0.08711298992564862,-0.25384840747130505,-0.3302834762509953,-0.05539067689168681,-0.2538510482705306,-0.2221756364902348,-0.8250246260031433,-0.354439974439533,0.04959686976612865,-0.08708503848321376,-0.3302879177192732,-0.22127789020060687,-0.33047033687013516,-0.15151771732755853,-0.22123733066020904,-0.22520340360633517,-0.22123722691972977,-0.23864617104282423,-0.25385128279101427,-0.08707755802481033,-0.2221902858872075,-0.09757066585420728,-0.22123807374198512,0.021050344849078053,-0.007840239316676231,-0.22220398587867626,-0.2212436055238047,-0.22125678063516463,-0.2367107631220976,-0.22218475455473308,0.025422432770171696,-0.254073263724023,-0.2538504931505535,-0.25387089945638275,-0.16350360245169882,-0.05553912601995213,-0.22218004652998152,-0.25385953046413234,-0.22123670024455802,-0.2221755712753458,-0.25384933046853714,-0.2538484991031214,-0.08709518328146712,-0.04910923297898902,-0.4121866365528557,-0.007852545413583257,-0.2538546298650075,-0.22227720137885057,-0.007865898311522781,-0.16349647058680508,-0.3638958792101441,-0.007849272577043731,-0.4081758805575647,-0.33529948958192823,-0.2221799128913367,-0.3482064202698404,-0.22217622032587314,-0.007847072391390675,-0.25385273690964505,-0.2538500114966539,-0.007840239316676231,-0.22217854005882176,-0.2212389612540239,-0.25385316279058995,0.20594542511637146,-0.25385121578364955,-0.2538721383046099,-0.22217566906558767,-0.25385459494724255,-0.09472016270492457,-0.25384923419839023,-0.25384887777513465,-0.07489182729113364,-0.23396377295925588,-0.25386960143674436,-0.221237075013476,-0.22217675597175984,-0.25385109039475107,-0.2538489205006457,-0.08706467984521038,0.048991337375727986,-0.16349920944884866,-0.25407589169780687,-0.0870704180771043,-0.2221812631193778,-0.37297224501636683,-0.22220051963219598,-0.007860968784903714,-0.22218288564763577,-0.007927067512302648,-0.2222157866492082,-0.2538498786000011,-0.2538493079437503,-0.25388187329196044,-0.05699356146273062,-0.2221800220354006,-0.08718685931249086,-0.007838904563335398,-0.2538558022448679,-0.3413882022913908,-0.05445875829237599,0.02540827413179076,-0.3499728116109567,-0.2366926815426994,-0.23670779174930756,-0.26210807273351294,-0.3302869001851824,-0.2572865681817381,-0.33028665253477163,0.11515215228038364,-0.2621159397364091,-0.22217810249988987,-0.0870664701746455,7.8436807831550075,-0.007838533461732801,-0.25385353933487326,-0.2538490791711288,-0.04353548875373992,0.010520980792349342,-0.22217766105114628,-0.19370095439859966,-0.25384887345972335,-0.09177555985824114,-0.2640961978398358,-0.22125711178808774,-0.2368407336976001,-0.34004357847258065,-0.2538492465559163,-0.24168783412214806,-0.13897569034244905,-0.25385179644378364,-0.05649993937415042,-0.22218760372669788,-0.33534702885337875,-0.24321386029066408,-0.33032445617680894,-0.2538767321637103,-0.06990917853495662,-0.07489324527343465,-0.25648420537031796,-0.2538548049308873,-0.22218579435507227,-0.07489861855666494,-0.2539931375195861,-0.253848743314948,-0.05539104392704216,0.025426240847275666,0.05254282217679094,-0.10797189633581637,-0.2539015174893266,-0.1635675286731048,4.168537944049368,-3.5070323210591297,-0.29029427529720286,-0.2221766048079824,-0.06537831194232656,-0.08707139816045495,0.016382786999244753,-0.23669589439648386,-0.25384838765312573,-0.2538485202834113,-0.08713097502663088,-0.040389559759473316,-0.007842892042364925,-0.25385105010977393,-0.3737229976117654,-0.24170899815183583,-0.00784052610710061,0.00528255863851216,-0.254293063807223,0.20639324144341434,-0.08707065015379585,-0.256171367943478,-0.08706522343100682,-0.4077230288468385,-0.25385514221676153,-0.16368987184513933,-0.09131081860249367,-0.07491168299324345,-0.054464613164630284,-0.16405359486534699,-0.16151087841821307,-0.07489136235281811,-0.24167646421124372,-0.08763053818551879,-0.2585603092578627,-0.07490546827183148,-0.25388282519585526,-0.055395073146713145,-0.2221829984929426,-0.08709193016100356,-0.007844561749654736,-0.1469149081706232,-0.05539372147315618,-0.25465964250243955,-0.08245155065915814,-0.05182289971605314,0.10140664941530965,0.45723181601773977,-0.05873019400638556,-0.24168381373732548,-0.25385169781908484,-0.24167932794937053,-0.07489010632879457,-0.26234916580572687,-0.05539028358203976,-0.25385493784977553,-0.06543165514977467,-0.4080554774634993,-0.22219247051415209,-0.22218096754924743,-0.3355020483296761,-0.2579996346824962,-0.22222243004176873,-0.2538555398948928,-0.25385394268251926,-0.05445157629465876,-0.2538499921055204,-0.22227687248976297,-0.25439186167255556,-0.22472465018043744,-0.2223049361064462,-0.2538602742738871,-0.2539400680981755,-0.22222143055490812,-0.2538736217401674,-0.007836728579663698,-0.03946725662285088,-0.22125390735180647,-0.335302957229558,-0.08934029798635945,-0.2539071368256544,-0.19365428234786103,-0.3302817934744197,-0.33547238264573676,-0.33549215092978607,-0.05467778611898645,-1.635732376099737,-0.007837776504785315,-0.02684858871456153,-0.2261303800203979,-0.2538594343110048,-0.08706232013144809],\"type\":\"scatter3d\"},{\"customdata\":[[\"SHA-256\"],[\"Ethash\"],[\"Scrypt\"],[\"CryptoNight-V7\"],[\"Ethash\"],[\"Equihash\"],[\"Multiple\"],[\"Scrypt\"],[\"X11\"],[\"Scrypt\"],[\"Multiple\"],[\"Scrypt\"],[\"SHA-256\"],[\"Scrypt\"],[\"Scrypt\"],[\"Quark\"],[\"Groestl\"],[\"Scrypt\"],[\"Scrypt\"],[\"Scrypt\"],[\"X11\"],[\"Multiple\"],[\"SHA-256\"],[\"Scrypt\"],[\"Scrypt\"],[\"Scrypt\"],[\"Scrypt\"],[\"Scrypt\"],[\"NeoScrypt\"],[\"Scrypt\"],[\"Scrypt\"],[\"Scrypt\"],[\"Scrypt\"],[\"SHA-256\"],[\"Scrypt\"],[\"Scrypt\"],[\"Scrypt\"],[\"Scrypt\"],[\"HybridScryptHash256\"],[\"Scrypt\"],[\"Scrypt\"],[\"SHA-256\"],[\"Scrypt\"],[\"Scrypt\"],[\"Scrypt\"],[\"Scrypt\"],[\"SHA-256\"],[\"SHA-256\"],[\"SHA-256\"],[\"SHA-256\"],[\"SHA-256\"],[\"X11\"],[\"Scrypt\"],[\"Lyra2REv2\"],[\"Scrypt\"],[\"SHA-256\"],[\"CryptoNight\"],[\"CryptoNight\"],[\"Scrypt\"],[\"Scrypt\"],[\"Scrypt\"],[\"Scrypt\"],[\"Scrypt\"],[\"Scrypt\"],[\"Stanford Folding\"],[\"Multiple\"],[\"QuBit\"],[\"Scrypt\"],[\"Scrypt\"],[\"M7 POW\"],[\"Scrypt\"],[\"SHA-256\"],[\"Scrypt\"],[\"X11\"],[\"Lyra2RE\"],[\"SHA-256\"],[\"X11\"],[\"Scrypt\"],[\"Scrypt\"],[\"Ethash\"],[\"Blake2b\"],[\"X11\"],[\"SHA-256\"],[\"Scrypt\"],[\"1GB AES Pattern Search\"],[\"Scrypt\"],[\"SHA-256\"],[\"X11\"],[\"Dagger\"],[\"Scrypt\"],[\"X11GOST\"],[\"Scrypt\"],[\"X11\"],[\"Scrypt\"],[\"X11\"],[\"Equihash\"],[\"CryptoNight\"],[\"SHA-256\"],[\"Multiple\"],[\"Scrypt\"],[\"SHA-256\"],[\"Scrypt\"],[\"Lyra2Z\"],[\"Ethash\"],[\"Equihash\"],[\"Scrypt\"],[\"X11\"],[\"X11\"],[\"CryptoNight\"],[\"Scrypt\"],[\"CryptoNight\"],[\"Lyra2RE\"],[\"X11\"],[\"CryptoNight-V7\"],[\"Scrypt\"],[\"X11\"],[\"Equihash\"],[\"Scrypt\"],[\"Lyra2RE\"],[\"Dagger-Hashimoto\"],[\"Scrypt\"],[\"NIST5\"],[\"Scrypt\"],[\"SHA-256\"],[\"Scrypt\"],[\"CryptoNight-V7\"],[\"Argon2d\"],[\"Blake2b\"],[\"Cloverhash\"],[\"CryptoNight\"],[\"X11\"],[\"Scrypt\"],[\"Scrypt\"],[\"X11\"],[\"X11\"],[\"CryptoNight\"],[\"Time Travel\"],[\"Scrypt\"],[\"Keccak\"],[\"X11\"],[\"SHA-256\"],[\"Scrypt\"],[\"Scrypt\"],[\"Scrypt\"],[\"Scrypt\"],[\"Scrypt\"],[\"Scrypt\"],[\"CryptoNight\"],[\"Equihash\"],[\"X11\"],[\"NeoScrypt\"],[\"Equihash\"],[\"Dagger\"],[\"Scrypt\"],[\"X11\"],[\"NeoScrypt\"],[\"Ethash\"],[\"NeoScrypt\"],[\"Multiple\"],[\"CryptoNight\"],[\"CryptoNight\"],[\"Ethash\"],[\"X11\"],[\"CryptoNight-V7\"],[\"Scrypt\"],[\"BLAKE256\"],[\"X11\"],[\"NeoScrypt\"],[\"NeoScrypt\"],[\"Scrypt\"],[\"X11\"],[\"SHA-256\"],[\"C11\"],[\"CryptoNight\"],[\"SkunkHash\"],[\"CryptoNight\"],[\"Scrypt\"],[\"Dagger\"],[\"Lyra2REv2\"],[\"Scrypt\"],[\"Scrypt\"],[\"X11\"],[\"Ethash\"],[\"CryptoNight\"],[\"Scrypt\"],[\"IMesh\"],[\"Equihash\"],[\"Lyra2Z\"],[\"X11\"],[\"CryptoNight\"],[\"NIST5\"],[\"Lyra2RE\"],[\"Tribus\"],[\"Lyra2Z\"],[\"CryptoNight\"],[\"CryptoNight Heavy\"],[\"CryptoNight\"],[\"Jump Consistent Hash\"],[\"CryptoNight\"],[\"X16R\"],[\"HMQ1725\"],[\"X11\"],[\"Scrypt\"],[\"CryptoNight-V7\"],[\"Cryptonight-GPU\"],[\"XEVAN\"],[\"CryptoNight Heavy\"],[\"SHA-256\"],[\"X11\"],[\"X16R\"],[\"Equihash\"],[\"Lyra2Z\"],[\"SHA-256\"],[\"CryptoNight\"],[\"Blake\"],[\"Blake\"],[\"Equihash\"],[\"Exosis\"],[\"Scrypt\"],[\"Equihash\"],[\"Equihash\"],[\"QuBit\"],[\"SHA-256\"],[\"X13\"],[\"SHA-256\"],[\"Scrypt\"],[\"NeoScrypt\"],[\"Blake\"],[\"Scrypt\"],[\"SHA-256\"],[\"Scrypt\"],[\"Groestl\"],[\"Scrypt\"],[\"Scrypt\"],[\"Multiple\"],[\"Equihash+Scrypt\"],[\"Ethash\"],[\"CryptoNight\"],[\"Equihash\"]],\"hovertemplate\":\"<b>%{hovertext}</b><br><br>Class=%{marker.color}<br>PC 1=%{x}<br>PC 2=%{y}<br>PC 3=%{z}<br>Algorithm=%{customdata[0]}<extra></extra>\",\"hovertext\":[\"Bitcoin\",\"Ethereum\",\"Litecoin\",\"Monero\",\"Ethereum Classic\",\"ZCash\",\"DigiByte\",\"ProsperCoin\",\"Spreadcoin\",\"Argentum\",\"MyriadCoin\",\"MoonCoin\",\"ZetaCoin\",\"SexCoin\",\"Quatloo\",\"QuarkCoin\",\"Riecoin\",\"Digitalcoin \",\"Catcoin\",\"CannaCoin\",\"CryptCoin\",\"Verge\",\"DevCoin\",\"EarthCoin\",\"E-Gulden\",\"Einsteinium\",\"Emerald\",\"Franko\",\"FeatherCoin\",\"GrandCoin\",\"GlobalCoin\",\"GoldCoin\",\"Infinite Coin\",\"IXcoin\",\"KrugerCoin\",\"LuckyCoin\",\"Litebar \",\"MegaCoin\",\"MediterraneanCoin\",\"MinCoin\",\"NobleCoin\",\"Namecoin\",\"NyanCoin\",\"RonPaulCoin\",\"StableCoin\",\"SmartCoin\",\"SysCoin\",\"TigerCoin\",\"TerraCoin\",\"UnbreakableCoin\",\"Unobtanium\",\"UroCoin\",\"ViaCoin\",\"Vertcoin\",\"WorldCoin\",\"JouleCoin\",\"ByteCoin\",\"DigitalNote \",\"MonaCoin\",\"Gulden\",\"PesetaCoin\",\"Wild Beast Coin\",\"Flo\",\"ArtByte\",\"Folding Coin\",\"Unitus\",\"CypherPunkCoin\",\"OmniCron\",\"GreenCoin\",\"Cryptonite\",\"MasterCoin\",\"SoonCoin\",\"1Credit\",\"MarsCoin \",\"Crypto\",\"Anarchists Prime\",\"BowsCoin\",\"Song Coin\",\"BitZeny\",\"Expanse\",\"Siacoin\",\"MindCoin\",\"I0coin\",\"Revolution VR\",\"HOdlcoin\",\"Gamecredits\",\"CarpeDiemCoin\",\"Adzcoin\",\"SoilCoin\",\"YoCoin\",\"SibCoin\",\"Francs\",\"BolivarCoin\",\"Omni\",\"PizzaCoin\",\"Komodo\",\"Karbo\",\"ZayedCoin\",\"Circuits of Value\",\"DopeCoin\",\"DollarCoin\",\"Shilling\",\"ZCoin\",\"Elementrem\",\"ZClassic\",\"KiloCoin\",\"ArtexCoin\",\"Kurrent\",\"Cannabis Industry Coin\",\"OsmiumCoin\",\"Bikercoins\",\"HexxCoin\",\"PacCoin\",\"Citadel\",\"BeaverCoin\",\"VaultCoin\",\"Zero\",\"Canada eCoin\",\"Zoin\",\"DubaiCoin\",\"EB3coin\",\"Coinonat\",\"BenjiRolls\",\"ILCoin\",\"EquiTrader\",\"Quantum Resistant Ledger\",\"Dynamic\",\"Nano\",\"ChanCoin\",\"Dinastycoin\",\"DigitalPrice\",\"Unify\",\"SocialCoin\",\"ArcticCoin\",\"DAS\",\"LeviarCoin\",\"Bitcore\",\"gCn Coin\",\"SmartCash\",\"Onix\",\"Bitcoin Cash\",\"Sojourn Coin\",\"NewYorkCoin\",\"FrazCoin\",\"Kronecoin\",\"AdCoin\",\"Linx\",\"Sumokoin\",\"BitcoinZ\",\"Elements\",\"VIVO Coin\",\"Bitcoin Gold\",\"Pirl\",\"eBoost\",\"Pura\",\"Innova\",\"Ellaism\",\"GoByte\",\"SHIELD\",\"UltraNote\",\"BitCoal\",\"DaxxCoin\",\"AC3\",\"Lethean\",\"PopularCoin\",\"Photon\",\"Sucre\",\"SparksPay\",\"GunCoin\",\"IrishCoin\",\"Pioneer Coin\",\"UnitedBitcoin\",\"Interzone\",\"TurtleCoin\",\"MUNcoin\",\"Niobio Cash\",\"ShareChain\",\"Travelflex\",\"KREDS\",\"BitFlip\",\"LottoCoin\",\"Crypto Improvement Fund\",\"Callisto Network\",\"BitTube\",\"Poseidon\",\"Aidos Kuneen\",\"Bitrolium\",\"Alpenschillling\",\"FuturoCoin\",\"Monero Classic\",\"Jumpcoin\",\"Infinex\",\"KEYCO\",\"GINcoin\",\"PlatinCoin\",\"Loki\",\"Newton Coin\",\"MassGrid\",\"PluraCoin\",\"Motion\",\"PlusOneCoin\",\"Axe\",\"HexCoin\",\"Webchain\",\"Ryo\",\"Urals Coin\",\"Qwertycoin\",\"Project Pai\",\"Azart\",\"Xchange\",\"CrypticCoin\",\"Actinium\",\"Bitcoin SV\",\"FREDEnergy\",\"Universal Molecule\",\"Lithium\",\"PirateCash\",\"Exosis\",\"Block-Logic\",\"Beam\",\"Bithereum\",\"SLICE\",\"BLAST\",\"Bitcoin Rhodium\",\"GlobalToken\",\"SolarCoin\",\"UFO Coin\",\"BlakeCoin\",\"Crypto Escudo\",\"Crown Coin\",\"SmileyCoin\",\"Groestlcoin\",\"Bata\",\"Pakcoin\",\"JoinCoin\",\"Vollar\",\"Reality Clash\",\"Beldex\",\"Horizen\"],\"legendgroup\":\"3\",\"marker\":{\"color\":[3,3,3,3,3,3,3,3,3,3,3,3,3,3,3,3,3,3,3,3,3,3,3,3,3,3,3,3,3,3,3,3,3,3,3,3,3,3,3,3,3,3,3,3,3,3,3,3,3,3,3,3,3,3,3,3,3,3,3,3,3,3,3,3,3,3,3,3,3,3,3,3,3,3,3,3,3,3,3,3,3,3,3,3,3,3,3,3,3,3,3,3,3,3,3,3,3,3,3,3,3,3,3,3,3,3,3,3,3,3,3,3,3,3,3,3,3,3,3,3,3,3,3,3,3,3,3,3,3,3,3,3,3,3,3,3,3,3,3,3,3,3,3,3,3,3,3,3,3,3,3,3,3,3,3,3,3,3,3,3,3,3,3,3,3,3,3,3,3,3,3,3,3,3,3,3,3,3,3,3,3,3,3,3,3,3,3,3,3,3,3,3,3,3,3,3,3,3,3,3,3,3,3,3,3,3,3,3,3,3,3,3,3,3,3,3,3,3,3,3,3,3,3,3,3,3,3,3,3,3,3,3,3,3,3,3,3,3,3],\"coloraxis\":\"coloraxis\",\"symbol\":\"diamond\"},\"mode\":\"markers\",\"name\":\"3\",\"scene\":\"scene\",\"showlegend\":true,\"x\":[-0.16092289505419077,-0.16084410843076283,-0.16699090912910483,-0.15930459105031541,-0.15928355513921819,-0.15503251028765513,0.16705658461283499,-0.16813863582894698,-0.21505160510866936,-0.16775458001807023,-0.08670045174492563,2.558309041844893,-0.15800410060156592,-0.16500626247903424,-0.16755824256047808,-0.23020537535643612,-0.20871531490157633,-0.16760729665490484,-0.16812088322142296,-0.16820746452976373,-0.2151410502368433,0.19081087761992388,0.21741431753903406,0.08084435618561227,-0.1679534578584177,-0.16355290977041323,-0.16789263865564674,-0.1682645358863196,-0.17261401737534848,-0.14745874487025187,-0.1670581133201369,-0.1673358423382432,1.5828864995230598,-0.16088422391195892,-0.16462152312354067,-0.16797993170220069,-0.16833520149793132,-0.1675934916794306,-0.171652740005725,-0.16821630451795228,-0.032912539527761485,-0.16096191596635115,-0.161872102077713,-0.16819567510249744,-0.16628698426324434,-0.16768174391043186,-0.14809662226514367,-0.16042500444655966,-0.1607125334483961,-0.1606953304413132,-0.16128701410979265,-0.2153152078166712,-0.1679118578017837,-0.20506119280202847,-0.16501091237888704,-0.16049237890863344,3.8606558118070233,0.45527159096671876,-0.16677789515903269,-0.1513535714586102,-0.16549509310018498,-0.1683374074106816,-0.1653600193058256,-0.15156542889487887,-0.13732591930342922,-0.12075170514620043,-0.19330461660165893,-0.16821034840155777,-0.04097013919887497,-0.1009629722790057,-0.16834631828234012,-0.16098972268091216,0.48490683466247214,-0.2147016024102702,-0.14297191603229037,-0.16072916508312526,-0.21498685427461128,-0.16646719192715825,-0.16565840710454693,-0.1619126130120552,0.38273808786541247,-0.21502231058103144,-0.16088534744290992,-0.1642989957274,-0.19905780835068682,-0.16690778839879286,0.2581348144749768,-0.2141818466561656,-0.15961957758799744,-0.16715509786530722,-0.1942981461877267,-0.16813592254871973,-0.21498547522418296,-0.16834637685219767,-0.2151356040096981,-0.2821068702006422,0.29996863749887986,-0.16114575618551752,-0.10079786936902413,-0.16550921939223415,-0.16110433832574847,-0.16800929197881995,-0.1520392739174356,-0.1616544572953685,-0.15505415009238907,-0.09495074619766973,-0.20170268947493658,-0.21296056554955495,0.2999630443788174,-0.1683280861601185,0.30009391568570487,-0.14351317747578882,0.5013065551522365,-0.15806717304609105,-0.16829633705134395,-0.20785768260503049,-0.15506655569543443,-0.16642720919038823,-0.14323121230623675,-0.1043012223606999,-0.139171658863963,-0.189099892557543,-0.1678581109222912,-0.12742438977907727,-0.16767982660854075,-0.15792511425921715,-0.12756657036009034,-0.017984798536670538,-0.12356064497431414,0.33613185817756736,-0.21419017803388365,-0.16799965798659997,-0.16776254235171603,-0.21458545096867546,-0.21516369316971035,0.3003585941270979,-0.14566875714917127,3.245828984104805,-0.12312877977043402,-0.2060214164860172,-0.16092205839164656,-0.09379504905895912,1.5805117147928613,-0.16809760531792575,-0.16754838734462327,-0.16724897683009696,-0.16723589399778646,0.300542551940184,0.057576300461073766,-0.1694947139730631,-0.17730906048119938,-0.1549124271631465,-0.15837680722299746,-0.16642541645993647,-0.2107019631799126,-0.1771542298843612,-0.1600168137573106,-0.17725459899332527,-0.11097031240267542,1.139164125069698,0.2999457582467057,-0.08478391165365164,-0.21044237928989623,-0.14702175725275696,-0.0843754459876699,1.1054359464059904,-0.21513766041425536,-0.1773066431423051,-0.17033506196367248,-0.16734762283644813,-0.21506297515345035,-0.1609014377950692,-0.21016853480363235,8.05036059360877,-0.16821664284539128,0.3038257006192134,0.024941567025918564,-0.15787974907166805,-0.1905995370065398,-0.1679220579723393,0.13955889352012135,-0.2091956042147398,-0.112978360373769,0.3078816073545307,-0.1681594023596716,-0.11672549148679535,-0.15390223890223334,-0.14981921974809329,-0.21423099345751628,0.3001284954216153,-0.189159537135161,-0.1433581809486424,-0.09983013423259303,-0.15212378750385588,0.30406342005630843,0.5889889466913897,2.1113327174991836,-0.16511606251793187,0.3137521173462244,-0.18253121021869026,-0.1351797128242972,-0.21511979652135835,-0.16818400524364602,-0.14689819572526805,-0.1385619113518173,-0.029936222886646567,3.1150188706088087,-0.12069827573240459,-0.21509111428909747,-0.18195798551788325,-0.049514217548487414,-0.15152058050915745,-0.16092209599671253,0.380008348001365,-0.12691585001379632,-0.12730864027581237,-0.2752194209756808,-0.1454590073305563,-0.16707470220983622,-0.15296941846123238,-0.15474502607066734,-0.19251431666149924,-0.16019728525390362,-0.1280637476145586,-0.1590635712131716,0.5288995240068725,-0.10237575997363672,-0.07769106624274108,-0.15171617384706068,-0.16071190323536008,0.5484676951372439,-0.20827575931149206,-0.1682610001319169,-0.16621377467832932,-0.1214873533617408,-0.10860713904898989,-0.16168765838146765,0.32173194926246784,-0.15503356835052204],\"y\":[-1.381974775851053,-2.0961764242942813,-1.0466793400158094,-2.3150977495291007,-2.09627583129059,-2.1571257685715177,-1.840103705472046,-1.0466744016964986,-0.9386560238507545,-1.0466923941262813,-1.8352315500199814,-1.2330869169827303,-1.3819788209504216,-1.0467304167430593,-1.0467120419740346,-0.47130695008057294,-1.2264858686063769,-1.0466751970793424,-1.0466737516413018,-1.0466710625672322,-0.9386578081462353,-1.8359202321108767,-1.3837604249518698,-1.0476055838965945,-1.0466676209516466,-1.0467143178795795,-1.046673594170661,-1.046671732844316,-1.675048620269029,-1.0469605356676948,-1.0466713641633973,-1.0466832080124717,-1.0500810218841161,-1.38197335981248,-1.0467278244436453,-1.0466678448778057,-1.0466669507780821,-1.0466700949561776,-2.2531747156035333,-1.0466690454626837,-1.05288928888905,-1.3819762046973028,-1.0466805084110737,-1.0466764903291772,-1.046777313507402,-1.0466801849295555,-1.3821514402886728,-1.3819759357290635,-1.3819827279933783,-1.382010426244617,-1.3819726402838814,-0.93865076674022,-1.0466675886206225,-1.403912571048599,-1.046742082884761,-1.3819769029311726,-2.3941515134267566,-2.3887862767369357,-1.0466872844927402,-1.0472965242262509,-1.0466859840373617,-1.0466679842744506,-1.046676277354171,-1.046797356552452,-2.3050150655351334,-1.8349874631280298,-1.5660978090340725,-1.0466638858394137,-1.04945694533366,-2.1166302329571742,-1.0466668132579506,-1.3819772229082492,-1.0913299058739538,-0.9386528988648477,-2.216127341669209,-1.3819921038280973,-0.9386543983188647,-1.0467542720287473,-1.0467542966154855,-2.096228153560855,-2.2414339350112336,-0.9386519692460501,-1.3819734009533173,-1.046674699300614,-2.292663318911506,-1.046676296346725,-1.3827362224905377,-0.938671886136587,-2.3907881985301698,-1.0467482342656504,-2.423710392251678,-1.0466735568646395,-0.9386573297353948,-1.0466668131438295,-0.9386628270685099,-1.8105929609162996,-2.3870257448690992,-1.3819745393877423,-1.8351513787200573,-1.0467115598190828,-1.381973695415107,-1.0466763747608285,-2.2532145365329392,-2.0962256328671756,-2.1571265609659593,-1.0514335774458807,-0.9385250502768603,-0.9387345148364146,-2.3870341499379433,-1.04666770727839,-2.3870323396784046,-2.216105571709313,-0.9869577520094233,-2.3151903519537536,-1.0466670260729036,-0.9391231696524489,-2.1571240333136545,-1.0466706264175298,-2.21610344712796,-2.085755622094904,-1.0485799636922897,-0.660830383465128,-1.0466749542355227,-1.3825961871514165,-1.0466956206748146,-2.315125511846622,-2.29631832758534,-2.2563610579563043,-2.145482541115423,-2.3871850421228342,-0.9386841188657398,-1.0466680280739928,-1.0467008859496834,-0.9386687736137962,-0.9386593082032837,-2.387044266704465,-2.2648343050570214,-1.0707436541159698,-1.2419733843775778,-0.9391304781178522,-1.381974745214602,-1.0517639979949602,-0.9826276319901639,-1.0466721537854033,-1.0466997534458164,-1.0467007174519907,-1.0467002383920487,-2.3870635395531536,-2.1649799689392797,-0.9383147983810751,-1.674990187925446,-2.1571213714338553,-2.3908368503985313,-1.0466705607723141,-0.9387427589519038,-1.6749979370362715,-2.0963548648426666,-1.67499177198131,-1.8351213092636132,-2.419654761374516,-2.3870284463450937,-2.100846078531502,-0.9388823493440527,-2.3153930754326524,-1.0473189446326119,-1.157376066987836,-0.938659025880808,-1.6749856265379046,-1.6750874292033522,-1.046677492392525,-0.9386586766281665,-1.3819733684119273,-1.3149939132067354,-2.848697169296664,-2.390409677054033,-2.3871275350356993,-1.0470434268065691,-2.390776673940758,-1.4041404282232381,-1.0466806352586613,-1.0491136551058333,-0.9387994216986039,-2.0992693127044832,-2.3874740157758034,-1.0466751621138741,-2.16761702774256,-2.1571209093614745,-2.2533409341119732,-0.9386856134224243,-2.387026153298862,-0.6608122517184095,-2.216112032521988,-2.2071544699070382,-2.2532095054896506,-2.3873156370559157,-2.2469306417897106,-2.45785879524376,-2.325666947741458,-2.3872590526768342,-1.257270709205529,-2.2376142924549574,-0.9386592663247765,-1.046676886958477,-2.315948046288204,-2.354730217915312,-0.706023966841497,-2.29184046011728,-1.382051702630888,-0.938661197968444,-1.2573078100665445,-2.1589119391374934,-2.253242210255205,-1.3819747465916041,-2.3901109060389993,-2.2502399535559334,-2.25019477936344,-0.14905059196237463,-2.070687224306386,-1.046709245529203,-2.1572304801037876,-2.1571226114329787,-1.566143418112462,-1.3819802614451178,-0.49123006514013073,-1.3820162774891063,-1.0942664244293199,-1.6752081075522736,-2.25357745207859,-1.0468028764480184,-1.3819827049165843,-1.057692374011757,-1.2264854282497226,-1.04666695470974,-1.0467239402239137,-1.8350164880285744,-2.209188351545725,-2.09622556817617,-2.3872652089251742,-2.1571258073150803],\"z\":[0.02459505353166228,0.13157154470495963,-0.008028068206735755,0.11015689106089488,0.13156337573081822,0.2529047900251029,0.1561128977696952,-0.0080148308502732,0.02365693806959426,-0.00801752757456765,0.15863872520718586,-0.02093602274856164,0.02456048664840648,-0.008046447260441692,-0.008017798035641729,0.004101279817860635,0.015452539858676924,-0.00802111716952853,-0.008015112637334851,-0.008014359709825333,0.023658199720471215,0.15538444372337806,0.020248216584591163,-0.010901346013401807,-0.008017770179390617,-0.008065579947705178,-0.008017865950445496,-0.008013604353127207,0.05213126461387783,-0.008232435655073169,-0.008028108253666582,-0.008023522326956046,-0.028648065636497747,0.024594439704790885,-0.00805133512555508,-0.00801742901580978,-0.008013264207316935,-0.008021823752833298,0.04273867857627237,-0.008014467627396838,-0.008977099865735652,0.024595672910431,-0.008089317935348742,-0.008013925466133246,-0.008026118369154775,-0.008019695613797681,0.02446000338736702,0.02458920690863362,0.02459337463095678,0.024596105681485063,0.024599192787604217,0.023659541121708868,-0.008018272385655894,-0.012733596756888965,-0.00804515435160564,0.02459011728578643,0.0804749978941732,0.12073601402972312,-0.00802977972173189,-0.008150106820327492,-0.008045298211232075,-0.00801312815978365,-0.008047947086207033,-0.008200501833785357,0.13269173339588905,0.1590211093518796,0.01187863034599243,-0.008015086201908678,-0.009244479750896832,0.2127638151138567,-0.008013145502520561,0.024596114286289703,-0.011109161335542472,0.02365241020142806,0.1502771304085284,0.02459456831898291,0.02365598933551394,-0.008026401185378807,-0.008036095771649312,0.13158984161930679,0.12412949973075005,0.023656156855181434,0.0245944575385928,-0.008060835927537646,-0.08918898979075594,-0.008029387581723753,0.019651371271976494,0.02364819195753468,0.12894275813286046,-0.008018793594824167,-0.023769091826783117,-0.008014952973784241,0.023656283668356145,-0.008013144812380028,0.023658666661912946,0.6093700874522282,0.12241137142896476,0.02459770052285653,0.15879924895483233,-0.00804241660885078,0.02459711442908262,-0.00801617242400805,0.1322001682199759,0.13158647906423462,0.25290513351362964,-0.0083876458117763,0.023482997490480703,0.02364019057799469,0.12241232982042008,-0.00801326929455951,0.12241056872324108,0.1502813114067584,0.02019016959904702,0.11015187482111116,-0.008013722200699918,0.023620223482506333,0.25290501420520894,-0.008035750923385078,0.15027770538681778,0.2747456852363278,-0.008160061213625256,0.009139993932434594,-0.008018135701580878,0.02425931080037191,-0.008018081690103327,0.11014329547253482,0.26325915038107706,0.1305170735918806,0.1433789092159389,0.1219946734806422,0.023649589091471374,-0.00801717307361227,-0.008016531576595428,0.023652701032002565,0.023658630281709156,0.12240866009664837,0.2700584029068478,-0.04639525895652183,0.09833015122685732,0.023598982001010366,0.024595040251321757,-0.008366462374456584,-0.03577281039625019,-0.008015561183021295,-0.008019219357454517,-0.008022707009229196,-0.0080229146729694,0.12240849829796274,0.25118855927665706,0.023074532749696695,0.05218136082418443,0.25290288394619276,0.12893301690209577,-0.008035779379387794,0.023613984578807225,0.05218032620006337,0.1315805486354745,0.0521808758242296,0.15891802606068417,0.11580976276616088,0.12241193223029931,0.13115479779281874,0.023625675330036674,0.11004094033050575,-0.008950785635446523,0.08545041659357978,0.023658288213958815,0.05218084812001925,0.05210805588723114,-0.008023987204133935,0.02365735571314312,0.024594647008290258,-0.044459409448118284,0.07844426911431066,0.09179311364607,0.12237592041694882,-0.010290695975920135,0.12892067573623328,-0.01288282604024242,-0.00801676653275284,-0.011445397245488206,0.02360193249341876,0.13132563346352483,0.12236403396265791,-0.008014501223221733,0.12867110401915843,0.2528907229580091,0.13218695420722085,0.023650236954512408,0.12240949807211307,0.009138786246637286,0.1502801381732289,0.3208899122468977,0.1322006479974416,0.12239301782355297,0.22535475365703375,0.1082050419097151,0.10520563004857435,0.12227085138320049,0.08433186477846394,0.23244868351237086,0.023658099527215894,-0.008014023324493484,0.11009831174742887,0.08764961973437929,0.18044897707125998,0.199830624675286,0.024120924971123024,0.02365796047677213,0.08432892633960176,0.25182906121409576,0.1321968838839538,0.024595040848226724,0.12177888035483841,0.18162811737544143,0.1816280362846205,0.17385152323281194,0.20916415591635043,-0.008023892156997333,0.2528911582278986,0.2529010083333008,0.011873991481085016,0.02458693532238609,-0.08444694181733511,0.02457716166946376,-0.011325217783311164,0.051306032874252845,0.18139185165149987,-0.008198109059817734,0.024593364627587967,-0.015438398884443434,0.01544722296285946,-0.008014153452241119,-0.008032656207138198,0.1590330076485444,0.1412885174748951,0.1315868702793815,0.12217582739498405,0.25290480681973093],\"type\":\"scatter3d\"},{\"customdata\":[[\"Proof-of-Authority\"]],\"hovertemplate\":\"<b>%{hovertext}</b><br><br>Class=%{marker.color}<br>PC 1=%{x}<br>PC 2=%{y}<br>PC 3=%{z}<br>Algorithm=%{customdata[0]}<extra></extra>\",\"hovertext\":[\"Poa Network\"],\"legendgroup\":\"1\",\"marker\":{\"color\":[1],\"coloraxis\":\"coloraxis\",\"symbol\":\"square\"},\"mode\":\"markers\",\"name\":\"1\",\"scene\":\"scene\",\"showlegend\":true,\"x\":[-0.4307790159925081],\"y\":[2.4805975401879024],\"z\":[30.893233115782596],\"type\":\"scatter3d\"},{\"customdata\":[[\"TRC10\"]],\"hovertemplate\":\"<b>%{hovertext}</b><br><br>Class=%{marker.color}<br>PC 1=%{x}<br>PC 2=%{y}<br>PC 3=%{z}<br>Algorithm=%{customdata[0]}<extra></extra>\",\"hovertext\":[\"BitTorrent\"],\"legendgroup\":\"2\",\"marker\":{\"color\":[2],\"coloraxis\":\"coloraxis\",\"symbol\":\"x\"},\"mode\":\"markers\",\"name\":\"2\",\"scene\":\"scene\",\"showlegend\":true,\"x\":[34.08036540741572],\"y\":[1.811484696712762],\"z\":[-0.7933618380749023],\"type\":\"scatter3d\"}],                        {\"template\":{\"data\":{\"bar\":[{\"error_x\":{\"color\":\"#2a3f5f\"},\"error_y\":{\"color\":\"#2a3f5f\"},\"marker\":{\"line\":{\"color\":\"#E5ECF6\",\"width\":0.5},\"pattern\":{\"fillmode\":\"overlay\",\"size\":10,\"solidity\":0.2}},\"type\":\"bar\"}],\"barpolar\":[{\"marker\":{\"line\":{\"color\":\"#E5ECF6\",\"width\":0.5},\"pattern\":{\"fillmode\":\"overlay\",\"size\":10,\"solidity\":0.2}},\"type\":\"barpolar\"}],\"carpet\":[{\"aaxis\":{\"endlinecolor\":\"#2a3f5f\",\"gridcolor\":\"white\",\"linecolor\":\"white\",\"minorgridcolor\":\"white\",\"startlinecolor\":\"#2a3f5f\"},\"baxis\":{\"endlinecolor\":\"#2a3f5f\",\"gridcolor\":\"white\",\"linecolor\":\"white\",\"minorgridcolor\":\"white\",\"startlinecolor\":\"#2a3f5f\"},\"type\":\"carpet\"}],\"choropleth\":[{\"colorbar\":{\"outlinewidth\":0,\"ticks\":\"\"},\"type\":\"choropleth\"}],\"contour\":[{\"colorbar\":{\"outlinewidth\":0,\"ticks\":\"\"},\"colorscale\":[[0.0,\"#0d0887\"],[0.1111111111111111,\"#46039f\"],[0.2222222222222222,\"#7201a8\"],[0.3333333333333333,\"#9c179e\"],[0.4444444444444444,\"#bd3786\"],[0.5555555555555556,\"#d8576b\"],[0.6666666666666666,\"#ed7953\"],[0.7777777777777778,\"#fb9f3a\"],[0.8888888888888888,\"#fdca26\"],[1.0,\"#f0f921\"]],\"type\":\"contour\"}],\"contourcarpet\":[{\"colorbar\":{\"outlinewidth\":0,\"ticks\":\"\"},\"type\":\"contourcarpet\"}],\"heatmap\":[{\"colorbar\":{\"outlinewidth\":0,\"ticks\":\"\"},\"colorscale\":[[0.0,\"#0d0887\"],[0.1111111111111111,\"#46039f\"],[0.2222222222222222,\"#7201a8\"],[0.3333333333333333,\"#9c179e\"],[0.4444444444444444,\"#bd3786\"],[0.5555555555555556,\"#d8576b\"],[0.6666666666666666,\"#ed7953\"],[0.7777777777777778,\"#fb9f3a\"],[0.8888888888888888,\"#fdca26\"],[1.0,\"#f0f921\"]],\"type\":\"heatmap\"}],\"heatmapgl\":[{\"colorbar\":{\"outlinewidth\":0,\"ticks\":\"\"},\"colorscale\":[[0.0,\"#0d0887\"],[0.1111111111111111,\"#46039f\"],[0.2222222222222222,\"#7201a8\"],[0.3333333333333333,\"#9c179e\"],[0.4444444444444444,\"#bd3786\"],[0.5555555555555556,\"#d8576b\"],[0.6666666666666666,\"#ed7953\"],[0.7777777777777778,\"#fb9f3a\"],[0.8888888888888888,\"#fdca26\"],[1.0,\"#f0f921\"]],\"type\":\"heatmapgl\"}],\"histogram\":[{\"marker\":{\"pattern\":{\"fillmode\":\"overlay\",\"size\":10,\"solidity\":0.2}},\"type\":\"histogram\"}],\"histogram2d\":[{\"colorbar\":{\"outlinewidth\":0,\"ticks\":\"\"},\"colorscale\":[[0.0,\"#0d0887\"],[0.1111111111111111,\"#46039f\"],[0.2222222222222222,\"#7201a8\"],[0.3333333333333333,\"#9c179e\"],[0.4444444444444444,\"#bd3786\"],[0.5555555555555556,\"#d8576b\"],[0.6666666666666666,\"#ed7953\"],[0.7777777777777778,\"#fb9f3a\"],[0.8888888888888888,\"#fdca26\"],[1.0,\"#f0f921\"]],\"type\":\"histogram2d\"}],\"histogram2dcontour\":[{\"colorbar\":{\"outlinewidth\":0,\"ticks\":\"\"},\"colorscale\":[[0.0,\"#0d0887\"],[0.1111111111111111,\"#46039f\"],[0.2222222222222222,\"#7201a8\"],[0.3333333333333333,\"#9c179e\"],[0.4444444444444444,\"#bd3786\"],[0.5555555555555556,\"#d8576b\"],[0.6666666666666666,\"#ed7953\"],[0.7777777777777778,\"#fb9f3a\"],[0.8888888888888888,\"#fdca26\"],[1.0,\"#f0f921\"]],\"type\":\"histogram2dcontour\"}],\"mesh3d\":[{\"colorbar\":{\"outlinewidth\":0,\"ticks\":\"\"},\"type\":\"mesh3d\"}],\"parcoords\":[{\"line\":{\"colorbar\":{\"outlinewidth\":0,\"ticks\":\"\"}},\"type\":\"parcoords\"}],\"pie\":[{\"automargin\":true,\"type\":\"pie\"}],\"scatter\":[{\"marker\":{\"colorbar\":{\"outlinewidth\":0,\"ticks\":\"\"}},\"type\":\"scatter\"}],\"scatter3d\":[{\"line\":{\"colorbar\":{\"outlinewidth\":0,\"ticks\":\"\"}},\"marker\":{\"colorbar\":{\"outlinewidth\":0,\"ticks\":\"\"}},\"type\":\"scatter3d\"}],\"scattercarpet\":[{\"marker\":{\"colorbar\":{\"outlinewidth\":0,\"ticks\":\"\"}},\"type\":\"scattercarpet\"}],\"scattergeo\":[{\"marker\":{\"colorbar\":{\"outlinewidth\":0,\"ticks\":\"\"}},\"type\":\"scattergeo\"}],\"scattergl\":[{\"marker\":{\"colorbar\":{\"outlinewidth\":0,\"ticks\":\"\"}},\"type\":\"scattergl\"}],\"scattermapbox\":[{\"marker\":{\"colorbar\":{\"outlinewidth\":0,\"ticks\":\"\"}},\"type\":\"scattermapbox\"}],\"scatterpolar\":[{\"marker\":{\"colorbar\":{\"outlinewidth\":0,\"ticks\":\"\"}},\"type\":\"scatterpolar\"}],\"scatterpolargl\":[{\"marker\":{\"colorbar\":{\"outlinewidth\":0,\"ticks\":\"\"}},\"type\":\"scatterpolargl\"}],\"scatterternary\":[{\"marker\":{\"colorbar\":{\"outlinewidth\":0,\"ticks\":\"\"}},\"type\":\"scatterternary\"}],\"surface\":[{\"colorbar\":{\"outlinewidth\":0,\"ticks\":\"\"},\"colorscale\":[[0.0,\"#0d0887\"],[0.1111111111111111,\"#46039f\"],[0.2222222222222222,\"#7201a8\"],[0.3333333333333333,\"#9c179e\"],[0.4444444444444444,\"#bd3786\"],[0.5555555555555556,\"#d8576b\"],[0.6666666666666666,\"#ed7953\"],[0.7777777777777778,\"#fb9f3a\"],[0.8888888888888888,\"#fdca26\"],[1.0,\"#f0f921\"]],\"type\":\"surface\"}],\"table\":[{\"cells\":{\"fill\":{\"color\":\"#EBF0F8\"},\"line\":{\"color\":\"white\"}},\"header\":{\"fill\":{\"color\":\"#C8D4E3\"},\"line\":{\"color\":\"white\"}},\"type\":\"table\"}]},\"layout\":{\"annotationdefaults\":{\"arrowcolor\":\"#2a3f5f\",\"arrowhead\":0,\"arrowwidth\":1},\"autotypenumbers\":\"strict\",\"coloraxis\":{\"colorbar\":{\"outlinewidth\":0,\"ticks\":\"\"}},\"colorscale\":{\"diverging\":[[0,\"#8e0152\"],[0.1,\"#c51b7d\"],[0.2,\"#de77ae\"],[0.3,\"#f1b6da\"],[0.4,\"#fde0ef\"],[0.5,\"#f7f7f7\"],[0.6,\"#e6f5d0\"],[0.7,\"#b8e186\"],[0.8,\"#7fbc41\"],[0.9,\"#4d9221\"],[1,\"#276419\"]],\"sequential\":[[0.0,\"#0d0887\"],[0.1111111111111111,\"#46039f\"],[0.2222222222222222,\"#7201a8\"],[0.3333333333333333,\"#9c179e\"],[0.4444444444444444,\"#bd3786\"],[0.5555555555555556,\"#d8576b\"],[0.6666666666666666,\"#ed7953\"],[0.7777777777777778,\"#fb9f3a\"],[0.8888888888888888,\"#fdca26\"],[1.0,\"#f0f921\"]],\"sequentialminus\":[[0.0,\"#0d0887\"],[0.1111111111111111,\"#46039f\"],[0.2222222222222222,\"#7201a8\"],[0.3333333333333333,\"#9c179e\"],[0.4444444444444444,\"#bd3786\"],[0.5555555555555556,\"#d8576b\"],[0.6666666666666666,\"#ed7953\"],[0.7777777777777778,\"#fb9f3a\"],[0.8888888888888888,\"#fdca26\"],[1.0,\"#f0f921\"]]},\"colorway\":[\"#636efa\",\"#EF553B\",\"#00cc96\",\"#ab63fa\",\"#FFA15A\",\"#19d3f3\",\"#FF6692\",\"#B6E880\",\"#FF97FF\",\"#FECB52\"],\"font\":{\"color\":\"#2a3f5f\"},\"geo\":{\"bgcolor\":\"white\",\"lakecolor\":\"white\",\"landcolor\":\"#E5ECF6\",\"showlakes\":true,\"showland\":true,\"subunitcolor\":\"white\"},\"hoverlabel\":{\"align\":\"left\"},\"hovermode\":\"closest\",\"mapbox\":{\"style\":\"light\"},\"paper_bgcolor\":\"white\",\"plot_bgcolor\":\"#E5ECF6\",\"polar\":{\"angularaxis\":{\"gridcolor\":\"white\",\"linecolor\":\"white\",\"ticks\":\"\"},\"bgcolor\":\"#E5ECF6\",\"radialaxis\":{\"gridcolor\":\"white\",\"linecolor\":\"white\",\"ticks\":\"\"}},\"scene\":{\"xaxis\":{\"backgroundcolor\":\"#E5ECF6\",\"gridcolor\":\"white\",\"gridwidth\":2,\"linecolor\":\"white\",\"showbackground\":true,\"ticks\":\"\",\"zerolinecolor\":\"white\"},\"yaxis\":{\"backgroundcolor\":\"#E5ECF6\",\"gridcolor\":\"white\",\"gridwidth\":2,\"linecolor\":\"white\",\"showbackground\":true,\"ticks\":\"\",\"zerolinecolor\":\"white\"},\"zaxis\":{\"backgroundcolor\":\"#E5ECF6\",\"gridcolor\":\"white\",\"gridwidth\":2,\"linecolor\":\"white\",\"showbackground\":true,\"ticks\":\"\",\"zerolinecolor\":\"white\"}},\"shapedefaults\":{\"line\":{\"color\":\"#2a3f5f\"}},\"ternary\":{\"aaxis\":{\"gridcolor\":\"white\",\"linecolor\":\"white\",\"ticks\":\"\"},\"baxis\":{\"gridcolor\":\"white\",\"linecolor\":\"white\",\"ticks\":\"\"},\"bgcolor\":\"#E5ECF6\",\"caxis\":{\"gridcolor\":\"white\",\"linecolor\":\"white\",\"ticks\":\"\"}},\"title\":{\"x\":0.05},\"xaxis\":{\"automargin\":true,\"gridcolor\":\"white\",\"linecolor\":\"white\",\"ticks\":\"\",\"title\":{\"standoff\":15},\"zerolinecolor\":\"white\",\"zerolinewidth\":2},\"yaxis\":{\"automargin\":true,\"gridcolor\":\"white\",\"linecolor\":\"white\",\"ticks\":\"\",\"title\":{\"standoff\":15},\"zerolinecolor\":\"white\",\"zerolinewidth\":2}}},\"scene\":{\"domain\":{\"x\":[0.0,1.0],\"y\":[0.0,1.0]},\"xaxis\":{\"title\":{\"text\":\"PC 1\"}},\"yaxis\":{\"title\":{\"text\":\"PC 2\"}},\"zaxis\":{\"title\":{\"text\":\"PC 3\"}}},\"coloraxis\":{\"colorbar\":{\"title\":{\"text\":\"Class\"}},\"colorscale\":[[0.0,\"#0d0887\"],[0.1111111111111111,\"#46039f\"],[0.2222222222222222,\"#7201a8\"],[0.3333333333333333,\"#9c179e\"],[0.4444444444444444,\"#bd3786\"],[0.5555555555555556,\"#d8576b\"],[0.6666666666666666,\"#ed7953\"],[0.7777777777777778,\"#fb9f3a\"],[0.8888888888888888,\"#fdca26\"],[1.0,\"#f0f921\"]]},\"legend\":{\"title\":{\"text\":\"Class\"},\"tracegroupgap\":0,\"x\":0,\"y\":1},\"margin\":{\"t\":60},\"width\":800},                        {\"responsive\": true}                    ).then(function(){\n",
       "                            \n",
       "var gd = document.getElementById('685241a6-9329-46a2-9ece-dd06d094c5bd');\n",
       "var x = new MutationObserver(function (mutations, observer) {{\n",
       "        var display = window.getComputedStyle(gd).display;\n",
       "        if (!display || display === 'none') {{\n",
       "            console.log([gd, 'removed!']);\n",
       "            Plotly.purge(gd);\n",
       "            observer.disconnect();\n",
       "        }}\n",
       "}});\n",
       "\n",
       "// Listen for the removal of the full notebook cells\n",
       "var notebookContainer = gd.closest('#notebook-container');\n",
       "if (notebookContainer) {{\n",
       "    x.observe(notebookContainer, {childList: true});\n",
       "}}\n",
       "\n",
       "// Listen for the clearing of the current output cell\n",
       "var outputEl = gd.closest('.output');\n",
       "if (outputEl) {{\n",
       "    x.observe(outputEl, {childList: true});\n",
       "}}\n",
       "\n",
       "                        })                };                });            </script>        </div>"
      ]
     },
     "metadata": {},
     "output_type": "display_data"
    }
   ],
   "source": [
    "# Creating a 3D-Scatter with the PCA data and the clusters\n",
    "fig = px.scatter_3d(\n",
    "    clustered_df,\n",
    "    x=\"PC 1\",\n",
    "    y=\"PC 2\",\n",
    "    z=\"PC 3\",\n",
    "    color=\"Class\",\n",
    "    symbol=\"Class\",\n",
    "    width=800,\n",
    "    hover_name=\"CoinName\",\n",
    "    hover_data=[\"Algorithm\"],\n",
    ")\n",
    "fig.update_layout(legend=dict(x=0, y=1))\n",
    "fig.show()\n"
   ]
  },
  {
   "cell_type": "code",
   "execution_count": 63,
   "metadata": {},
   "outputs": [
    {
     "data": {},
     "metadata": {},
     "output_type": "display_data"
    },
    {
     "data": {
      "application/vnd.holoviews_exec.v0+json": "",
      "text/html": [
       "<div id='1905'>\n",
       "\n",
       "\n",
       "\n",
       "\n",
       "\n",
       "  <div class=\"bk-root\" id=\"ebd0bea2-485c-492b-99ee-a8e9e07dd462\" data-root-id=\"1905\"></div>\n",
       "</div>\n",
       "<script type=\"application/javascript\">(function(root) {\n",
       "  function embed_document(root) {\n",
       "    var docs_json = {\"ccb43f8d-2147-4530-87df-399b56bfe521\":{\"defs\":[{\"extends\":null,\"module\":null,\"name\":\"ReactiveHTML1\",\"overrides\":[],\"properties\":[]},{\"extends\":null,\"module\":null,\"name\":\"FlexBox1\",\"overrides\":[],\"properties\":[{\"default\":\"flex-start\",\"kind\":null,\"name\":\"align_content\"},{\"default\":\"flex-start\",\"kind\":null,\"name\":\"align_items\"},{\"default\":\"row\",\"kind\":null,\"name\":\"flex_direction\"},{\"default\":\"wrap\",\"kind\":null,\"name\":\"flex_wrap\"},{\"default\":\"flex-start\",\"kind\":null,\"name\":\"justify_content\"}]},{\"extends\":null,\"module\":null,\"name\":\"GridStack1\",\"overrides\":[],\"properties\":[{\"default\":\"warn\",\"kind\":null,\"name\":\"mode\"},{\"default\":null,\"kind\":null,\"name\":\"ncols\"},{\"default\":null,\"kind\":null,\"name\":\"nrows\"},{\"default\":true,\"kind\":null,\"name\":\"allow_resize\"},{\"default\":true,\"kind\":null,\"name\":\"allow_drag\"},{\"default\":[],\"kind\":null,\"name\":\"state\"}]},{\"extends\":null,\"module\":null,\"name\":\"click1\",\"overrides\":[],\"properties\":[{\"default\":\"\",\"kind\":null,\"name\":\"terminal_output\"},{\"default\":\"\",\"kind\":null,\"name\":\"debug_name\"},{\"default\":0,\"kind\":null,\"name\":\"clears\"}]},{\"extends\":null,\"module\":null,\"name\":\"TemplateActions1\",\"overrides\":[],\"properties\":[{\"default\":0,\"kind\":null,\"name\":\"open_modal\"},{\"default\":0,\"kind\":null,\"name\":\"close_modal\"}]},{\"extends\":null,\"module\":null,\"name\":\"MaterialTemplateActions1\",\"overrides\":[],\"properties\":[{\"default\":0,\"kind\":null,\"name\":\"open_modal\"},{\"default\":0,\"kind\":null,\"name\":\"close_modal\"}]}],\"roots\":{\"references\":[{\"attributes\":{\"format\":\"0,0.0[00000]\"},\"id\":\"1929\",\"type\":\"NumberFormatter\"},{\"attributes\":{},\"id\":\"1925\",\"type\":\"StringEditor\"},{\"attributes\":{},\"id\":\"1920\",\"type\":\"NumberEditor\"},{\"attributes\":{\"children\":[{\"id\":\"1906\"},{\"id\":\"1954\"},{\"id\":\"1961\"}],\"margin\":[0,0,0,0],\"name\":\"Row03206\",\"tags\":[\"embedded\"]},\"id\":\"1905\",\"type\":\"Row\"},{\"attributes\":{\"editor\":{\"id\":\"1920\"},\"field\":\"TotalCoinsMined\",\"formatter\":{\"id\":\"1919\"},\"title\":\"TotalCoinsMined\"},\"id\":\"1921\",\"type\":\"TableColumn\"},{\"attributes\":{},\"id\":\"1935\",\"type\":\"NumberEditor\"},{\"attributes\":{},\"id\":\"1949\",\"type\":\"NumberFormatter\"},{\"attributes\":{},\"id\":\"1924\",\"type\":\"StringFormatter\"},{\"attributes\":{\"editor\":{\"id\":\"1930\"},\"field\":\"PC_1\",\"formatter\":{\"id\":\"1929\"},\"title\":\"PC 1\"},\"id\":\"1931\",\"type\":\"TableColumn\"},{\"attributes\":{\"editor\":{\"id\":\"1925\"},\"field\":\"TotalCoinSupply\",\"formatter\":{\"id\":\"1924\"},\"title\":\"TotalCoinSupply\"},\"id\":\"1926\",\"type\":\"TableColumn\"},{\"attributes\":{},\"id\":\"1930\",\"type\":\"NumberEditor\"},{\"attributes\":{\"editor\":{\"id\":\"1935\"},\"field\":\"PC_2\",\"formatter\":{\"id\":\"1934\"},\"title\":\"PC 2\"},\"id\":\"1936\",\"type\":\"TableColumn\"},{\"attributes\":{},\"id\":\"1940\",\"type\":\"NumberEditor\"},{\"attributes\":{\"format\":\"0,0.0[00000]\"},\"id\":\"1934\",\"type\":\"NumberFormatter\"},{\"attributes\":{\"editor\":{\"id\":\"1940\"},\"field\":\"PC_3\",\"formatter\":{\"id\":\"1939\"},\"title\":\"PC 3\"},\"id\":\"1941\",\"type\":\"TableColumn\"},{\"attributes\":{},\"id\":\"1945\",\"type\":\"StringEditor\"},{\"attributes\":{\"format\":\"0,0.0[00000]\"},\"id\":\"1939\",\"type\":\"NumberFormatter\"},{\"attributes\":{\"source\":{\"id\":\"1907\"}},\"id\":\"1956\",\"type\":\"CDSView\"},{\"attributes\":{},\"id\":\"1944\",\"type\":\"StringFormatter\"},{\"attributes\":{\"editor\":{\"id\":\"1945\"},\"field\":\"CoinName\",\"formatter\":{\"id\":\"1944\"},\"title\":\"CoinName\"},\"id\":\"1946\",\"type\":\"TableColumn\"},{\"attributes\":{},\"id\":\"1950\",\"type\":\"IntEditor\"},{\"attributes\":{\"editor\":{\"id\":\"1950\"},\"field\":\"Class\",\"formatter\":{\"id\":\"1949\"},\"title\":\"Class\"},\"id\":\"1951\",\"type\":\"TableColumn\"},{\"attributes\":{},\"id\":\"1957\",\"type\":\"UnionRenderers\"},{\"attributes\":{},\"id\":\"1910\",\"type\":\"StringEditor\"},{\"attributes\":{\"editor\":{\"id\":\"1910\"},\"field\":\"Algorithm\",\"formatter\":{\"id\":\"1909\"},\"title\":\"Algorithm\"},\"id\":\"1911\",\"type\":\"TableColumn\"},{\"attributes\":{\"margin\":[5,5,5,5],\"name\":\"HSpacer03210\",\"sizing_mode\":\"stretch_width\"},\"id\":\"1906\",\"type\":\"Spacer\"},{\"attributes\":{\"margin\":[5,5,5,5],\"name\":\"HSpacer03211\",\"sizing_mode\":\"stretch_width\"},\"id\":\"1961\",\"type\":\"Spacer\"},{\"attributes\":{},\"id\":\"1908\",\"type\":\"Selection\"},{\"attributes\":{\"format\":\"0,0.0[00000]\"},\"id\":\"1919\",\"type\":\"NumberFormatter\"},{\"attributes\":{\"data\":{\"Algorithm\":[\"Scrypt\",\"Scrypt\",\"X13\",\"SHA-256\",\"Ethash\",\"Scrypt\",\"X11\",\"CryptoNight-V7\",\"Ethash\",\"Equihash\",\"SHA-512\",\"Multiple\",\"SHA-256\",\"SHA-256\",\"Scrypt\",\"X15\",\"X11\",\"Scrypt\",\"Scrypt\",\"Scrypt\",\"Multiple\",\"Scrypt\",\"SHA-256\",\"Scrypt\",\"Scrypt\",\"Scrypt\",\"Quark\",\"Groestl\",\"Scrypt\",\"Scrypt\",\"Scrypt\",\"Scrypt\",\"Scrypt\",\"X11\",\"Scrypt\",\"Groestl\",\"Multiple\",\"SHA-256\",\"Scrypt\",\"Scrypt\",\"Scrypt\",\"Scrypt\",\"PoS\",\"Scrypt\",\"Scrypt\",\"NeoScrypt\",\"Scrypt\",\"Scrypt\",\"Scrypt\",\"Scrypt\",\"X11\",\"Scrypt\",\"X11\",\"SHA-256\",\"Scrypt\",\"Scrypt\",\"Scrypt\",\"SHA3\",\"Scrypt\",\"HybridScryptHash256\",\"Scrypt\",\"Scrypt\",\"SHA-256\",\"Scrypt\",\"X13\",\"Scrypt\",\"SHA-256\",\"Scrypt\",\"X13\",\"NeoScrypt\",\"Scrypt\",\"Scrypt\",\"Scrypt\",\"Scrypt\",\"Scrypt\",\"Scrypt\",\"X11\",\"X11\",\"SHA-256\",\"Multiple\",\"SHA-256\",\"PHI1612\",\"X11\",\"SHA-256\",\"SHA-256\",\"SHA-256\",\"X11\",\"Scrypt\",\"Scrypt\",\"Scrypt\",\"Scrypt\",\"Lyra2REv2\",\"Scrypt\",\"X11\",\"Multiple\",\"SHA-256\",\"X13\",\"Scrypt\",\"CryptoNight\",\"CryptoNight\",\"Shabal256\",\"Counterparty\",\"Scrypt\",\"SHA-256\",\"Groestl\",\"Scrypt\",\"Scrypt\",\"Scrypt\",\"X13\",\"Scrypt\",\"Scrypt\",\"Scrypt\",\"Scrypt\",\"X13\",\"Scrypt\",\"Stanford Folding\",\"X11\",\"Multiple\",\"QuBit\",\"Scrypt\",\"Scrypt\",\"Scrypt\",\"M7 POW\",\"Scrypt\",\"SHA-256\",\"Scrypt\",\"X11\",\"SHA3\",\"X11\",\"Lyra2RE\",\"SHA-256\",\"QUAIT\",\"X11\",\"X11\",\"Scrypt\",\"Scrypt\",\"Scrypt\",\"Ethash\",\"X13\",\"Blake2b\",\"SHA-256\",\"X15\",\"X11\",\"SHA-256\",\"BLAKE256\",\"Scrypt\",\"1GB AES Pattern Search\",\"SHA-256\",\"X11\",\"Scrypt\",\"SHA-256\",\"SHA-256\",\"NIST5\",\"Scrypt\",\"Scrypt\",\"X11\",\"Dagger\",\"Scrypt\",\"X11GOST\",\"X11\",\"Scrypt\",\"SHA-256\",\"Scrypt\",\"PoS\",\"Scrypt\",\"X11\",\"X11\",\"SHA-256\",\"SHA-256\",\"NIST5\",\"X11\",\"Scrypt\",\"POS 3.0\",\"Scrypt\",\"Scrypt\",\"Scrypt\",\"X13\",\"X11\",\"X11\",\"Equihash\",\"X11\",\"Scrypt\",\"CryptoNight\",\"SHA-256\",\"SHA-256\",\"X11\",\"Scrypt\",\"Multiple\",\"Scrypt\",\"Scrypt\",\"Scrypt\",\"SHA-256\",\"Scrypt\",\"Scrypt\",\"SHA-256D\",\"PoS\",\"Scrypt\",\"X11\",\"Lyra2Z\",\"PoS\",\"X13\",\"X14\",\"PoS\",\"SHA-256D\",\"Ethash\",\"Equihash\",\"DPoS\",\"X11\",\"Scrypt\",\"X11\",\"X13\",\"X11\",\"PoS\",\"Scrypt\",\"Scrypt\",\"X11\",\"PoS\",\"X11\",\"SHA-256\",\"Scrypt\",\"X11\",\"Scrypt\",\"Scrypt\",\"X11\",\"CryptoNight\",\"Scrypt\",\"Scrypt\",\"Scrypt\",\"Scrypt\",\"Quark\",\"QuBit\",\"Scrypt\",\"CryptoNight\",\"Lyra2RE\",\"Scrypt\",\"SHA-256\",\"X11\",\"Scrypt\",\"X11\",\"Scrypt\",\"CryptoNight-V7\",\"Scrypt\",\"Scrypt\",\"Scrypt\",\"X13\",\"X11\",\"Equihash\",\"Scrypt\",\"Scrypt\",\"Lyra2RE\",\"Scrypt\",\"Dagger-Hashimoto\",\"X11\",\"Blake2S\",\"X11\",\"Scrypt\",\"PoS\",\"X11\",\"NIST5\",\"PoS\",\"X11\",\"Scrypt\",\"Scrypt\",\"Scrypt\",\"SHA-256\",\"X11\",\"Scrypt\",\"Scrypt\",\"SHA-256\",\"PoS\",\"Scrypt\",\"X15\",\"SHA-256\",\"Scrypt\",\"POS 3.0\",\"CryptoNight-V7\",\"536\",\"Argon2d\",\"Blake2b\",\"Cloverhash\",\"CryptoNight\",\"NIST5\",\"X11\",\"NIST5\",\"Skein\",\"Scrypt\",\"X13\",\"Scrypt\",\"X11\",\"X11\",\"Scrypt\",\"CryptoNight\",\"X13\",\"Time Travel\",\"Scrypt\",\"Keccak\",\"SkunkHash v2 Raptor\",\"X11\",\"Skein\",\"SHA-256\",\"X11\",\"Scrypt\",\"VeChainThor Authority\",\"Scrypt\",\"PoS\",\"Scrypt\",\"Scrypt\",\"Scrypt\",\"Scrypt\",\"Scrypt\",\"Scrypt\",\"Scrypt\",\"CryptoNight\",\"SHA-512\",\"Ouroboros\",\"X11\",\"Equihash\",\"NeoScrypt\",\"X11\",\"Scrypt\",\"NeoScrypt\",\"Lyra2REv2\",\"Equihash\",\"Scrypt\",\"SHA-256\",\"NIST5\",\"PHI1612\",\"Dagger\",\"Scrypt\",\"Quark\",\"Scrypt\",\"POS 2.0\",\"Scrypt\",\"SHA-256\",\"X11\",\"NeoScrypt\",\"Ethash\",\"NeoScrypt\",\"X11\",\"DPoS\",\"NIST5\",\"X13\",\"Multiple\",\"Scrypt\",\"CryptoNight\",\"CryptoNight\",\"Ethash\",\"NIST5\",\"Quark\",\"X11\",\"CryptoNight-V7\",\"Scrypt\",\"Scrypt\",\"Scrypt\",\"X11\",\"BLAKE256\",\"X11\",\"NeoScrypt\",\"Quark\",\"NeoScrypt\",\"Scrypt\",\"Scrypt\",\"Scrypt\",\"X11\",\"X11\",\"SHA-256\",\"C11\",\"POS 3.0\",\"Ethash\",\"Scrypt\",\"CryptoNight\",\"SkunkHash\",\"Scrypt\",\"CryptoNight\",\"Scrypt\",\"Dagger\",\"Lyra2REv2\",\"X13\",\"Proof-of-BibleHash\",\"SHA-256 + Hive\",\"Scrypt\",\"Scrypt\",\"X11\",\"C11\",\"Proof-of-Authority\",\"X11\",\"XEVAN\",\"Scrypt\",\"VBFT\",\"Ethash\",\"CryptoNight\",\"Scrypt\",\"IMesh\",\"NIST5\",\"Scrypt\",\"Scrypt\",\"Equihash\",\"Scrypt\",\"Lyra2Z\",\"Green Protocol\",\"PoS\",\"Scrypt\",\"Semux BFT consensus\",\"X11\",\"Quark\",\"PoS\",\"CryptoNight\",\"X16R\",\"Scrypt\",\"NIST5\",\"Lyra2RE\",\"XEVAN\",\"Tribus\",\"Scrypt\",\"Lyra2Z\",\"CryptoNight\",\"CryptoNight Heavy\",\"CryptoNight\",\"Scrypt\",\"Scrypt\",\"Jump Consistent Hash\",\"SHA-256D\",\"CryptoNight\",\"Scrypt\",\"X15\",\"Scrypt\",\"Quark\",\"SHA-256\",\"DPoS\",\"X16R\",\"HMQ1725\",\"X11\",\"X16R\",\"Quark\",\"Quark\",\"Scrypt\",\"Lyra2REv2\",\"Quark\",\"Scrypt\",\"Scrypt\",\"CryptoNight-V7\",\"Cryptonight-GPU\",\"XEVAN\",\"CryptoNight Heavy\",\"X11\",\"X11\",\"Scrypt\",\"PoS\",\"SHA-256\",\"Keccak\",\"X11\",\"X11\",\"Scrypt\",\"SHA-512\",\"X16R\",\"ECC 256K1\",\"Equihash\",\"XEVAN\",\"Lyra2Z\",\"SHA-256\",\"XEVAN\",\"X11\",\"CryptoNight\",\"Quark\",\"Blake\",\"Blake\",\"Equihash\",\"Exosis\",\"Scrypt\",\"Scrypt\",\"Equihash\",\"Quark\",\"Equihash\",\"Quark\",\"Scrypt\",\"QuBit\",\"X11\",\"Scrypt\",\"XEVAN\",\"SHA-256D\",\"X11\",\"SHA-256\",\"X13\",\"SHA-256\",\"X11\",\"DPoS\",\"Scrypt\",\"Scrypt\",\"X11\",\"NeoScrypt\",\"Scrypt\",\"Blake\",\"Scrypt\",\"SHA-256\",\"Scrypt\",\"X11\",\"Scrypt\",\"Scrypt\",\"SHA-256\",\"X11\",\"SHA-256\",\"Scrypt\",\"Scrypt\",\"Scrypt\",\"Groestl\",\"X11\",\"Scrypt\",\"PoS\",\"Scrypt\",\"Scrypt\",\"X11\",\"SHA-256\",\"DPoS\",\"Scrypt\",\"Scrypt\",\"NeoScrypt\",\"Multiple\",\"X13\",\"Equihash+Scrypt\",\"DPoS\",\"Ethash\",\"DPoS\",\"SHA-256\",\"Leased POS\",\"PoS\",\"TRC10\",\"PoS\",\"SHA-256\",\"Scrypt\",\"CryptoNight\",\"Equihash\",\"Scrypt\"],\"Class\":{\"__ndarray__\":\"AAAAAAAAAAAAAAAAAwAAAAMAAAADAAAAAAAAAAMAAAADAAAAAwAAAAAAAAADAAAAAAAAAAAAAAADAAAAAAAAAAMAAAADAAAAAAAAAAAAAAADAAAAAwAAAAMAAAADAAAAAwAAAAAAAAADAAAAAwAAAAMAAAAAAAAAAwAAAAAAAAADAAAAAwAAAAAAAAAAAAAAAwAAAAMAAAADAAAAAwAAAAMAAAADAAAAAAAAAAAAAAADAAAAAwAAAAMAAAADAAAAAwAAAAAAAAAAAAAAAwAAAAAAAAADAAAAAwAAAAMAAAADAAAAAAAAAAMAAAADAAAAAAAAAAMAAAAAAAAAAAAAAAAAAAADAAAAAwAAAAMAAAAAAAAAAAAAAAAAAAAAAAAAAAAAAAMAAAADAAAAAwAAAAAAAAAAAAAAAwAAAAAAAAADAAAAAAAAAAAAAAADAAAAAwAAAAMAAAADAAAAAAAAAAAAAAADAAAAAAAAAAMAAAADAAAAAAAAAAAAAAADAAAAAAAAAAAAAAADAAAAAwAAAAAAAAAAAAAAAwAAAAAAAAAAAAAAAwAAAAAAAAADAAAAAAAAAAMAAAAAAAAAAwAAAAAAAAAAAAAAAwAAAAMAAAAAAAAAAwAAAAMAAAADAAAAAAAAAAMAAAADAAAAAwAAAAMAAAADAAAAAAAAAAAAAAADAAAAAwAAAAMAAAAAAAAAAwAAAAAAAAADAAAAAwAAAAAAAAADAAAAAAAAAAMAAAAAAAAAAAAAAAMAAAADAAAAAAAAAAMAAAADAAAAAAAAAAAAAAADAAAAAAAAAAMAAAAAAAAAAAAAAAAAAAADAAAAAwAAAAMAAAADAAAAAAAAAAAAAAAAAAAAAAAAAAAAAAADAAAAAwAAAAAAAAAAAAAAAAAAAAAAAAAAAAAAAwAAAAAAAAAAAAAAAAAAAAAAAAAAAAAAAwAAAAAAAAADAAAAAAAAAAAAAAADAAAAAAAAAAMAAAAAAAAAAAAAAAMAAAAAAAAAAwAAAAAAAAADAAAAAAAAAAMAAAAAAAAAAAAAAAAAAAAAAAAAAwAAAAAAAAAAAAAAAAAAAAAAAAAAAAAAAwAAAAMAAAAAAAAAAAAAAAMAAAADAAAAAAAAAAAAAAAAAAAAAAAAAAAAAAADAAAAAAAAAAAAAAAAAAAAAAAAAAAAAAAAAAAAAAAAAAAAAAADAAAAAAAAAAAAAAAAAAAAAAAAAAAAAAAAAAAAAwAAAAMAAAADAAAAAAAAAAAAAAAAAAAAAAAAAAMAAAAAAAAAAwAAAAAAAAAAAAAAAwAAAAAAAAADAAAAAwAAAAAAAAADAAAAAwAAAAAAAAADAAAAAAAAAAAAAAAAAAAAAwAAAAAAAAAAAAAAAwAAAAAAAAAAAAAAAAAAAAAAAAAAAAAAAAAAAAAAAAADAAAAAAAAAAMAAAAAAAAAAAAAAAAAAAAAAAAAAwAAAAAAAAADAAAAAAAAAAMAAAADAAAAAwAAAAMAAAAAAAAAAwAAAAAAAAAAAAAAAwAAAAAAAAADAAAAAwAAAAMAAAAAAAAAAwAAAAAAAAADAAAAAwAAAAMAAAAAAAAAAwAAAAAAAAADAAAAAAAAAAAAAAAAAAAAAwAAAAAAAAADAAAAAwAAAAMAAAADAAAAAwAAAAAAAAAAAAAAAwAAAAAAAAAAAAAAAAAAAAMAAAAAAAAAAwAAAAAAAAADAAAAAAAAAAMAAAAAAAAAAAAAAAAAAAAAAAAAAwAAAAAAAAAAAAAAAwAAAAAAAAAAAAAAAAAAAAMAAAADAAAAAwAAAAMAAAAAAAAAAAAAAAAAAAAAAAAAAwAAAAAAAAADAAAAAwAAAAMAAAAAAAAAAAAAAAMAAAADAAAAAAAAAAAAAAADAAAAAAAAAAMAAAADAAAAAwAAAAAAAAADAAAAAwAAAAAAAAAAAAAAAAAAAAMAAAADAAAAAwAAAAAAAAAAAAAAAAAAAAMAAAADAAAAAAAAAAMAAAADAAAAAwAAAAMAAAAAAAAAAAAAAAAAAAADAAAAAwAAAAMAAAAAAAAAAQAAAAAAAAAAAAAAAAAAAAAAAAADAAAAAwAAAAMAAAADAAAAAAAAAAAAAAAAAAAAAwAAAAAAAAADAAAAAAAAAAAAAAAAAAAAAAAAAAMAAAAAAAAAAAAAAAMAAAAAAAAAAAAAAAMAAAADAAAAAAAAAAMAAAAAAAAAAwAAAAMAAAADAAAAAwAAAAAAAAAAAAAAAwAAAAAAAAADAAAAAAAAAAAAAAAAAAAAAAAAAAAAAAAAAAAAAwAAAAMAAAADAAAAAAAAAAAAAAAAAAAAAAAAAAAAAAAAAAAAAwAAAAAAAAADAAAAAwAAAAMAAAADAAAAAAAAAAAAAAAAAAAAAAAAAAMAAAAAAAAAAAAAAAMAAAAAAAAAAAAAAAMAAAAAAAAAAwAAAAAAAAADAAAAAwAAAAAAAAAAAAAAAwAAAAAAAAADAAAAAwAAAAMAAAADAAAAAwAAAAAAAAADAAAAAAAAAAMAAAAAAAAAAAAAAAMAAAAAAAAAAAAAAAAAAAAAAAAAAAAAAAMAAAADAAAAAwAAAAAAAAAAAAAAAAAAAAMAAAAAAAAAAwAAAAAAAAADAAAAAAAAAAAAAAAAAAAAAAAAAAMAAAAAAAAAAAAAAAAAAAADAAAAAAAAAAMAAAAAAAAAAwAAAAAAAAAAAAAAAAAAAAMAAAADAAAAAAAAAAAAAAAAAAAAAAAAAAAAAAAAAAAAAwAAAAAAAAADAAAAAAAAAAMAAAAAAAAAAAAAAAAAAAAAAAAAAgAAAAAAAAAAAAAAAAAAAAMAAAADAAAAAAAAAA==\",\"dtype\":\"int32\",\"order\":\"little\",\"shape\":[532]},\"CoinName\":[\"42 Coin\",\"404Coin\",\"EliteCoin\",\"Bitcoin\",\"Ethereum\",\"Litecoin\",\"Dash\",\"Monero\",\"Ethereum Classic\",\"ZCash\",\"Bitshares\",\"DigiByte\",\"BitcoinDark\",\"PayCoin\",\"ProsperCoin\",\"KoboCoin\",\"Spreadcoin\",\"Argentum\",\"Aurora Coin\",\"BlueCoin\",\"MyriadCoin\",\"MoonCoin\",\"ZetaCoin\",\"SexCoin\",\"Quatloo\",\"EnergyCoin\",\"QuarkCoin\",\"Riecoin\",\"Digitalcoin \",\"BitBar\",\"Catcoin\",\"CryptoBullion\",\"CannaCoin\",\"CryptCoin\",\"CasinoCoin\",\"Diamond\",\"Verge\",\"DevCoin\",\"EarthCoin\",\"E-Gulden\",\"Einsteinium\",\"Emerald\",\"Exclusive Coin\",\"FlutterCoin\",\"Franko\",\"FeatherCoin\",\"GrandCoin\",\"GlobalCoin\",\"GoldCoin\",\"HoboNickels\",\"HyperStake\",\"Infinite Coin\",\"IOCoin\",\"IXcoin\",\"KrugerCoin\",\"LuckyCoin\",\"Litebar \",\"MaxCoin\",\"MegaCoin\",\"MediterraneanCoin\",\"MintCoin\",\"MinCoin\",\"MazaCoin\",\"Nautilus Coin\",\"NavCoin\",\"NobleCoin\",\"Namecoin\",\"NyanCoin\",\"OpalCoin\",\"Orbitcoin\",\"PotCoin\",\"PhoenixCoin\",\"Reddcoin\",\"RonPaulCoin\",\"StableCoin\",\"SmartCoin\",\"SuperCoin\",\"SyncCoin\",\"SysCoin\",\"TeslaCoin\",\"TigerCoin\",\"TittieCoin\",\"TorCoin\",\"TerraCoin\",\"UnbreakableCoin\",\"Unobtanium\",\"UroCoin\",\"UnitaryStatus Dollar\",\"UltraCoin\",\"ViaCoin\",\"VeriCoin\",\"Vertcoin\",\"WorldCoin\",\"X11 Coin\",\"Crypti\",\"JouleCoin\",\"StealthCoin\",\"ZCC Coin\",\"ByteCoin\",\"DigitalNote \",\"BurstCoin\",\"StorjCoin\",\"MonaCoin\",\"Neutron\",\"FairCoin\",\"Gulden\",\"RubyCoin\",\"PesetaCoin\",\"Kore\",\"Wild Beast Coin\",\"Dnotes\",\"Flo\",\"8BIT Coin\",\"Sativa Coin\",\"ArtByte\",\"Folding Coin\",\"Ucoin\",\"Unitus\",\"CypherPunkCoin\",\"OmniCron\",\"Vtorrent\",\"GreenCoin\",\"Cryptonite\",\"MasterCoin\",\"SoonCoin\",\"1Credit\",\"IslaCoin\",\"Nexus\",\"MarsCoin \",\"Crypto\",\"Anarchists Prime\",\"Droidz\",\"BowsCoin\",\"Squall Coin\",\"Song Coin\",\"BitZeny\",\"Diggits\",\"Expanse\",\"Paycon\",\"Siacoin\",\"Emercoin\",\"EverGreenCoin\",\"MindCoin\",\"I0coin\",\"Decred\",\"Revolution VR\",\"HOdlcoin\",\"EDRCoin\",\"Hitcoin\",\"Gamecredits\",\"DubaiCoin\",\"CarpeDiemCoin\",\"PWR Coin\",\"BillaryCoin\",\"GPU Coin\",\"Adzcoin\",\"SoilCoin\",\"YoCoin\",\"SibCoin\",\"EuropeCoin\",\"ZeitCoin\",\"SwingCoin\",\"SafeExchangeCoin\",\"Nebuchadnezzar\",\"Francs\",\"BolivarCoin\",\"Ratecoin\",\"Revenu\",\"Clockcoin\",\"VIP Tokens\",\"BitSend\",\"Omni\",\"Let it Ride\",\"PutinCoin\",\"iBankCoin\",\"Frankywillcoin\",\"MudraCoin\",\"PizzaCoin\",\"Lutetium Coin\",\"Komodo\",\"GoldBlocks\",\"CarterCoin\",\"Karbo\",\"BitTokens\",\"ZayedCoin\",\"MustangCoin\",\"ZoneCoin\",\"Circuits of Value\",\"RootCoin\",\"DopeCoin\",\"BitCurrency\",\"DollarCoin\",\"Swiscoin\",\"Shilling\",\"BuzzCoin\",\"Opair\",\"PesoBit\",\"Halloween Coin\",\"ZCoin\",\"CoffeeCoin\",\"RoyalCoin\",\"GanjaCoin V2\",\"TeamUP\",\"LanaCoin\",\"Elementrem\",\"ZClassic\",\"ARK\",\"InsaneCoin\",\"KiloCoin\",\"ArtexCoin\",\"EmberCoin\",\"XenixCoin\",\"FreeCoin\",\"PLNCoin\",\"AquariusCoin\",\"Kurrent\",\"Creatio\",\"Eternity\",\"Eurocoin\",\"BitcoinFast\",\"Stakenet\",\"BitConnect Coin\",\"MoneyCoin\",\"Enigma\",\"Cannabis Industry Coin\",\"Russiacoin\",\"PandaCoin\",\"GameUnits\",\"GAKHcoin\",\"Allsafe\",\"LiteCreed\",\"OsmiumCoin\",\"Bikercoins\",\"HexxCoin\",\"Klingon Empire Darsek\",\"Internet of People\",\"KushCoin\",\"Printerium\",\"PacCoin\",\"Impeach\",\"Citadel\",\"Zilbercoin\",\"FirstCoin\",\"BeaverCoin\",\"FindCoin\",\"VaultCoin\",\"Zero\",\"OpenChat\",\"Canada eCoin\",\"Zoin\",\"RenosCoin\",\"DubaiCoin\",\"VirtacoinPlus\",\"TajCoin\",\"Impact\",\"EB3coin\",\"Atmos\",\"HappyCoin\",\"Coinonat\",\"MacronCoin\",\"Condensate\",\"Independent Money System\",\"ArgusCoin\",\"LomoCoin\",\"ProCurrency\",\"GoldReserve\",\"BenjiRolls\",\"GrowthCoin\",\"ILCoin\",\"Phreak\",\"Degas Coin\",\"HTML5 Coin\",\"Ultimate Secure Cash\",\"EquiTrader\",\"QTUM\",\"Quantum Resistant Ledger\",\"Espers\",\"Dynamic\",\"Nano\",\"ChanCoin\",\"Dinastycoin\",\"Denarius\",\"DigitalPrice\",\"Virta Unique Coin\",\"Bitcoin Planet\",\"Unify\",\"BritCoin\",\"SocialCoin\",\"ArcticCoin\",\"DAS\",\"Linda\",\"LeviarCoin\",\"DeepOnion\",\"Bitcore\",\"gCn Coin\",\"SmartCash\",\"Signatum\",\"Onix\",\"Cream\",\"Bitcoin Cash\",\"Monoeci\",\"Draftcoin\",\"Vechain\",\"Sojourn Coin\",\"Stakecoin\",\"NewYorkCoin\",\"FrazCoin\",\"Kronecoin\",\"AdCoin\",\"Linx\",\"CoinonatX\",\"Ethereum Dark\",\"Sumokoin\",\"Obsidian\",\"Cardano\",\"Regalcoin\",\"BitcoinZ\",\"TrezarCoin\",\"Elements\",\"TerraNovaCoin\",\"VIVO Coin\",\"Rupee\",\"Bitcoin Gold\",\"WomenCoin\",\"Theresa May Coin\",\"NamoCoin\",\"LUXCoin\",\"Pirl\",\"Xios\",\"Bitcloud 2.0\",\"eBoost\",\"KekCoin\",\"BlackholeCoin\",\"Infinity Economics\",\"Pura\",\"Innova\",\"Ellaism\",\"GoByte\",\"Magnet\",\"Lamden Tau\",\"Electra\",\"Bitcoin Diamond\",\"SHIELD\",\"Cash & Back Coin\",\"UltraNote\",\"BitCoal\",\"DaxxCoin\",\"Bulwark\",\"Kalkulus\",\"AC3\",\"Lethean\",\"GermanCoin\",\"LiteCoin Ultra\",\"PopularCoin\",\"PhantomX\",\"Photon\",\"Sucre\",\"SparksPay\",\"Digiwage\",\"GunCoin\",\"IrishCoin\",\"Trollcoin\",\"Litecoin Plus\",\"Monkey Project\",\"Pioneer Coin\",\"UnitedBitcoin\",\"Interzone\",\"TokenPay\",\"1717 Masonic Commemorative Token\",\"My Big Coin\",\"TurtleCoin\",\"MUNcoin\",\"Unified Society USDEX\",\"Niobio Cash\",\"ShareChain\",\"Travelflex\",\"KREDS\",\"Tokyo Coin\",\"BiblePay\",\"LitecoinCash\",\"BitFlip\",\"LottoCoin\",\"Crypto Improvement Fund\",\"Stipend\",\"Poa Network\",\"Pushi\",\"Ellerium\",\"Velox\",\"Ontology\",\"Callisto Network\",\"BitTube\",\"Poseidon\",\"Aidos Kuneen\",\"Bitspace\",\"Briacoin\",\"Ignition\",\"Bitrolium\",\"MedicCoin\",\"Alpenschillling\",\"Bitcoin Green\",\"Deviant Coin\",\"Abjcoin\",\"Semux\",\"FuturoCoin\",\"Carebit\",\"Zealium\",\"Monero Classic\",\"Proton\",\"iDealCash\",\"Jumpcoin\",\"Infinex\",\"Bitcoin Incognito\",\"KEYCO\",\"HollyWoodCoin\",\"GINcoin\",\"PlatinCoin\",\"Loki\",\"Newton Coin\",\"Swisscoin\",\"Xt3ch\",\"MassGrid\",\"TheVig\",\"PluraCoin\",\"EmaratCoin\",\"Dekado\",\"Lynx\",\"Poseidon Quark\",\"BitcoinWSpectrum\",\"Muse\",\"Motion\",\"PlusOneCoin\",\"Axe\",\"Trivechain\",\"Dystem\",\"Giant\",\"Peony Coin\",\"Absolute Coin\",\"Vitae\",\"HexCoin\",\"TPCash\",\"Webchain\",\"Ryo\",\"Urals Coin\",\"Qwertycoin\",\"ARENON\",\"EUNO\",\"MMOCoin\",\"Ketan\",\"Project Pai\",\"XDNA\",\"PAXEX\",\"Azart\",\"ThunderStake\",\"Kcash\",\"Xchange\",\"Acute Angle Cloud\",\"CrypticCoin\",\"Bettex coin\",\"Actinium\",\"Bitcoin SV\",\"BitMoney\",\"Junson Ming Chan Coin\",\"FREDEnergy\",\"HerbCoin\",\"Universal Molecule\",\"Lithium\",\"PirateCash\",\"Exosis\",\"Block-Logic\",\"Oduwa\",\"Beam\",\"Galilel\",\"Bithereum\",\"Crypto Sports\",\"Credit\",\"SLICE\",\"Dash Platinum\",\"Nasdacoin\",\"Beetle Coin\",\"Titan Coin\",\"Award\",\"BLAST\",\"Bitcoin Rhodium\",\"GlobalToken\",\"Insane Coin\",\"ALAX\",\"LiteDoge\",\"SolarCoin\",\"TruckCoin\",\"UFO Coin\",\"OrangeCoin\",\"BlakeCoin\",\"BitstarCoin\",\"NeosCoin\",\"HyperCoin\",\"PinkCoin\",\"Crypto Escudo\",\"AudioCoin\",\"IncaKoin\",\"Piggy Coin\",\"Crown Coin\",\"Genstake\",\"SmileyCoin\",\"XiaoMiCoin\",\"Groestlcoin\",\"CapriCoin\",\" ClubCoin\",\"Radium\",\"Bata\",\"Pakcoin\",\"Creditbit \",\"OKCash\",\"Lisk\",\"HiCoin\",\"WhiteCoin\",\"FriendshipCoin\",\"JoinCoin\",\"Triangles Coin\",\"Vollar\",\"EOS\",\"Reality Clash\",\"Oxycoin\",\"TigerCash\",\"Waves\",\"Particl\",\"BitTorrent\",\"Nxt\",\"ZEPHYR\",\"Gapcoin\",\"Beldex\",\"Horizen\",\"BitcoinPlus\"],\"PC_1\":{\"__ndarray__\":\"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\",\"dtype\":\"float64\",\"order\":\"little\",\"shape\":[532]},\"PC_2\":{\"__ndarray__\":\"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\",\"dtype\":\"float64\",\"order\":\"little\",\"shape\":[532]},\"PC_3\":{\"__ndarray__\":\"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\",\"dtype\":\"float64\",\"order\":\"little\",\"shape\":[532]},\"ProofType\":[\"PoW/PoS\",\"PoW/PoS\",\"PoW/PoS\",\"PoW\",\"PoW\",\"PoW\",\"PoW/PoS\",\"PoW\",\"PoW\",\"PoW\",\"PoS\",\"PoW\",\"PoW/PoS\",\"PoS\",\"PoW\",\"PoW/PoS\",\"PoW\",\"PoW\",\"PoW/PoS\",\"PoW/PoS\",\"PoW\",\"PoW\",\"PoW\",\"PoW\",\"PoW\",\"PoW/PoS\",\"PoW\",\"PoW\",\"PoW\",\"PoW/PoS\",\"PoW\",\"PoW/PoS\",\"PoW\",\"PoW\",\"PoC\",\"PoW/PoS\",\"PoW\",\"PoW\",\"PoW\",\"PoW\",\"PoW\",\"PoW\",\"PoS\",\"PoS/PoW/PoT\",\"PoW\",\"PoW\",\"PoW\",\"PoW\",\"PoW\",\"PoW/PoS\",\"PoS\",\"PoW\",\"PoW/PoS\",\"PoW\",\"PoW\",\"PoW\",\"PoW\",\"PoW/PoS\",\"PoW\",\"PoW\",\"PoS\",\"PoW\",\"PoW/PoS\",\"PoS\",\"PoW/PoS\",\"PoW\",\"PoW\",\"PoW\",\"PoW/PoS\",\"PoW/PoS\",\"PoW/PoS\",\"PoW/PoS\",\"PoW/PoS\",\"PoW\",\"PoW\",\"PoW\",\"PoS\",\"PoW/PoS\",\"PoW\",\"PoS\",\"PoW\",\"PoS\",\"PoW/PoS\",\"PoW\",\"PoW\",\"PoW\",\"PoW\",\"PoW/PoS\",\"PoW/PoS\",\"PoW\",\"PoST\",\"PoW\",\"PoW\",\"PoW/PoS\",\"PoS\",\"PoW\",\"PoW/PoS\",\"PoW/PoS\",\"PoW\",\"PoW\",\"PoC\",\"PoS\",\"PoW\",\"PoW/PoS\",\"PoW/PoS\",\"PoW\",\"PoS\",\"PoW\",\"PoW/PoS\",\"PoW\",\"PoS\",\"PoW\",\"PoW/PoS\",\"PoW/PoS\",\"PoW\",\"PoW\",\"PoS\",\"PoW\",\"PoW\",\"PoW\",\"PoW/PoS\",\"PoW\",\"PoW\",\"PoW\",\"PoW\",\"PoW\",\"PoW/PoS\",\"PoW/nPoS\",\"PoW\",\"PoW\",\"PoW\",\"PoW/PoS\",\"PoW\",\"PoS/PoW\",\"PoW\",\"PoW\",\"PoS\",\"PoW\",\"PoW/PoS\",\"PoW\",\"PoW/PoS\",\"PoW/PoS\",\"PoW\",\"PoW\",\"PoW/PoS\",\"PoW\",\"PoW\",\"PoW/PoS\",\"PoW/PoS\",\"PoW\",\"PoW/PoS\",\"PoW\",\"PoW/PoS\",\"PoW/PoS\",\"PoS\",\"PoW\",\"PoW\",\"PoW\",\"PoW\",\"PoW/PoS\",\"PoS\",\"PoW/PoS\",\"PoC\",\"PoS\",\"PoW\",\"PoW\",\"PoW/PoS\",\"PoW/PoS\",\"PoW/PoS\",\"PoW/PoS\",\"PoW/PoS\",\"PoW\",\"PoS\",\"PoW/PoS\",\"PoW/PoS\",\"PoW/PoS\",\"PoS\",\"PoW\",\"PoS\",\"dPoW/PoW\",\"PoW/PoS\",\"PoW/PoS\",\"PoW\",\"PoW/PoS\",\"PoW\",\"PoW/PoS\",\"PoW/PoS\",\"PoW\",\"PoW/PoS\",\"PoW\",\"PoS\",\"PoW\",\"PoW/PoW\",\"PoW\",\"PoW/PoS\",\"PoS\",\"PoW/PoS\",\"PoW/PoS\",\"PoW\",\"PoS\",\"PoS\",\"PoW/PoS\",\"PoS\",\"PoW/PoS\",\"PoW\",\"PoW\",\"DPoS\",\"PoW/PoS\",\"PoW\",\"PoW\",\"PoW/PoS\",\"PoW/PoS\",\"PoS\",\"PoW/PoS\",\"PoW/PoS\",\"PoW\",\"PoS\",\"PoW/PoS\",\"PoW/PoS\",\"PoW/PoS\",\"TPoS\",\"PoW/PoS\",\"PoW/PoS\",\"PoW/PoS\",\"PoW\",\"PoW/PoS\",\"PoS\",\"PoW/PoS\",\"PoW/PoS\",\"PoS\",\"PoW/PoS\",\"PoW\",\"PoW\",\"PoW\",\"PoW/PoS\",\"PoW/PoS\",\"PoW/PoS\",\"PoW/PoS\",\"PoW\",\"PoW/PoS\",\"PoW\",\"PoS\",\"PoW/PoS \",\"PoW\",\"PoS\",\"PoW\",\"PoW\",\"PoW/PoS\",\"PoW\",\"PoW\",\"PoS\",\"PoW\",\"PoW/PoS\",\"PoW/PoS\",\"PoW/PoS\",\"PoW\",\"PoS\",\"PoW/PoS\",\"PoW\",\"PoS\",\"PoW/PoS\",\"PoW/PoS\",\"PoW/PoS\",\"PoW/PoS\",\"PoS\",\"PoW/PoS\",\"PoW\",\"PoS\",\"PoW\",\"PoS\",\"PoW/PoS\",\"PoW/PoS\",\"PoS\",\"PoW\",\"PoS\",\"PoW\",\"PoW/PoS\",\"PoW\",\"PoW\",\"PoW\",\"PoW\",\"PoW/PoS\",\"PoW\",\"PoW/PoS\",\"PoW/PoS\",\"PoW\",\"PoW/PoS\",\"PoW\",\"PoW\",\"PoW\",\"PoW/PoS\",\"PoW\",\"PoW/PoS\",\"PoW\",\"PoW\",\"PoW\",\"PoS\",\"PoW\",\"PoW/PoS\",\"PoW\",\"PoW/PoS\",\"PoS\",\"Proof of Authority\",\"PoW\",\"PoS\",\"PoW\",\"PoW\",\"PoW\",\"PoW\",\"PoW\",\"PoW/PoS\",\"PoW/PoS\",\"PoW\",\"PoS\",\"PoS\",\"PoW/PoS\",\"PoW\",\"PoW/PoS\",\"PoW\",\"PoW/PoS\",\"PoW\",\"PoS\",\"PoW\",\"PoW/PoS\",\"PoW/PoS\",\"PoW/PoS\",\"PoW/PoS\",\"PoW\",\"PoW/PoS\",\"PoW/PoS\",\"PoW\",\"PoS\",\"PoW/PoS\",\"PoS\",\"PoW\",\"PoW\",\"PoW\",\"PoW\",\"PoW/PoS\",\"DPoS\",\"PoW/PoS\",\"PoW/PoS\",\"PoW\",\"PoW/PoS\",\"PoW\",\"PoW\",\"PoW\",\"PoS\",\"PoS\",\"PoW\",\"PoW\",\"PoW/PoS\",\"PoW/PoS\",\"PoW\",\"PoW/PoS\",\"PoW\",\"PoW\",\"PoW\",\"PoS\",\"PoW\",\"PoW\",\"PoW/PoS\",\"PoW/PoS\",\"PoS\",\"PoW\",\"PoW\",\"PoW\",\"PoS\",\"PoS\",\"PoW and PoS\",\"PoW\",\"PoW\",\"PoW/PoS\",\"PoW\",\"PoW\",\"PoW\",\"PoW\",\"PoS\",\"POBh\",\"PoW + Hive\",\"PoW\",\"PoW\",\"PoW\",\"PoW/PoS\",\"PoA\",\"PoW/PoS\",\"PoW/PoS\",\"PoS\",\"PoS\",\"PoW\",\"PoW\",\"PoW\",\"PoW\",\"PoW/PoS\",\"PoW/PoS\",\"PoW/PoS\",\"PoW\",\"PoS\",\"PoW\",\"PoS\",\"PoS\",\"PoW/PoS\",\"DPoS\",\"PoW\",\"PoW/PoS\",\"PoS\",\"PoW\",\"PoS\",\"PoW/PoS\",\"PoW\",\"PoW\",\"PoS/PoW\",\"PoW\",\"PoS\",\"PoW\",\"PoW\",\"PoW\",\"PoW\",\"PoW/PoS\",\"PoS\",\"PoW\",\"PoW/PoS\",\"PoW\",\"PoW/PoS\",\"PoS\",\"HPoW\",\"PoS\",\"PoS\",\"PoS\",\"PoW\",\"PoW\",\"PoW\",\"PoW/PoS\",\"PoS\",\"PoW/PoS\",\"PoS\",\"PoW/PoS\",\"PoS\",\"PoW\",\"PoW/PoS\",\"PoW\",\"PoW\",\"PoW\",\"PoW\",\"PoS\",\"PoW/PoS\",\"PoS\",\"PoS\",\"PoW\",\"PoW/PoS\",\"PoS\",\"PoW\",\"PoW/PoS\",\"Zero-Knowledge Proof\",\"PoW\",\"DPOS\",\"PoW\",\"PoS\",\"PoW\",\"PoW\",\"Pos\",\"PoS\",\"PoW\",\"PoW/PoS\",\"PoW\",\"PoW\",\"PoS\",\"PoW\",\"PoW\",\"PoW/PoS\",\"PoW\",\"PoW/PoS\",\"PoW\",\"PoS\",\"PoW/PoS\",\"PoW\",\"PoS\",\"PoW/PoS\",\"PoW/PoS\",\"PoW/PoS\",\"PoW/PoS\",\"PoW\",\"PoW\",\"PoW\",\"PoW/PoS\",\"DPoS\",\"PoW/PoS\",\"PoW\",\"PoW/PoS\",\"PoW\",\"PoW/PoS\",\"PoW\",\"PoW/PoS\",\"PoS\",\"PoW/PoS\",\"PoW/PoS\",\"PoW\",\"PoW/PoS\",\"PoW/PoS\",\"PoW/PoS\",\"PoW\",\"PoW/PoS\",\"PoW\",\"PoW/PoS\",\"PoW\",\"PoW/PoS\",\"PoW/PoS\",\"PoS\",\"PoW\",\"PoW\",\"Proof of Trust\",\"PoW/PoS\",\"DPoS\",\"PoS\",\"PoW/PoS\",\"PoW/PoS\",\"PoW\",\"PoW/PoS\",\"PoW\",\"DPoS\",\"PoW\",\"DPoS\",\"PoS\",\"LPoS\",\"PoS\",\"DPoS\",\"PoS/LPoS\",\"DPoS\",\"PoW/PoS\",\"PoW\",\"PoW\",\"PoS\"],\"TotalCoinSupply\":[\"42\",\"532000000\",\"314159265359\",\"21000000\",\"0\",\"84000000\",\"22000000\",\"0\",\"210000000\",\"21000000\",\"3600570502\",\"21000000000\",\"22000000\",\"12500000\",\"21000000\",\"350000000\",\"20000000\",\"64000000\",\"16768584\",\"0\",\"2000000000\",\"384000000000\",\"169795588\",\"250000000\",\"100000000\",\"0\",\"247000000\",\"84000000\",\"48166000\",\"500000\",\"21000000 \",\"1000000\",\"13140000\",\"18000000\",\"40000000000\",\"4380000\",\"16555000000\",\"21000000000\",\"13500000000\",\"21000000 \",\"299792458\",\"32000000\",\"0\",\"0\",\"11235813\",\"336000000\",\"1420609614\",\"70000000\",\"72245700\",\"120000000\",\"0\",\"90600000000\",\"22000000\",\"21000000\",\"265420800\",\"20000000\",\"1350000\",\"100000000\",\"42000000\",\"200000000\",\"0\",\"10000000\",\"2419200000\",\"16180000\",\"0\",\"15000000000\",\"21000000\",\"337000000\",\"0\",\"3770000\",\"420000000\",\"98000000\",\"0\",\"21000000\",\"250000000\",\"51200000\",\"0\",\"1000\",\"888000000\",\"100000000\",\"47011968\",\"2300000000\",\"10000000\",\"42000000\",\"80000000\",\"250000\",\"0\",\"1600000000\",\"100000000\",\"23000000\",\"0\",\"84000000\",\"265420800\",\"5500000\",\"0\",\"45000000\",\"0\",\"1000000000\",\"184467440735\",\"10000000000\",\"2158812800\",\"500000000\",\"105120000\",\"68000000\",\"0\",\"1680000000\",\"0\",\"166386000\",\"12000000\",\"2628000\",\"500000000\",\"160000000\",\"0\",\"10000000\",\"1000000000\",\"1000000000\",\"20000000\",\"0\",\"0\",\"3371337\",\"20000000\",\"10000000000\",\"1840000000\",\"619478\",\"21000000\",\"92000000000\",\"0\",\"78000000\",\"33000000\",\"65789100\",\"53760000\",\"5060000\",\"21000000\",\"0\",\"210240000\",\"250000000\",\"100000000\",\"16906397\",\"50000000\",\"0\",\"1000000000\",\"26298000\",\"16000000\",\"21000000\",\"21000000\",\"210000000\",\"81962100\",\"22000000\",\"26550000000\",\"84000000\",\"10500000\",\"21626280000 \",\"0\",\"42000000\",\"221052632\",\"84000000\",\"30000000\",\"168351300\",\"24000000\",\"384000000\",\" 99000000000\",\"40000000\",\"2147483647\",\"20000000\",\"20000000\",\"25000000\",\"75000000\",\"222725000\",\"525000000\",\"90000000\",\"139000000\",\"616448\",\"33500000\",\"2000000000\",\"44333333\",\"100000000\",\"200000000\",\"25000000\",\"657000000\",\"200000000\",\"50000000\",\"90000000\",\"10000000\",\"21000000\",\"9736000\",\"3000000\",\"21000000\",\"1200000000\",\"0\",\"200000000\",\"0\",\"10638298\",\"3100000000\",\"30000000\",\"20000000000\",\"74000000\",\"0\",\"1500000000\",\"21400000\",\"39999898\",\"2500124\",\"100000000\",\"301000000\",\"7506000000\",\"26205539\",\"21000000\",\"125000000\",\"30000000\",\"10000000000\",\"500000000\",\"850000000\",\"3853326.77707314\",\"50000000\",\"38540000 \",\"42000000\",\"228000000\",\"20000000\",\"60000000\",\"20000000\",\"33000000\",\"76500000\",\"28000000\",\"650659833\",\"5000000\",\"21000000\",\"144000000\",\"32514916898\",\"13000000\",\"3315789\",\"15000000\",\"78835200\",\"2714286\",\"25000000\",\"9999999\",\"500000000\",\"21000000\",\"9354000\",\"20000000\",\"100000000000\",\"21933333\",\"185000000\",\"55000000\",\"110000000\",\"3360000\",\"14524851.4827\",\"1000000000\",\"17000000\",\"1000000000\",\"100000000 \",\"21000000\",\"34426423\",\"2232901\",\"100000000\",\"36900000\",\"110000000\",\"4000000000\",\"110290030\",\"100000000\",\"48252000\",\"400000000\",\"500000000\",\"21212121\",\"28600000\",\"1000000000\",\"75000000000\",\"40000000\",\"35520400\",\"2000000000\",\"2500000000\",\"30000000\",\"105000000\",\"90000000000\",\"200084200\",\"72000000\",\"100000000\",\"105000000\",\"50000000000\",\"0\",\"340282367\",\"30000000\",\"2000000000\",\"10000000\",\"100000000\",\"120000000\",\"100000000\",\"19276800\",\"30000000\",\" 75000000\",\"60000000\",\"18900000\",\"50000000000\",\"54000000\",\"18898187.6216583\",\"21000000\",\"200000000000\",\"5000000000\",\"137500000\",\"1100000000\",\"100000000\",\"21000000\",\"9507271\",\"17405891.19707116\",\"86712634466\",\"10500000000\",\"61599965\",\"0\",\"20000000\",\"84000000\",\"100000000\",\"100000000\",\"48252000\",\"4200000\",\"88888888\",\"91388946\",\"45000000000\",\"27000000\",\"21000000000\",\"400000000\",\"1800000000\",\"15733333\",\"27000000\",\"24000000\",\"21000000\",\"25000000000\",\"100000000\",\"1200000000\",\"60000000\",\"156306732.71\",\"21000000\",\"200000000\",\"100000000\",\"21000000\",\"14788275.991\",\"9000000000\",\"350000000\",\"45000000\",\"280000000\",\"31800000\",\"144000000\",\"500000000\",\"30000000000\",\"210000000\",\"660000000\",\"210000000\",\"85000000000\",\"12500000\",\"10000000000\",\"27716121\",\"20000000\",\"550000000\",\"999481516\",\"50000000000\",\"150000000\",\"4999999999\",\"50000000\",\" 90000000000\",\"19800000\",\"21000000\",\"120000000\",\"500000000\",\"64000000\",\"900000000\",\"4000000\",\"21000000\",\"23000000\",\"20166000\",\"23000000\",\"25000000\",\"1618033\",\"30000000\",\"1000000000000\",\"16600000\",\"232000000\",\"336000000\",\"10000000000\",\"100000000\",\"1100000000\",\"800000000\",\"5200000000\",\"840000000\",\"40000000\",\"18406979840\",\"500000000\",\"19340594\",\"252460800\",\"25000000\",\"60000000\",\"124000000\",\"1000000000\",\"6500000000\",\"1000000000\",\"21000000\",\"25000000\",\"50000000\",\"3000000\",\"5000000\",\"70000000\",\"500000000\",\"300000000\",\"21000000\",\"88000000\",\"30000000\",\"100000000\",\"100000000\",\"200000000\",\"80000000\",\"18400000\",\"45000000\",\"5121951220\",\"21000000\",\"26280000\",\"21000000\",\"18000000\",\"26000000\",\"10500000\",\"600000518\",\"150000000\",\"184000000000\",\"10200000000\",\"44000000\",\"168000000\",\"100000000\",\"1000000000\",\"84000000\",\"90000000\",\"92000000000\",\"650000000 \",\"100262205\",\"18081806 \",\"22075700\",\"21000000\",\"21000000\",\"82546564\",\"21000000\",\"5151000\",\"16880000000\",\"52500000\",\"100000000\",\"22105263\",\"1000000000\",\"1750000000\",\"88188888\",\"210000000\",\"184470000000\",\"55000000\",\"50000000\",\"260000000\",\"210000000\",\"2100000000\",\"366000000\",\"100000000\",\"25000000\",\"18000000000\",\"1000000000\",\"100000000\",\"1000000000\",\"7600000000\",\"50000000\",\"84000000\",\"21000000\",\"70000000000\",\"0\",\"8080000000\",\"54000000\",\"105120001.44\",\"25228800\",\"105000000\",\"21000000\",\"120000000\",\"21000000\",\"262800000\",\"19035999\",\"30886000\",\"13370000\",\"74800000000\",\"100000000\",\"19700000\",\"84000000\",\"500000000\",\"5000000000\",\"420000000\",\"64000000\",\"2100000\",\"168000000\",\"30000000\",\"1000000000\",\"35000000000\",\"98100000000\",\"0\",\"4000000000\",\"200000000\",\"7000000000\",\"54256119\",\"21000000\",\"0\",\"500000000\",\"1000000000\",\"10500000000\",\"190000000\",\"1000000000\",\"42000000\",\"15000000\",\"50000000000\",\"400000000\",\"105000000\",\"208000000\",\"160000000\",\"9000000\",\"5000000\",\"182000000\",\"16504333\",\"105000000\",\"159918400\",\"10008835635\",\"300000000\",\"60168145\",\"2800000\",\"120000\",\"2100000000\",\"0\",\"24487944\",\"0\",\"1000000000\",\"100000000\",\"8634140\",\"990000000000\",\"1000000000\",\"2000000000\",\"250000000\",\"1400222610\",\"21000000\",\"1000000\"],\"TotalCoinsMined\":{\"__ndarray__\":\"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\",\"dtype\":\"float64\",\"order\":\"little\",\"shape\":[532]}},\"selected\":{\"id\":\"1908\"},\"selection_policy\":{\"id\":\"1957\"}},\"id\":\"1907\",\"type\":\"ColumnDataSource\"},{\"attributes\":{},\"id\":\"1915\",\"type\":\"StringEditor\"},{\"attributes\":{},\"id\":\"1914\",\"type\":\"StringFormatter\"},{\"attributes\":{},\"id\":\"1909\",\"type\":\"StringFormatter\"},{\"attributes\":{\"columns\":[{\"id\":\"1911\"},{\"id\":\"1916\"},{\"id\":\"1921\"},{\"id\":\"1926\"},{\"id\":\"1931\"},{\"id\":\"1936\"},{\"id\":\"1941\"},{\"id\":\"1946\"},{\"id\":\"1951\"}],\"height\":300,\"reorderable\":false,\"source\":{\"id\":\"1907\"},\"view\":{\"id\":\"1956\"},\"width\":700},\"id\":\"1954\",\"type\":\"DataTable\"},{\"attributes\":{\"editor\":{\"id\":\"1915\"},\"field\":\"ProofType\",\"formatter\":{\"id\":\"1914\"},\"title\":\"ProofType\"},\"id\":\"1916\",\"type\":\"TableColumn\"}],\"root_ids\":[\"1905\"]},\"title\":\"Bokeh Application\",\"version\":\"2.4.2\"}};\n",
       "    var render_items = [{\"docid\":\"ccb43f8d-2147-4530-87df-399b56bfe521\",\"root_ids\":[\"1905\"],\"roots\":{\"1905\":\"ebd0bea2-485c-492b-99ee-a8e9e07dd462\"}}];\n",
       "    root.Bokeh.embed.embed_items_notebook(docs_json, render_items);\n",
       "  }\n",
       "  if (root.Bokeh !== undefined && root.Bokeh.Panel !== undefined) {\n",
       "    embed_document(root);\n",
       "  } else {\n",
       "    var attempts = 0;\n",
       "    var timer = setInterval(function(root) {\n",
       "      if (root.Bokeh !== undefined && root.Bokeh.Panel !== undefined) {\n",
       "        clearInterval(timer);\n",
       "        embed_document(root);\n",
       "      } else if (document.readyState == \"complete\") {\n",
       "        attempts++;\n",
       "        if (attempts > 200) {\n",
       "          clearInterval(timer);\n",
       "          console.log(\"Bokeh: ERROR: Unable to run BokehJS code because BokehJS library is missing\");\n",
       "        }\n",
       "      }\n",
       "    }, 25, root)\n",
       "  }\n",
       "})(window);</script>"
      ],
      "text/plain": [
       ":Table   [Algorithm,ProofType,TotalCoinsMined,TotalCoinSupply,PC 1,PC 2,PC 3,CoinName,Class]"
      ]
     },
     "execution_count": 63,
     "metadata": {
      "application/vnd.holoviews_exec.v0+json": {
       "id": "1905"
      }
     },
     "output_type": "execute_result"
    }
   ],
   "source": [
    "# Create a table with tradable cryptocurrencies.\n",
    "clustered_df.hvplot.table(sortable=True, selectable=True)"
   ]
  },
  {
   "cell_type": "code",
   "execution_count": 64,
   "metadata": {},
   "outputs": [
    {
     "name": "stdout",
     "output_type": "stream",
     "text": [
      "There are 532 tradable cryptocurrencies.\n"
     ]
    }
   ],
   "source": [
    "# Print the total number of tradable cryptocurrencies.\n",
    "print(f'There are {len(clustered_df)} tradable cryptocurrencies.')"
   ]
  },
  {
   "cell_type": "code",
   "execution_count": 65,
   "metadata": {},
   "outputs": [
    {
     "data": {
      "text/plain": [
       "array([[4.20000000e-11, 0.00000000e+00],\n",
       "       [5.32000000e-04, 1.06585544e-03],\n",
       "       [3.14159265e-01, 2.95755135e-02],\n",
       "       ...,\n",
       "       [1.40022261e-03, 9.90135079e-04],\n",
       "       [2.10000000e-05, 7.37028150e-06],\n",
       "       [1.00000000e-06, 1.29582282e-07]])"
      ]
     },
     "execution_count": 65,
     "metadata": {},
     "output_type": "execute_result"
    }
   ],
   "source": [
    "# Scaling data to create the scatter plot with tradable cryptocurrencies.\n",
    "mms = MinMaxScaler().fit_transform(clustered_df[[\"TotalCoinSupply\",\"TotalCoinsMined\"]])\n",
    "mms"
   ]
  },
  {
   "cell_type": "code",
   "execution_count": 66,
   "metadata": {},
   "outputs": [
    {
     "data": {
      "text/html": [
       "<div>\n",
       "<style scoped>\n",
       "    .dataframe tbody tr th:only-of-type {\n",
       "        vertical-align: middle;\n",
       "    }\n",
       "\n",
       "    .dataframe tbody tr th {\n",
       "        vertical-align: top;\n",
       "    }\n",
       "\n",
       "    .dataframe thead th {\n",
       "        text-align: right;\n",
       "    }\n",
       "</style>\n",
       "<table border=\"1\" class=\"dataframe\">\n",
       "  <thead>\n",
       "    <tr style=\"text-align: right;\">\n",
       "      <th></th>\n",
       "      <th>TotalCoinSupply</th>\n",
       "      <th>TotalCoinsMined</th>\n",
       "      <th>CoinName</th>\n",
       "      <th>Class</th>\n",
       "    </tr>\n",
       "    <tr>\n",
       "      <th></th>\n",
       "      <th></th>\n",
       "      <th></th>\n",
       "      <th></th>\n",
       "      <th></th>\n",
       "    </tr>\n",
       "  </thead>\n",
       "  <tbody>\n",
       "    <tr>\n",
       "      <th>42</th>\n",
       "      <td>4.200000e-11</td>\n",
       "      <td>0.000000</td>\n",
       "      <td>42 Coin</td>\n",
       "      <td>0</td>\n",
       "    </tr>\n",
       "    <tr>\n",
       "      <th>404</th>\n",
       "      <td>5.320000e-04</td>\n",
       "      <td>0.001066</td>\n",
       "      <td>404Coin</td>\n",
       "      <td>0</td>\n",
       "    </tr>\n",
       "    <tr>\n",
       "      <th>1337</th>\n",
       "      <td>3.141593e-01</td>\n",
       "      <td>0.029576</td>\n",
       "      <td>EliteCoin</td>\n",
       "      <td>0</td>\n",
       "    </tr>\n",
       "    <tr>\n",
       "      <th>BTC</th>\n",
       "      <td>2.100000e-05</td>\n",
       "      <td>0.000018</td>\n",
       "      <td>Bitcoin</td>\n",
       "      <td>3</td>\n",
       "    </tr>\n",
       "    <tr>\n",
       "      <th>ETH</th>\n",
       "      <td>0.000000e+00</td>\n",
       "      <td>0.000109</td>\n",
       "      <td>Ethereum</td>\n",
       "      <td>3</td>\n",
       "    </tr>\n",
       "    <tr>\n",
       "      <th>LTC</th>\n",
       "      <td>8.400000e-05</td>\n",
       "      <td>0.000064</td>\n",
       "      <td>Litecoin</td>\n",
       "      <td>3</td>\n",
       "    </tr>\n",
       "    <tr>\n",
       "      <th>DASH</th>\n",
       "      <td>2.200000e-05</td>\n",
       "      <td>0.000009</td>\n",
       "      <td>Dash</td>\n",
       "      <td>0</td>\n",
       "    </tr>\n",
       "    <tr>\n",
       "      <th>XMR</th>\n",
       "      <td>0.000000e+00</td>\n",
       "      <td>0.000017</td>\n",
       "      <td>Monero</td>\n",
       "      <td>3</td>\n",
       "    </tr>\n",
       "    <tr>\n",
       "      <th>ETC</th>\n",
       "      <td>2.100000e-04</td>\n",
       "      <td>0.000115</td>\n",
       "      <td>Ethereum Classic</td>\n",
       "      <td>3</td>\n",
       "    </tr>\n",
       "    <tr>\n",
       "      <th>ZEC</th>\n",
       "      <td>2.100000e-05</td>\n",
       "      <td>0.000007</td>\n",
       "      <td>ZCash</td>\n",
       "      <td>3</td>\n",
       "    </tr>\n",
       "  </tbody>\n",
       "</table>\n",
       "</div>"
      ],
      "text/plain": [
       "      TotalCoinSupply  TotalCoinsMined          CoinName  Class\n",
       "                                                               \n",
       "42       4.200000e-11         0.000000           42 Coin      0\n",
       "404      5.320000e-04         0.001066           404Coin      0\n",
       "1337     3.141593e-01         0.029576         EliteCoin      0\n",
       "BTC      2.100000e-05         0.000018           Bitcoin      3\n",
       "ETH      0.000000e+00         0.000109          Ethereum      3\n",
       "LTC      8.400000e-05         0.000064          Litecoin      3\n",
       "DASH     2.200000e-05         0.000009              Dash      0\n",
       "XMR      0.000000e+00         0.000017            Monero      3\n",
       "ETC      2.100000e-04         0.000115  Ethereum Classic      3\n",
       "ZEC      2.100000e-05         0.000007             ZCash      3"
      ]
     },
     "execution_count": 66,
     "metadata": {},
     "output_type": "execute_result"
    }
   ],
   "source": [
    "# Create a new DataFrame that has the scaled data with the clustered_df DataFrame index.\n",
    "plot_df=pd.DataFrame(\n",
    "data=mms, columns=['TotalCoinSupply','TotalCoinsMined'], index = clustered_df.index)\n",
    "\n",
    "# Add the \"CoinName\" column from the clustered_df DataFrame to the new DataFrame.\n",
    "plot_df['CoinName'] = clustered_df['CoinName'] \n",
    "\n",
    "# Add the \"Class\" column from the clustered_df DataFrame to the new DataFrame. \n",
    "plot_df['Class'] = clustered_df['Class']\n",
    "plot_df.head(10)"
   ]
  },
  {
   "cell_type": "code",
   "execution_count": 67,
   "metadata": {},
   "outputs": [
    {
     "data": {},
     "metadata": {},
     "output_type": "display_data"
    },
    {
     "data": {
      "application/vnd.holoviews_exec.v0+json": "",
      "text/html": [
       "<div id='1973'>\n",
       "\n",
       "\n",
       "\n",
       "\n",
       "\n",
       "  <div class=\"bk-root\" id=\"9fcd2b0a-80b1-4711-80f9-7dcd833d0474\" data-root-id=\"1973\"></div>\n",
       "</div>\n",
       "<script type=\"application/javascript\">(function(root) {\n",
       "  function embed_document(root) {\n",
       "    var docs_json = {\"61718aa3-0328-412e-9b6b-48a8fead42db\":{\"defs\":[{\"extends\":null,\"module\":null,\"name\":\"ReactiveHTML1\",\"overrides\":[],\"properties\":[]},{\"extends\":null,\"module\":null,\"name\":\"FlexBox1\",\"overrides\":[],\"properties\":[{\"default\":\"flex-start\",\"kind\":null,\"name\":\"align_content\"},{\"default\":\"flex-start\",\"kind\":null,\"name\":\"align_items\"},{\"default\":\"row\",\"kind\":null,\"name\":\"flex_direction\"},{\"default\":\"wrap\",\"kind\":null,\"name\":\"flex_wrap\"},{\"default\":\"flex-start\",\"kind\":null,\"name\":\"justify_content\"}]},{\"extends\":null,\"module\":null,\"name\":\"GridStack1\",\"overrides\":[],\"properties\":[{\"default\":\"warn\",\"kind\":null,\"name\":\"mode\"},{\"default\":null,\"kind\":null,\"name\":\"ncols\"},{\"default\":null,\"kind\":null,\"name\":\"nrows\"},{\"default\":true,\"kind\":null,\"name\":\"allow_resize\"},{\"default\":true,\"kind\":null,\"name\":\"allow_drag\"},{\"default\":[],\"kind\":null,\"name\":\"state\"}]},{\"extends\":null,\"module\":null,\"name\":\"click1\",\"overrides\":[],\"properties\":[{\"default\":\"\",\"kind\":null,\"name\":\"terminal_output\"},{\"default\":\"\",\"kind\":null,\"name\":\"debug_name\"},{\"default\":0,\"kind\":null,\"name\":\"clears\"}]},{\"extends\":null,\"module\":null,\"name\":\"TemplateActions1\",\"overrides\":[],\"properties\":[{\"default\":0,\"kind\":null,\"name\":\"open_modal\"},{\"default\":0,\"kind\":null,\"name\":\"close_modal\"}]},{\"extends\":null,\"module\":null,\"name\":\"MaterialTemplateActions1\",\"overrides\":[],\"properties\":[{\"default\":0,\"kind\":null,\"name\":\"open_modal\"},{\"default\":0,\"kind\":null,\"name\":\"close_modal\"}]}],\"roots\":{\"references\":[{\"attributes\":{\"source\":{\"id\":\"2084\"}},\"id\":\"2091\",\"type\":\"CDSView\"},{\"attributes\":{\"fill_alpha\":{\"value\":0.1},\"fill_color\":{\"value\":\"#6d904f\"},\"hatch_alpha\":{\"value\":0.1},\"hatch_color\":{\"value\":\"#6d904f\"},\"line_alpha\":{\"value\":0.1},\"line_color\":{\"value\":\"#6d904f\"},\"size\":{\"value\":5.477225575051661},\"x\":{\"field\":\"TotalCoinsMined\"},\"y\":{\"field\":\"TotalCoinSupply\"}},\"id\":\"2088\",\"type\":\"Scatter\"},{\"attributes\":{\"click_policy\":\"mute\",\"coordinates\":null,\"group\":null,\"items\":[{\"id\":\"2036\"},{\"id\":\"2058\"},{\"id\":\"2082\"},{\"id\":\"2108\"}],\"location\":[0,0],\"title\":\"Class\"},\"id\":\"2035\",\"type\":\"Legend\"},{\"attributes\":{},\"id\":\"1988\",\"type\":\"LinearScale\"},{\"attributes\":{\"label\":{\"value\":\"0\"},\"renderers\":[{\"id\":\"2023\"}]},\"id\":\"2036\",\"type\":\"LegendItem\"},{\"attributes\":{\"label\":{\"value\":\"3\"},\"renderers\":[{\"id\":\"2090\"}]},\"id\":\"2108\",\"type\":\"LegendItem\"},{\"attributes\":{\"angle\":{\"value\":0.0},\"fill_alpha\":{\"value\":1.0},\"fill_color\":{\"value\":\"#30a2da\"},\"hatch_alpha\":{\"value\":1.0},\"hatch_color\":{\"value\":\"#30a2da\"},\"hatch_scale\":{\"value\":12.0},\"hatch_weight\":{\"value\":1.0},\"line_alpha\":{\"value\":1.0},\"line_cap\":{\"value\":\"butt\"},\"line_color\":{\"value\":\"#30a2da\"},\"line_dash\":{\"value\":[]},\"line_dash_offset\":{\"value\":0},\"line_join\":{\"value\":\"bevel\"},\"line_width\":{\"value\":1},\"marker\":{\"value\":\"circle\"},\"size\":{\"value\":5.477225575051661},\"x\":{\"field\":\"TotalCoinsMined\"},\"y\":{\"field\":\"TotalCoinSupply\"}},\"id\":\"2037\",\"type\":\"Scatter\"},{\"attributes\":{\"coordinates\":null,\"data_source\":{\"id\":\"2084\"},\"glyph\":{\"id\":\"2087\"},\"group\":null,\"hover_glyph\":null,\"muted_glyph\":{\"id\":\"2089\"},\"nonselection_glyph\":{\"id\":\"2088\"},\"selection_glyph\":{\"id\":\"2109\"},\"view\":{\"id\":\"2091\"}},\"id\":\"2090\",\"type\":\"GlyphRenderer\"},{\"attributes\":{\"data\":{\"Class\":[3,3,3,3,3,3,3,3,3,3,3,3,3,3,3,3,3,3,3,3,3,3,3,3,3,3,3,3,3,3,3,3,3,3,3,3,3,3,3,3,3,3,3,3,3,3,3,3,3,3,3,3,3,3,3,3,3,3,3,3,3,3,3,3,3,3,3,3,3,3,3,3,3,3,3,3,3,3,3,3,3,3,3,3,3,3,3,3,3,3,3,3,3,3,3,3,3,3,3,3,3,3,3,3,3,3,3,3,3,3,3,3,3,3,3,3,3,3,3,3,3,3,3,3,3,3,3,3,3,3,3,3,3,3,3,3,3,3,3,3,3,3,3,3,3,3,3,3,3,3,3,3,3,3,3,3,3,3,3,3,3,3,3,3,3,3,3,3,3,3,3,3,3,3,3,3,3,3,3,3,3,3,3,3,3,3,3,3,3,3,3,3,3,3,3,3,3,3,3,3,3,3,3,3,3,3,3,3,3,3,3,3,3,3,3,3,3,3,3,3,3,3,3,3,3,3,3,3,3,3,3,3,3,3,3,3,3,3,3],\"TotalCoinSupply\":{\"__ndarray__\":\"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\",\"dtype\":\"float64\",\"order\":\"little\",\"shape\":[239]},\"TotalCoinsMined\":{\"__ndarray__\":\"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\",\"dtype\":\"float64\",\"order\":\"little\",\"shape\":[239]}},\"selected\":{\"id\":\"2085\"},\"selection_policy\":{\"id\":\"2105\"}},\"id\":\"2084\",\"type\":\"ColumnDataSource\"},{\"attributes\":{\"data\":{\"Class\":[2],\"TotalCoinSupply\":{\"__ndarray__\":\"rkfhehSu7z8=\",\"dtype\":\"float64\",\"order\":\"little\",\"shape\":[1]},\"TotalCoinsMined\":{\"__ndarray__\":\"AAAAAAAA8D8=\",\"dtype\":\"float64\",\"order\":\"little\",\"shape\":[1]}},\"selected\":{\"id\":\"2061\"},\"selection_policy\":{\"id\":\"2079\"}},\"id\":\"2060\",\"type\":\"ColumnDataSource\"},{\"attributes\":{\"fill_alpha\":{\"value\":0.2},\"fill_color\":{\"value\":\"#6d904f\"},\"hatch_alpha\":{\"value\":0.2},\"hatch_color\":{\"value\":\"#6d904f\"},\"line_alpha\":{\"value\":0.2},\"line_color\":{\"value\":\"#6d904f\"},\"size\":{\"value\":5.477225575051661},\"x\":{\"field\":\"TotalCoinsMined\"},\"y\":{\"field\":\"TotalCoinSupply\"}},\"id\":\"2089\",\"type\":\"Scatter\"},{\"attributes\":{},\"id\":\"1986\",\"type\":\"LinearScale\"},{\"attributes\":{\"fill_alpha\":{\"value\":0.1},\"fill_color\":{\"value\":\"#e5ae38\"},\"hatch_alpha\":{\"value\":0.1},\"hatch_color\":{\"value\":\"#e5ae38\"},\"line_alpha\":{\"value\":0.1},\"line_color\":{\"value\":\"#e5ae38\"},\"size\":{\"value\":5.477225575051661},\"x\":{\"field\":\"TotalCoinsMined\"},\"y\":{\"field\":\"TotalCoinSupply\"}},\"id\":\"2064\",\"type\":\"Scatter\"},{\"attributes\":{\"coordinates\":null,\"group\":null,\"text_color\":\"black\",\"text_font_size\":\"12pt\"},\"id\":\"1982\",\"type\":\"Title\"},{\"attributes\":{\"fill_alpha\":{\"value\":0.2},\"fill_color\":{\"value\":\"#fc4f30\"},\"hatch_alpha\":{\"value\":0.2},\"hatch_color\":{\"value\":\"#fc4f30\"},\"line_alpha\":{\"value\":0.2},\"line_color\":{\"value\":\"#fc4f30\"},\"size\":{\"value\":5.477225575051661},\"x\":{\"field\":\"TotalCoinsMined\"},\"y\":{\"field\":\"TotalCoinSupply\"}},\"id\":\"2043\",\"type\":\"Scatter\"},{\"attributes\":{},\"id\":\"1999\",\"type\":\"PanTool\"},{\"attributes\":{\"axis\":{\"id\":\"1990\"},\"coordinates\":null,\"grid_line_color\":null,\"group\":null,\"ticker\":null},\"id\":\"1993\",\"type\":\"Grid\"},{\"attributes\":{},\"id\":\"2079\",\"type\":\"UnionRenderers\"},{\"attributes\":{},\"id\":\"2105\",\"type\":\"UnionRenderers\"},{\"attributes\":{\"axis_label\":\"TotalCoinsMined\",\"coordinates\":null,\"formatter\":{\"id\":\"2012\"},\"group\":null,\"major_label_policy\":{\"id\":\"2013\"},\"ticker\":{\"id\":\"1991\"}},\"id\":\"1990\",\"type\":\"LinearAxis\"},{\"attributes\":{},\"id\":\"2000\",\"type\":\"WheelZoomTool\"},{\"attributes\":{\"label\":{\"value\":\"2\"},\"renderers\":[{\"id\":\"2066\"}]},\"id\":\"2082\",\"type\":\"LegendItem\"},{\"attributes\":{\"fill_color\":{\"value\":\"#e5ae38\"},\"hatch_color\":{\"value\":\"#e5ae38\"},\"line_color\":{\"value\":\"#e5ae38\"},\"size\":{\"value\":5.477225575051661},\"x\":{\"field\":\"TotalCoinsMined\"},\"y\":{\"field\":\"TotalCoinSupply\"}},\"id\":\"2063\",\"type\":\"Scatter\"},{\"attributes\":{},\"id\":\"1991\",\"type\":\"BasicTicker\"},{\"attributes\":{\"coordinates\":null,\"data_source\":{\"id\":\"2060\"},\"glyph\":{\"id\":\"2063\"},\"group\":null,\"hover_glyph\":null,\"muted_glyph\":{\"id\":\"2065\"},\"nonselection_glyph\":{\"id\":\"2064\"},\"selection_glyph\":{\"id\":\"2083\"},\"view\":{\"id\":\"2067\"}},\"id\":\"2066\",\"type\":\"GlyphRenderer\"},{\"attributes\":{\"axis_label\":\"TotalCoinSupply\",\"coordinates\":null,\"formatter\":{\"id\":\"2015\"},\"group\":null,\"major_label_policy\":{\"id\":\"2016\"},\"ticker\":{\"id\":\"1995\"}},\"id\":\"1994\",\"type\":\"LinearAxis\"},{\"attributes\":{\"axis\":{\"id\":\"1994\"},\"coordinates\":null,\"dimension\":1,\"grid_line_color\":null,\"group\":null,\"ticker\":null},\"id\":\"1997\",\"type\":\"Grid\"},{\"attributes\":{\"source\":{\"id\":\"2060\"}},\"id\":\"2067\",\"type\":\"CDSView\"},{\"attributes\":{\"fill_alpha\":{\"value\":0.2},\"fill_color\":{\"value\":\"#e5ae38\"},\"hatch_alpha\":{\"value\":0.2},\"hatch_color\":{\"value\":\"#e5ae38\"},\"line_alpha\":{\"value\":0.2},\"line_color\":{\"value\":\"#e5ae38\"},\"size\":{\"value\":5.477225575051661},\"x\":{\"field\":\"TotalCoinsMined\"},\"y\":{\"field\":\"TotalCoinSupply\"}},\"id\":\"2065\",\"type\":\"Scatter\"},{\"attributes\":{},\"id\":\"1995\",\"type\":\"BasicTicker\"},{\"attributes\":{\"source\":{\"id\":\"2038\"}},\"id\":\"2045\",\"type\":\"CDSView\"},{\"attributes\":{},\"id\":\"2013\",\"type\":\"AllLabels\"},{\"attributes\":{},\"id\":\"1998\",\"type\":\"SaveTool\"},{\"attributes\":{\"overlay\":{\"id\":\"2003\"}},\"id\":\"2001\",\"type\":\"BoxZoomTool\"},{\"attributes\":{\"coordinates\":null,\"data_source\":{\"id\":\"2038\"},\"glyph\":{\"id\":\"2041\"},\"group\":null,\"hover_glyph\":null,\"muted_glyph\":{\"id\":\"2043\"},\"nonselection_glyph\":{\"id\":\"2042\"},\"selection_glyph\":{\"id\":\"2059\"},\"view\":{\"id\":\"2045\"}},\"id\":\"2044\",\"type\":\"GlyphRenderer\"},{\"attributes\":{},\"id\":\"2002\",\"type\":\"ResetTool\"},{\"attributes\":{\"bottom_units\":\"screen\",\"coordinates\":null,\"fill_alpha\":0.5,\"fill_color\":\"lightgrey\",\"group\":null,\"left_units\":\"screen\",\"level\":\"overlay\",\"line_alpha\":1.0,\"line_color\":\"black\",\"line_dash\":[4,4],\"line_width\":2,\"right_units\":\"screen\",\"syncable\":false,\"top_units\":\"screen\"},\"id\":\"2003\",\"type\":\"BoxAnnotation\"},{\"attributes\":{\"fill_color\":{\"value\":\"#fc4f30\"},\"hatch_color\":{\"value\":\"#fc4f30\"},\"line_color\":{\"value\":\"#fc4f30\"},\"size\":{\"value\":5.477225575051661},\"x\":{\"field\":\"TotalCoinsMined\"},\"y\":{\"field\":\"TotalCoinSupply\"}},\"id\":\"2041\",\"type\":\"Scatter\"},{\"attributes\":{\"label\":{\"value\":\"1\"},\"renderers\":[{\"id\":\"2044\"}]},\"id\":\"2058\",\"type\":\"LegendItem\"},{\"attributes\":{},\"id\":\"2032\",\"type\":\"UnionRenderers\"},{\"attributes\":{\"angle\":{\"value\":0.0},\"fill_alpha\":{\"value\":1.0},\"fill_color\":{\"value\":\"#6d904f\"},\"hatch_alpha\":{\"value\":1.0},\"hatch_color\":{\"value\":\"#6d904f\"},\"hatch_scale\":{\"value\":12.0},\"hatch_weight\":{\"value\":1.0},\"line_alpha\":{\"value\":1.0},\"line_cap\":{\"value\":\"butt\"},\"line_color\":{\"value\":\"#6d904f\"},\"line_dash\":{\"value\":[]},\"line_dash_offset\":{\"value\":0},\"line_join\":{\"value\":\"bevel\"},\"line_width\":{\"value\":1},\"marker\":{\"value\":\"circle\"},\"size\":{\"value\":5.477225575051661},\"x\":{\"field\":\"TotalCoinsMined\"},\"y\":{\"field\":\"TotalCoinSupply\"}},\"id\":\"2109\",\"type\":\"Scatter\"},{\"attributes\":{},\"id\":\"2012\",\"type\":\"BasicTickFormatter\"},{\"attributes\":{\"fill_alpha\":{\"value\":0.1},\"fill_color\":{\"value\":\"#fc4f30\"},\"hatch_alpha\":{\"value\":0.1},\"hatch_color\":{\"value\":\"#fc4f30\"},\"line_alpha\":{\"value\":0.1},\"line_color\":{\"value\":\"#fc4f30\"},\"size\":{\"value\":5.477225575051661},\"x\":{\"field\":\"TotalCoinsMined\"},\"y\":{\"field\":\"TotalCoinSupply\"}},\"id\":\"2042\",\"type\":\"Scatter\"},{\"attributes\":{},\"id\":\"2055\",\"type\":\"UnionRenderers\"},{\"attributes\":{},\"id\":\"2015\",\"type\":\"BasicTickFormatter\"},{\"attributes\":{\"fill_alpha\":{\"value\":0.1},\"fill_color\":{\"value\":\"#30a2da\"},\"hatch_alpha\":{\"value\":0.1},\"hatch_color\":{\"value\":\"#30a2da\"},\"line_alpha\":{\"value\":0.1},\"line_color\":{\"value\":\"#30a2da\"},\"size\":{\"value\":5.477225575051661},\"x\":{\"field\":\"TotalCoinsMined\"},\"y\":{\"field\":\"TotalCoinSupply\"}},\"id\":\"2021\",\"type\":\"Scatter\"},{\"attributes\":{\"coordinates\":null,\"data_source\":{\"id\":\"2017\"},\"glyph\":{\"id\":\"2020\"},\"group\":null,\"hover_glyph\":null,\"muted_glyph\":{\"id\":\"2022\"},\"nonselection_glyph\":{\"id\":\"2021\"},\"selection_glyph\":{\"id\":\"2037\"},\"view\":{\"id\":\"2024\"}},\"id\":\"2023\",\"type\":\"GlyphRenderer\"},{\"attributes\":{\"data\":{\"Class\":[1],\"TotalCoinSupply\":{\"__ndarray__\":\"hFoo4ZaLMD8=\",\"dtype\":\"float64\",\"order\":\"little\",\"shape\":[1]},\"TotalCoinsMined\":{\"__ndarray__\":\"nBkleI8SKz8=\",\"dtype\":\"float64\",\"order\":\"little\",\"shape\":[1]}},\"selected\":{\"id\":\"2039\"},\"selection_policy\":{\"id\":\"2055\"}},\"id\":\"2038\",\"type\":\"ColumnDataSource\"},{\"attributes\":{\"data\":{\"Class\":[0,0,0,0,0,0,0,0,0,0,0,0,0,0,0,0,0,0,0,0,0,0,0,0,0,0,0,0,0,0,0,0,0,0,0,0,0,0,0,0,0,0,0,0,0,0,0,0,0,0,0,0,0,0,0,0,0,0,0,0,0,0,0,0,0,0,0,0,0,0,0,0,0,0,0,0,0,0,0,0,0,0,0,0,0,0,0,0,0,0,0,0,0,0,0,0,0,0,0,0,0,0,0,0,0,0,0,0,0,0,0,0,0,0,0,0,0,0,0,0,0,0,0,0,0,0,0,0,0,0,0,0,0,0,0,0,0,0,0,0,0,0,0,0,0,0,0,0,0,0,0,0,0,0,0,0,0,0,0,0,0,0,0,0,0,0,0,0,0,0,0,0,0,0,0,0,0,0,0,0,0,0,0,0,0,0,0,0,0,0,0,0,0,0,0,0,0,0,0,0,0,0,0,0,0,0,0,0,0,0,0,0,0,0,0,0,0,0,0,0,0,0,0,0,0,0,0,0,0,0,0,0,0,0,0,0,0,0,0,0,0,0,0,0,0,0,0,0,0,0,0,0,0,0,0,0,0,0,0,0,0,0,0,0,0,0,0,0,0,0,0,0,0,0,0,0,0,0,0,0,0,0,0,0,0,0,0,0,0,0,0],\"TotalCoinSupply\":{\"__ndarray__\":\"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\",\"dtype\":\"float64\",\"order\":\"little\",\"shape\":[291]},\"TotalCoinsMined\":{\"__ndarray__\":\"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\",\"dtype\":\"float64\",\"order\":\"little\",\"shape\":[291]}},\"selected\":{\"id\":\"2018\"},\"selection_policy\":{\"id\":\"2032\"}},\"id\":\"2017\",\"type\":\"ColumnDataSource\"},{\"attributes\":{\"margin\":[5,5,5,5],\"name\":\"HSpacer03402\",\"sizing_mode\":\"stretch_width\"},\"id\":\"1974\",\"type\":\"Spacer\"},{\"attributes\":{\"fill_alpha\":{\"value\":0.2},\"fill_color\":{\"value\":\"#30a2da\"},\"hatch_alpha\":{\"value\":0.2},\"hatch_color\":{\"value\":\"#30a2da\"},\"line_alpha\":{\"value\":0.2},\"line_color\":{\"value\":\"#30a2da\"},\"size\":{\"value\":5.477225575051661},\"x\":{\"field\":\"TotalCoinsMined\"},\"y\":{\"field\":\"TotalCoinSupply\"}},\"id\":\"2022\",\"type\":\"Scatter\"},{\"attributes\":{},\"id\":\"2018\",\"type\":\"Selection\"},{\"attributes\":{\"source\":{\"id\":\"2017\"}},\"id\":\"2024\",\"type\":\"CDSView\"},{\"attributes\":{\"fill_color\":{\"value\":\"#30a2da\"},\"hatch_color\":{\"value\":\"#30a2da\"},\"line_color\":{\"value\":\"#30a2da\"},\"size\":{\"value\":5.477225575051661},\"x\":{\"field\":\"TotalCoinsMined\"},\"y\":{\"field\":\"TotalCoinSupply\"}},\"id\":\"2020\",\"type\":\"Scatter\"},{\"attributes\":{\"children\":[{\"id\":\"1974\"},{\"id\":\"1981\"},{\"id\":\"2254\"}],\"margin\":[0,0,0,0],\"name\":\"Row03398\",\"tags\":[\"embedded\"]},\"id\":\"1973\",\"type\":\"Row\"},{\"attributes\":{\"angle\":{\"value\":0.0},\"fill_alpha\":{\"value\":1.0},\"fill_color\":{\"value\":\"#e5ae38\"},\"hatch_alpha\":{\"value\":1.0},\"hatch_color\":{\"value\":\"#e5ae38\"},\"hatch_scale\":{\"value\":12.0},\"hatch_weight\":{\"value\":1.0},\"line_alpha\":{\"value\":1.0},\"line_cap\":{\"value\":\"butt\"},\"line_color\":{\"value\":\"#e5ae38\"},\"line_dash\":{\"value\":[]},\"line_dash_offset\":{\"value\":0},\"line_join\":{\"value\":\"bevel\"},\"line_width\":{\"value\":1},\"marker\":{\"value\":\"circle\"},\"size\":{\"value\":5.477225575051661},\"x\":{\"field\":\"TotalCoinsMined\"},\"y\":{\"field\":\"TotalCoinSupply\"}},\"id\":\"2083\",\"type\":\"Scatter\"},{\"attributes\":{\"fill_color\":{\"value\":\"#6d904f\"},\"hatch_color\":{\"value\":\"#6d904f\"},\"line_color\":{\"value\":\"#6d904f\"},\"size\":{\"value\":5.477225575051661},\"x\":{\"field\":\"TotalCoinsMined\"},\"y\":{\"field\":\"TotalCoinSupply\"}},\"id\":\"2087\",\"type\":\"Scatter\"},{\"attributes\":{},\"id\":\"2016\",\"type\":\"AllLabels\"},{\"attributes\":{\"end\":1.1,\"reset_end\":1.1,\"reset_start\":-0.1,\"start\":-0.1,\"tags\":[[[\"TotalCoinSupply\",\"TotalCoinSupply\",null]]]},\"id\":\"1976\",\"type\":\"Range1d\"},{\"attributes\":{},\"id\":\"2085\",\"type\":\"Selection\"},{\"attributes\":{},\"id\":\"2039\",\"type\":\"Selection\"},{\"attributes\":{\"tools\":[{\"id\":\"1977\"},{\"id\":\"1998\"},{\"id\":\"1999\"},{\"id\":\"2000\"},{\"id\":\"2001\"},{\"id\":\"2002\"}]},\"id\":\"2004\",\"type\":\"Toolbar\"},{\"attributes\":{\"margin\":[5,5,5,5],\"name\":\"HSpacer03403\",\"sizing_mode\":\"stretch_width\"},\"id\":\"2254\",\"type\":\"Spacer\"},{\"attributes\":{\"angle\":{\"value\":0.0},\"fill_alpha\":{\"value\":1.0},\"fill_color\":{\"value\":\"#fc4f30\"},\"hatch_alpha\":{\"value\":1.0},\"hatch_color\":{\"value\":\"#fc4f30\"},\"hatch_scale\":{\"value\":12.0},\"hatch_weight\":{\"value\":1.0},\"line_alpha\":{\"value\":1.0},\"line_cap\":{\"value\":\"butt\"},\"line_color\":{\"value\":\"#fc4f30\"},\"line_dash\":{\"value\":[]},\"line_dash_offset\":{\"value\":0},\"line_join\":{\"value\":\"bevel\"},\"line_width\":{\"value\":1},\"marker\":{\"value\":\"circle\"},\"size\":{\"value\":5.477225575051661},\"x\":{\"field\":\"TotalCoinsMined\"},\"y\":{\"field\":\"TotalCoinSupply\"}},\"id\":\"2059\",\"type\":\"Scatter\"},{\"attributes\":{\"end\":1.042857142857143,\"reset_end\":1.042857142857143,\"reset_start\":-0.04285714285714286,\"start\":-0.04285714285714286,\"tags\":[[[\"TotalCoinsMined\",\"TotalCoinsMined\",null]]]},\"id\":\"1975\",\"type\":\"Range1d\"},{\"attributes\":{\"callback\":null,\"renderers\":[{\"id\":\"2023\"},{\"id\":\"2044\"},{\"id\":\"2066\"},{\"id\":\"2090\"}],\"tags\":[\"hv_created\"],\"tooltips\":[[\"Class\",\"@{Class}\"],[\"TotalCoinsMined\",\"@{TotalCoinsMined}\"],[\"TotalCoinSupply\",\"@{TotalCoinSupply}\"]]},\"id\":\"1977\",\"type\":\"HoverTool\"},{\"attributes\":{},\"id\":\"2061\",\"type\":\"Selection\"},{\"attributes\":{\"below\":[{\"id\":\"1990\"}],\"center\":[{\"id\":\"1993\"},{\"id\":\"1997\"}],\"height\":300,\"left\":[{\"id\":\"1994\"}],\"margin\":[5,5,5,5],\"min_border_bottom\":10,\"min_border_left\":10,\"min_border_right\":10,\"min_border_top\":10,\"renderers\":[{\"id\":\"2023\"},{\"id\":\"2044\"},{\"id\":\"2066\"},{\"id\":\"2090\"}],\"right\":[{\"id\":\"2035\"}],\"sizing_mode\":\"fixed\",\"title\":{\"id\":\"1982\"},\"toolbar\":{\"id\":\"2004\"},\"width\":700,\"x_range\":{\"id\":\"1975\"},\"x_scale\":{\"id\":\"1986\"},\"y_range\":{\"id\":\"1976\"},\"y_scale\":{\"id\":\"1988\"}},\"id\":\"1981\",\"subtype\":\"Figure\",\"type\":\"Plot\"}],\"root_ids\":[\"1973\"]},\"title\":\"Bokeh Application\",\"version\":\"2.4.2\"}};\n",
       "    var render_items = [{\"docid\":\"61718aa3-0328-412e-9b6b-48a8fead42db\",\"root_ids\":[\"1973\"],\"roots\":{\"1973\":\"9fcd2b0a-80b1-4711-80f9-7dcd833d0474\"}}];\n",
       "    root.Bokeh.embed.embed_items_notebook(docs_json, render_items);\n",
       "  }\n",
       "  if (root.Bokeh !== undefined && root.Bokeh.Panel !== undefined) {\n",
       "    embed_document(root);\n",
       "  } else {\n",
       "    var attempts = 0;\n",
       "    var timer = setInterval(function(root) {\n",
       "      if (root.Bokeh !== undefined && root.Bokeh.Panel !== undefined) {\n",
       "        clearInterval(timer);\n",
       "        embed_document(root);\n",
       "      } else if (document.readyState == \"complete\") {\n",
       "        attempts++;\n",
       "        if (attempts > 200) {\n",
       "          clearInterval(timer);\n",
       "          console.log(\"Bokeh: ERROR: Unable to run BokehJS code because BokehJS library is missing\");\n",
       "        }\n",
       "      }\n",
       "    }, 25, root)\n",
       "  }\n",
       "})(window);</script>"
      ],
      "text/plain": [
       ":NdOverlay   [Class]\n",
       "   :Scatter   [TotalCoinsMined]   (TotalCoinSupply)"
      ]
     },
     "execution_count": 67,
     "metadata": {
      "application/vnd.holoviews_exec.v0+json": {
       "id": "1973"
      }
     },
     "output_type": "execute_result"
    }
   ],
   "source": [
    "# Create a hvplot.scatter plot using x=\"TotalCoinsMined\" and y=\"TotalCoinSupply\".\n",
    "plot_df.hvplot.scatter(x=\"TotalCoinsMined\", y=\"TotalCoinSupply\", by=\"Class\")\n"
   ]
  },
  {
   "cell_type": "code",
   "execution_count": null,
   "metadata": {},
   "outputs": [],
   "source": []
  }
 ],
 "metadata": {
  "file_extension": ".py",
  "kernelspec": {
   "display_name": "Python 3 (ipykernel)",
   "language": "python",
   "name": "python3"
  },
  "language_info": {
   "codemirror_mode": {
    "name": "ipython",
    "version": 3
   },
   "file_extension": ".py",
   "mimetype": "text/x-python",
   "name": "python",
   "nbconvert_exporter": "python",
   "pygments_lexer": "ipython3",
   "version": "3.9.12"
  },
  "latex_envs": {
   "LaTeX_envs_menu_present": true,
   "autoclose": false,
   "autocomplete": true,
   "bibliofile": "biblio.bib",
   "cite_by": "apalike",
   "current_citInitial": 1,
   "eqLabelWithNumbers": true,
   "eqNumInitial": 1,
   "hotkeys": {
    "equation": "Ctrl-E",
    "itemize": "Ctrl-I"
   },
   "labels_anchors": false,
   "latex_user_defs": false,
   "report_style_numbering": false,
   "user_envs_cfg": false
  },
  "mimetype": "text/x-python",
  "name": "python",
  "npconvert_exporter": "python",
  "pygments_lexer": "ipython3",
  "version": 3
 },
 "nbformat": 4,
 "nbformat_minor": 2
}
